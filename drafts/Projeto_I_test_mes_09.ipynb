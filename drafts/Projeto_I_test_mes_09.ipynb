{
  "nbformat": 4,
  "nbformat_minor": 2,
  "metadata": {
    "colab": {
      "name": "Projeto - I.ipynb",
      "provenance": [],
      "collapsed_sections": []
    },
    "kernelspec": {
      "name": "python3",
      "display_name": "Python 3.8.0 64-bit"
    },
    "language_info": {
      "name": "python",
      "version": "3.8.0",
      "mimetype": "text/x-python",
      "codemirror_mode": {
        "name": "ipython",
        "version": 3
      },
      "pygments_lexer": "ipython3",
      "nbconvert_exporter": "python",
      "file_extension": ".py"
    },
    "interpreter": {
      "hash": "4cd7ab41f5fca4b9b44701077e38c5ffd31fe66a6cab21e0214b68d958d0e462"
    }
  },
  "cells": [
    {
      "cell_type": "markdown",
      "source": [
        "# Classificar a base"
      ],
      "metadata": {
        "id": "BpSSFDsEmo6d"
      }
    },
    {
      "cell_type": "markdown",
      "source": [
        "* Define X, y"
      ],
      "metadata": {
        "id": "jebQHcMHv6vW"
      }
    },
    {
      "cell_type": "code",
      "execution_count": 14,
      "source": [
        "import pandas as pd\n",
        "from pickle import load\n",
        "\n",
        "scaler_data_set = load(open('models/scaler_data_set.pkl', 'rb'))\n",
        "encoder_period_of_day = load(open('models/encoder_period_of_day.pkl', 'rb'))\n",
        "encoder_day_of_week = load(open('models/encoder_day_of_week.pkl', 'rb'))\n",
        "encoder_day_of_week = load(open('models/encoder_day_of_week.pkl', 'rb'))\n",
        "kmeans = load(open('models/kmeans.pkl', 'rb'))\n",
        "data_set = data_set = pd.read_csv('data/OHA-2021-9.csv')\n",
        "data_set['PeriodOfDayEncoder'] = pd.Series(data=encoder_period_of_day.transform(data_set.PeriodOfDay.values))\n",
        "data_set['DayOfWeekEncoder'] = pd.Series(data=encoder_day_of_week.transform(data_set.DayOfWeek.values))\n",
        "X = scaler_data_set.transform(data_set.loc[:,['PeriodOfDayEncoder', 'DayOfWeekEncoder', 'Watts1', 'Watts2']])\n",
        "y = data_set.WattsTotal\n",
        "data_set['HouseholdRoutinesEncoder'] = kmeans.predict(X)\n",
        "data_set.head()\n"
      ],
      "outputs": [
        {
          "output_type": "stream",
          "name": "stderr",
          "text": [
            "/Library/Frameworks/Python.framework/Versions/3.8/lib/python3.8/site-packages/sklearn/base.py:324: UserWarning: Trying to unpickle estimator StandardScaler from version 0.22.2.post1 when using version 1.0. This might lead to breaking code or invalid results. Use at your own risk. For more info please refer to:\n",
            "https://scikit-learn.org/stable/modules/model_persistence.html#security-maintainability-limitations\n",
            "  warnings.warn(\n",
            "/Library/Frameworks/Python.framework/Versions/3.8/lib/python3.8/site-packages/sklearn/base.py:324: UserWarning: Trying to unpickle estimator LabelEncoder from version 0.22.2.post1 when using version 1.0. This might lead to breaking code or invalid results. Use at your own risk. For more info please refer to:\n",
            "https://scikit-learn.org/stable/modules/model_persistence.html#security-maintainability-limitations\n",
            "  warnings.warn(\n",
            "/Library/Frameworks/Python.framework/Versions/3.8/lib/python3.8/site-packages/sklearn/base.py:324: UserWarning: Trying to unpickle estimator KMeans from version 0.22.2.post1 when using version 1.0. This might lead to breaking code or invalid results. Use at your own risk. For more info please refer to:\n",
            "https://scikit-learn.org/stable/modules/model_persistence.html#security-maintainability-limitations\n",
            "  warnings.warn(\n",
            "/Library/Frameworks/Python.framework/Versions/3.8/lib/python3.8/site-packages/sklearn/base.py:434: UserWarning: X has feature names, but StandardScaler was fitted without feature names\n",
            "  warnings.warn(\n"
          ]
        },
        {
          "output_type": "error",
          "ename": "AttributeError",
          "evalue": "'KMeans' object has no attribute '_n_threads'",
          "traceback": [
            "\u001b[0;31m---------------------------------------------------------------------------\u001b[0m",
            "\u001b[0;31mAttributeError\u001b[0m                            Traceback (most recent call last)",
            "\u001b[0;32m<ipython-input-14-db6e922da985>\u001b[0m in \u001b[0;36m<module>\u001b[0;34m\u001b[0m\n\u001b[1;32m     12\u001b[0m \u001b[0mX\u001b[0m \u001b[0;34m=\u001b[0m \u001b[0mscaler_data_set\u001b[0m\u001b[0;34m.\u001b[0m\u001b[0mtransform\u001b[0m\u001b[0;34m(\u001b[0m\u001b[0mdata_set\u001b[0m\u001b[0;34m.\u001b[0m\u001b[0mloc\u001b[0m\u001b[0;34m[\u001b[0m\u001b[0;34m:\u001b[0m\u001b[0;34m,\u001b[0m\u001b[0;34m[\u001b[0m\u001b[0;34m'PeriodOfDayEncoder'\u001b[0m\u001b[0;34m,\u001b[0m \u001b[0;34m'DayOfWeekEncoder'\u001b[0m\u001b[0;34m,\u001b[0m \u001b[0;34m'Watts1'\u001b[0m\u001b[0;34m,\u001b[0m \u001b[0;34m'Watts2'\u001b[0m\u001b[0;34m]\u001b[0m\u001b[0;34m]\u001b[0m\u001b[0;34m)\u001b[0m\u001b[0;34m\u001b[0m\u001b[0;34m\u001b[0m\u001b[0m\n\u001b[1;32m     13\u001b[0m \u001b[0my\u001b[0m \u001b[0;34m=\u001b[0m \u001b[0mdata_set\u001b[0m\u001b[0;34m.\u001b[0m\u001b[0mWattsTotal\u001b[0m\u001b[0;34m\u001b[0m\u001b[0;34m\u001b[0m\u001b[0m\n\u001b[0;32m---> 14\u001b[0;31m \u001b[0mdata_set\u001b[0m\u001b[0;34m[\u001b[0m\u001b[0;34m'HouseholdRoutinesEncoder'\u001b[0m\u001b[0;34m]\u001b[0m \u001b[0;34m=\u001b[0m \u001b[0mkmeans\u001b[0m\u001b[0;34m.\u001b[0m\u001b[0mpredict\u001b[0m\u001b[0;34m(\u001b[0m\u001b[0mX\u001b[0m\u001b[0;34m)\u001b[0m\u001b[0;34m\u001b[0m\u001b[0;34m\u001b[0m\u001b[0m\n\u001b[0m\u001b[1;32m     15\u001b[0m \u001b[0mdata_set\u001b[0m\u001b[0;34m.\u001b[0m\u001b[0mhead\u001b[0m\u001b[0;34m(\u001b[0m\u001b[0;34m)\u001b[0m\u001b[0;34m\u001b[0m\u001b[0;34m\u001b[0m\u001b[0m\n",
            "\u001b[0;32m/Library/Frameworks/Python.framework/Versions/3.8/lib/python3.8/site-packages/sklearn/cluster/_kmeans.py\u001b[0m in \u001b[0;36mpredict\u001b[0;34m(self, X, sample_weight)\u001b[0m\n\u001b[1;32m   1330\u001b[0m \u001b[0;34m\u001b[0m\u001b[0m\n\u001b[1;32m   1331\u001b[0m         return _labels_inertia_threadpool_limit(\n\u001b[0;32m-> 1332\u001b[0;31m             \u001b[0mX\u001b[0m\u001b[0;34m,\u001b[0m \u001b[0msample_weight\u001b[0m\u001b[0;34m,\u001b[0m \u001b[0mx_squared_norms\u001b[0m\u001b[0;34m,\u001b[0m \u001b[0mself\u001b[0m\u001b[0;34m.\u001b[0m\u001b[0mcluster_centers_\u001b[0m\u001b[0;34m,\u001b[0m \u001b[0mself\u001b[0m\u001b[0;34m.\u001b[0m\u001b[0m_n_threads\u001b[0m\u001b[0;34m\u001b[0m\u001b[0;34m\u001b[0m\u001b[0m\n\u001b[0m\u001b[1;32m   1333\u001b[0m         )[0]\n\u001b[1;32m   1334\u001b[0m \u001b[0;34m\u001b[0m\u001b[0m\n",
            "\u001b[0;31mAttributeError\u001b[0m: 'KMeans' object has no attribute '_n_threads'"
          ]
        }
      ],
      "metadata": {
        "id": "gconXTSymxc0"
      }
    },
    {
      "cell_type": "code",
      "execution_count": null,
      "source": [
        "data_set.loc[data_set.HouseholdRoutinesEncoder == 0, ['Watts1', 'Watts2']].describe()"
      ],
      "outputs": [],
      "metadata": {}
    },
    {
      "cell_type": "code",
      "execution_count": 12,
      "source": [
        "import sklearn\n",
        "sklearn.__version__"
      ],
      "outputs": [
        {
          "output_type": "execute_result",
          "data": {
            "text/plain": [
              "'1.0'"
            ]
          },
          "metadata": {},
          "execution_count": 12
        }
      ],
      "metadata": {}
    },
    {
      "cell_type": "markdown",
      "source": [
        "* Gráfico"
      ],
      "metadata": {
        "id": "dJGKurEawIY7"
      }
    },
    {
      "cell_type": "code",
      "execution_count": 3,
      "source": [
        "from matplotlib import pyplot as plt #para plotar os gráficos\n",
        "plt.scatter(X.sum(axis=1), y) #posicionamento dos eixos x e y\n",
        "plt.grid() #função que desenha a grade no nosso gráfico\n"
      ],
      "outputs": [
        {
          "output_type": "display_data",
          "data": {
            "image/png": "[encoded data removed]",
            "text/plain": [
              "<Figure size 432x288 with 1 Axes>"
            ]
          },
          "metadata": {
            "needs_background": "light"
          }
        }
      ],
      "metadata": {
        "colab": {
          "base_uri": "https://localhost:8080/",
          "height": 265
        },
        "id": "7v9dcViXwLqd",
        "outputId": "0af72a9e-3804-4a17-d204-ede59897fbe9"
      }
    },
    {
      "cell_type": "code",
      "execution_count": 4,
      "source": [
        "\n",
        "from sklearn.cluster import KMeans\n",
        "kmeans = KMeans(n_clusters = 5, init = 'k-means++', max_iter=1000)\n",
        "kmeans.fit(X)"
      ],
      "outputs": [
        {
          "output_type": "execute_result",
          "data": {
            "text/plain": [
              "KMeans(algorithm='auto', copy_x=True, init='k-means++', max_iter=1000,\n",
              "       n_clusters=5, n_init=10, n_jobs=None, precompute_distances='auto',\n",
              "       random_state=None, tol=0.0001, verbose=0)"
            ]
          },
          "metadata": {},
          "execution_count": 4
        }
      ],
      "metadata": {
        "colab": {
          "base_uri": "https://localhost:8080/"
        },
        "id": "2-xxomE00GSf",
        "outputId": "ffee069c-7c99-40fd-df8d-9450bc5713b4"
      }
    },
    {
      "cell_type": "code",
      "execution_count": 27,
      "source": [
        "from pickle import dump\n",
        "dump(kmeans, open('kmeans.pkl', 'wb'))"
      ],
      "outputs": [],
      "metadata": {
        "id": "xKERc_5fOmin"
      }
    },
    {
      "cell_type": "code",
      "execution_count": 94,
      "source": [
        "[kmeans.cluster_centers_[0:3,] , kmeans.labels_[0:10,]]"
      ],
      "outputs": [
        {
          "output_type": "execute_result",
          "data": {
            "text/plain": [
              "[array([[-1.43522978,  1.44130943, -0.20538437, -0.22035497],\n",
              "        [ 1.03093219,  0.92153189,  4.58866265,  0.04515843],\n",
              "        [-0.83945785,  1.12626098, -0.16128824, -0.17896103]]),\n",
              " array([9, 9, 9, 9, 9, 9, 9, 9, 9, 9], dtype=int32)]"
            ]
          },
          "metadata": {},
          "execution_count": 94
        }
      ],
      "metadata": {
        "colab": {
          "base_uri": "https://localhost:8080/"
        },
        "id": "URtaNfoT8lrc",
        "outputId": "7e59d4c1-fb43-42a9-e070-0d47000677d4"
      }
    },
    {
      "cell_type": "code",
      "execution_count": 95,
      "source": [
        "kmeans.predict(X)"
      ],
      "outputs": [
        {
          "output_type": "execute_result",
          "data": {
            "text/plain": [
              "array([ 9,  9,  9, ..., 19, 19, 19], dtype=int32)"
            ]
          },
          "metadata": {},
          "execution_count": 95
        }
      ],
      "metadata": {
        "colab": {
          "base_uri": "https://localhost:8080/"
        },
        "id": "BffLcfoQ-S5M",
        "outputId": "df50aad4-abce-4633-d72f-beb43fff80e4"
      }
    },
    {
      "cell_type": "code",
      "execution_count": 5,
      "source": [
        "import matplotlib.pyplot as plt\n",
        "\n",
        "x_precit = kmeans.predict(X)\n",
        "\n",
        "plt.scatter(x_precit, y , s = 100, c = kmeans.labels_)\n",
        "plt.scatter(kmeans.cluster_centers_[:, 1], kmeans.cluster_centers_[:, 0], s = 300, c = 'red',label = 'Centroids')\n",
        "plt.title('Iris Clusters and Centroids')\n",
        "plt.xlabel('SepalLength')\n",
        "plt.ylabel('SepalWidth')\n",
        "plt.legend()\n",
        "\n",
        "plt.show()"
      ],
      "outputs": [
        {
          "output_type": "display_data",
          "data": {
            "image/png": "[encoded data removed]",
            "text/plain": [
              "<Figure size 432x288 with 1 Axes>"
            ]
          },
          "metadata": {
            "needs_background": "light"
          }
        }
      ],
      "metadata": {
        "colab": {
          "base_uri": "https://localhost:8080/",
          "height": 295
        },
        "id": "yPJboKK6-hO6",
        "outputId": "158114a3-2e2a-4b8e-e563-213a94ce0380"
      }
    },
    {
      "cell_type": "code",
      "execution_count": 6,
      "source": [
        "data_set['HouseholdRoutinesEncoder'] = kmeans.predict(X)"
      ],
      "outputs": [],
      "metadata": {
        "id": "x0PjiS3qGLle"
      }
    },
    {
      "cell_type": "code",
      "execution_count": 7,
      "source": [
        "data_set.head()"
      ],
      "outputs": [
        {
          "output_type": "execute_result",
          "data": {
            "text/html": [
              "<div>\n",
              "<style scoped>\n",
              "    .dataframe tbody tr th:only-of-type {\n",
              "        vertical-align: middle;\n",
              "    }\n",
              "\n",
              "    .dataframe tbody tr th {\n",
              "        vertical-align: top;\n",
              "    }\n",
              "\n",
              "    .dataframe thead th {\n",
              "        text-align: right;\n",
              "    }\n",
              "</style>\n",
              "<table border=\"1\" class=\"dataframe\">\n",
              "  <thead>\n",
              "    <tr style=\"text-align: right;\">\n",
              "      <th></th>\n",
              "      <th>Day</th>\n",
              "      <th>Hour</th>\n",
              "      <th>PeriodOfDay</th>\n",
              "      <th>DayOfWeek</th>\n",
              "      <th>UnixTime</th>\n",
              "      <th>Duration</th>\n",
              "      <th>Watts1</th>\n",
              "      <th>Watts2</th>\n",
              "      <th>Watts3</th>\n",
              "      <th>WattsTotal</th>\n",
              "      <th>PeriodOfDayEncoder</th>\n",
              "      <th>DayOfWeekEncoder</th>\n",
              "      <th>HouseholdRoutinesEncoder</th>\n",
              "    </tr>\n",
              "  </thead>\n",
              "  <tbody>\n",
              "    <tr>\n",
              "      <th>0</th>\n",
              "      <td>1</td>\n",
              "      <td>0</td>\n",
              "      <td>LateNight</td>\n",
              "      <td>Sunday</td>\n",
              "      <td>1627786806</td>\n",
              "      <td>14</td>\n",
              "      <td>163.01604</td>\n",
              "      <td>272.74854</td>\n",
              "      <td>0</td>\n",
              "      <td>435.76460</td>\n",
              "      <td>2</td>\n",
              "      <td>3</td>\n",
              "      <td>2</td>\n",
              "    </tr>\n",
              "    <tr>\n",
              "      <th>1</th>\n",
              "      <td>1</td>\n",
              "      <td>0</td>\n",
              "      <td>LateNight</td>\n",
              "      <td>Sunday</td>\n",
              "      <td>1627786820</td>\n",
              "      <td>14</td>\n",
              "      <td>155.36642</td>\n",
              "      <td>273.27606</td>\n",
              "      <td>0</td>\n",
              "      <td>428.64252</td>\n",
              "      <td>2</td>\n",
              "      <td>3</td>\n",
              "      <td>2</td>\n",
              "    </tr>\n",
              "    <tr>\n",
              "      <th>2</th>\n",
              "      <td>1</td>\n",
              "      <td>0</td>\n",
              "      <td>LateNight</td>\n",
              "      <td>Sunday</td>\n",
              "      <td>1627786834</td>\n",
              "      <td>14</td>\n",
              "      <td>155.10265</td>\n",
              "      <td>274.59497</td>\n",
              "      <td>0</td>\n",
              "      <td>429.69766</td>\n",
              "      <td>2</td>\n",
              "      <td>3</td>\n",
              "      <td>2</td>\n",
              "    </tr>\n",
              "    <tr>\n",
              "      <th>3</th>\n",
              "      <td>1</td>\n",
              "      <td>0</td>\n",
              "      <td>LateNight</td>\n",
              "      <td>Sunday</td>\n",
              "      <td>1627786848</td>\n",
              "      <td>14</td>\n",
              "      <td>156.15776</td>\n",
              "      <td>283.82730</td>\n",
              "      <td>0</td>\n",
              "      <td>439.98505</td>\n",
              "      <td>2</td>\n",
              "      <td>3</td>\n",
              "      <td>2</td>\n",
              "    </tr>\n",
              "    <tr>\n",
              "      <th>4</th>\n",
              "      <td>1</td>\n",
              "      <td>0</td>\n",
              "      <td>LateNight</td>\n",
              "      <td>Sunday</td>\n",
              "      <td>1627786862</td>\n",
              "      <td>14</td>\n",
              "      <td>157.74045</td>\n",
              "      <td>268.52805</td>\n",
              "      <td>0</td>\n",
              "      <td>426.26850</td>\n",
              "      <td>2</td>\n",
              "      <td>3</td>\n",
              "      <td>2</td>\n",
              "    </tr>\n",
              "  </tbody>\n",
              "</table>\n",
              "</div>"
            ],
            "text/plain": [
              "   Day  Hour  ... DayOfWeekEncoder HouseholdRoutinesEncoder\n",
              "0    1     0  ...                3                        2\n",
              "1    1     0  ...                3                        2\n",
              "2    1     0  ...                3                        2\n",
              "3    1     0  ...                3                        2\n",
              "4    1     0  ...                3                        2\n",
              "\n",
              "[5 rows x 13 columns]"
            ]
          },
          "metadata": {},
          "execution_count": 7
        }
      ],
      "metadata": {
        "colab": {
          "base_uri": "https://localhost:8080/",
          "height": 226
        },
        "id": "2BCUb_7QHl3f",
        "outputId": "5823e628-246d-4732-da72-2c1cc75a21ab"
      }
    },
    {
      "cell_type": "code",
      "execution_count": 9,
      "source": [
        "import matplotlib.pyplot as plt\n",
        "\n",
        "plt.scatter(data_set.HouseholdRoutinesEncoder, data_set.WattsTotal , s = 100, c = kmeans.labels_)\n",
        "plt.title('Iris Clusters and Centroids')\n",
        "plt.xlabel('SepalLength')\n",
        "plt.ylabel('SepalWidth')\n",
        "plt.legend()\n",
        "\n",
        "plt.show()"
      ],
      "outputs": [
        {
          "output_type": "stream",
          "name": "stderr",
          "text": [
            "No handles with labels found to put in legend.\n"
          ]
        },
        {
          "output_type": "display_data",
          "data": {
            "image/png": "[encoded data removed]",
            "text/plain": [
              "<Figure size 432x288 with 1 Axes>"
            ]
          },
          "metadata": {
            "needs_background": "light"
          }
        }
      ],
      "metadata": {
        "colab": {
          "base_uri": "https://localhost:8080/",
          "height": 312
        },
        "id": "3ArjdOTQ8vkk",
        "outputId": "23591ef6-168c-44aa-f563-7eb28ecdb828"
      }
    },
    {
      "cell_type": "code",
      "execution_count": 26,
      "source": [
        "data_set.loc[data_set.HouseholdRoutinesEncoder == 0, ['Watts1', 'Watts2']].describe()"
      ],
      "outputs": [
        {
          "output_type": "execute_result",
          "data": {
            "text/html": [
              "<div>\n",
              "<style scoped>\n",
              "    .dataframe tbody tr th:only-of-type {\n",
              "        vertical-align: middle;\n",
              "    }\n",
              "\n",
              "    .dataframe tbody tr th {\n",
              "        vertical-align: top;\n",
              "    }\n",
              "\n",
              "    .dataframe thead th {\n",
              "        text-align: right;\n",
              "    }\n",
              "</style>\n",
              "<table border=\"1\" class=\"dataframe\">\n",
              "  <thead>\n",
              "    <tr style=\"text-align: right;\">\n",
              "      <th></th>\n",
              "      <th>Watts1</th>\n",
              "      <th>Watts2</th>\n",
              "    </tr>\n",
              "  </thead>\n",
              "  <tbody>\n",
              "    <tr>\n",
              "      <th>count</th>\n",
              "      <td>49685.000000</td>\n",
              "      <td>49685.000000</td>\n",
              "    </tr>\n",
              "    <tr>\n",
              "      <th>mean</th>\n",
              "      <td>133.387917</td>\n",
              "      <td>235.583622</td>\n",
              "    </tr>\n",
              "    <tr>\n",
              "      <th>std</th>\n",
              "      <td>82.383891</td>\n",
              "      <td>249.157358</td>\n",
              "    </tr>\n",
              "    <tr>\n",
              "      <th>min</th>\n",
              "      <td>39.039440</td>\n",
              "      <td>47.216618</td>\n",
              "    </tr>\n",
              "    <tr>\n",
              "      <th>25%</th>\n",
              "      <td>75.968640</td>\n",
              "      <td>135.846710</td>\n",
              "    </tr>\n",
              "    <tr>\n",
              "      <th>50%</th>\n",
              "      <td>121.866356</td>\n",
              "      <td>216.827160</td>\n",
              "    </tr>\n",
              "    <tr>\n",
              "      <th>75%</th>\n",
              "      <td>159.586910</td>\n",
              "      <td>268.000500</td>\n",
              "    </tr>\n",
              "    <tr>\n",
              "      <th>max</th>\n",
              "      <td>1544.695700</td>\n",
              "      <td>4829.020500</td>\n",
              "    </tr>\n",
              "  </tbody>\n",
              "</table>\n",
              "</div>"
            ],
            "text/plain": [
              "             Watts1        Watts2\n",
              "count  49685.000000  49685.000000\n",
              "mean     133.387917    235.583622\n",
              "std       82.383891    249.157358\n",
              "min       39.039440     47.216618\n",
              "25%       75.968640    135.846710\n",
              "50%      121.866356    216.827160\n",
              "75%      159.586910    268.000500\n",
              "max     1544.695700   4829.020500"
            ]
          },
          "metadata": {},
          "execution_count": 26
        }
      ],
      "metadata": {
        "colab": {
          "base_uri": "https://localhost:8080/",
          "height": 300
        },
        "id": "hw5CINuWIi1n",
        "outputId": "f67129f1-eabd-4b46-e850-de34b2c9f52f"
      }
    },
    {
      "cell_type": "code",
      "execution_count": null,
      "source": [],
      "outputs": [],
      "metadata": {
        "id": "DwvHvSy3Hu4-"
      }
    }
  ]
}