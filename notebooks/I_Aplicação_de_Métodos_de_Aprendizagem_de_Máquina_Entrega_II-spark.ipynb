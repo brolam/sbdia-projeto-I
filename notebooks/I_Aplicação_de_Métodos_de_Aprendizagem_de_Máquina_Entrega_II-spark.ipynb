{
 "cells": [
  {
   "cell_type": "markdown",
   "metadata": {
    "id": "wMZwE9g72qgH"
   },
   "source": [
    "**Identificação**: BRENO ALAN ALVES MARQUES (2462286)\n",
    "\n",
    "# [Domótica] Classificar as tarefas mais rotineiras de uma habitação\n",
    "## Pré-processamento\n"
   ]
  },
  {
   "cell_type": "markdown",
   "metadata": {
    "tags": []
   },
   "source": [
    "## Iniciando a sessão no Spark"
   ]
  },
  {
   "cell_type": "code",
   "execution_count": 10,
   "metadata": {
    "tags": []
   },
   "outputs": [],
   "source": [
    "from pyspark.sql import SparkSession\n",
    "\n",
    "spark = SparkSession \\\n",
    "    .builder \\\n",
    "    .appName(\"how to read csv file\") \\\n",
    "    .getOrCreate()"
   ]
  },
  {
   "cell_type": "markdown",
   "metadata": {
    "id": "95-sbiBI4e90"
   },
   "source": [
    "### Iniciando DataSet "
   ]
  },
  {
   "cell_type": "markdown",
   "metadata": {
    "id": "DyVThnOC3Eyh"
   },
   "source": [
    "* Carregando o DataSet"
   ]
  },
  {
   "cell_type": "code",
   "execution_count": 11,
   "metadata": {
    "id": "j8_mtpO12j01",
    "tags": []
   },
   "outputs": [],
   "source": [
    "# import pandas as pd\n",
    "#data_set_2021_8 = pd.read_csv('https://github.com/brolam/sbdia-projeto-I/raw/main/data/OHA-2021-8.csv')\n",
    "\n",
    "data_set_2021_8 = spark.read \\\n",
    ".option(\"header\",\"true\") \\\n",
    ".option(\"inferSchema\",\"true\") \\\n",
    ".csv('../data/OHA-2021-8.csv')"
   ]
  },
  {
   "cell_type": "markdown",
   "metadata": {
    "id": "yGkHD0uh32ra"
   },
   "source": [
    "* Exibir atributos do DataSet"
   ]
  },
  {
   "cell_type": "code",
   "execution_count": 12,
   "metadata": {
    "colab": {
     "base_uri": "https://localhost:8080/",
     "height": 206
    },
    "id": "tMQlrEiP39mr",
    "outputId": "55cbc745-a18d-4963-cfd3-c8a77ea64c58",
    "tags": []
   },
   "outputs": [
    {
     "name": "stdout",
     "output_type": "stream",
     "text": [
      "+---+----+-----------+---------+----------+--------+---------+---------+------+----------+\n",
      "|Day|Hour|PeriodOfDay|DayOfWeek|  UnixTime|Duration|   Watts1|   Watts2|Watts3|WattsTotal|\n",
      "+---+----+-----------+---------+----------+--------+---------+---------+------+----------+\n",
      "|  1|   0|  LateNight|   Sunday|1627786806|      14|163.01604|272.74854|     0|  435.7646|\n",
      "|  1|   0|  LateNight|   Sunday|1627786820|      14|155.36642|273.27606|     0| 428.64252|\n",
      "+---+----+-----------+---------+----------+--------+---------+---------+------+----------+\n",
      "only showing top 2 rows\n",
      "\n"
     ]
    }
   ],
   "source": [
    "data_set_2021_8.show(2)"
   ]
  },
  {
   "cell_type": "markdown",
   "metadata": {
    "id": "KTd9YsVQ4XA1"
   },
   "source": [
    "### Codificação de rótulo - as colunas PeriodOfDay e DayOfWeek passarão pelo processo de Codificação de rótulo"
   ]
  },
  {
   "cell_type": "markdown",
   "metadata": {
    "id": "hgBChGGU5hzh"
   },
   "source": [
    "* Criar LabelEncoder para os atributos PeriodOfDay e DayOfWeek"
   ]
  },
  {
   "cell_type": "code",
   "execution_count": 13,
   "metadata": {
    "tags": []
   },
   "outputs": [
    {
     "name": "stdout",
     "output_type": "stream",
     "text": [
      "+---+----+-----------+---------+----------+--------+---------+---------+------+----------+---------------+-------------+\n",
      "|Day|Hour|PeriodOfDay|DayOfWeek|  UnixTime|Duration|   Watts1|   Watts2|Watts3|WattsTotal|PeriodOfDayCode|DayOfWeekCode|\n",
      "+---+----+-----------+---------+----------+--------+---------+---------+------+----------+---------------+-------------+\n",
      "|  1|   0|  LateNight|   Sunday|1627786806|      14|163.01604|272.74854|     0|  435.7646|            0.0|          2.0|\n",
      "|  1|   0|  LateNight|   Sunday|1627786820|      14|155.36642|273.27606|     0| 428.64252|            0.0|          2.0|\n",
      "+---+----+-----------+---------+----------+--------+---------+---------+------+----------+---------------+-------------+\n",
      "only showing top 2 rows\n",
      "\n"
     ]
    }
   ],
   "source": [
    "from pyspark.ml.feature import StringIndexer\n",
    "\n",
    "encoder_period_of_day = StringIndexer(inputCol=\"PeriodOfDay\", outputCol=\"PeriodOfDayCode\", stringOrderType=\"frequencyDesc\")\n",
    "encoder_day_of_week = StringIndexer(inputCol=\"DayOfWeek\", outputCol=\"DayOfWeekCode\", stringOrderType=\"frequencyDesc\")\n",
    "\n",
    "encoder_period_of_day_model = encoder_period_of_day.fit(data_set_2021_8)\n",
    "encoder_day_of_week_model = encoder_day_of_week.fit(data_set_2021_8)\n",
    "\n",
    "data_set_2021_8 = encoder_period_of_day_model.transform(data_set_2021_8)\n",
    "data_set_2021_8 = encoder_day_of_week_model.transform(data_set_2021_8)\n",
    "\n",
    "data_set_2021_8.show(2)\n",
    "\n"
   ]
  },
  {
   "cell_type": "markdown",
   "metadata": {
    "id": "srvT_voB511z"
   },
   "source": [
    "* Salvar LabelEncoder"
   ]
  },
  {
   "cell_type": "code",
   "execution_count": 9,
   "metadata": {
    "id": "2HLkiTco503i",
    "tags": []
   },
   "outputs": [
    {
     "name": "stdout",
     "output_type": "stream",
     "text": [
      "root\n",
      " |-- index: long (nullable = true)\n",
      " |-- label: string (nullable = true)\n",
      "\n",
      "+-----+------------+\n",
      "|index|label       |\n",
      "+-----+------------+\n",
      "|0    |LateNight   |\n",
      "|1    |EarlyMorning|\n",
      "|2    |Morning     |\n",
      "|3    |Noon        |\n",
      "|4    |Eve         |\n",
      "|5    |Night       |\n",
      "+-----+------------+\n",
      "\n"
     ]
    },
    {
     "ename": "Py4JJavaError",
     "evalue": "An error occurred while calling o252.csv.\n: ExitCodeException exitCode=1: chmod: changing permissions of '/home/jovyan/work/sbdia-projeto-I/models/dataframe_encoder_period_of_day.csv': Operation not permitted\n\n\tat org.apache.hadoop.util.Shell.runCommand(Shell.java:1007)\n\tat org.apache.hadoop.util.Shell.run(Shell.java:900)\n\tat org.apache.hadoop.util.Shell$ShellCommandExecutor.execute(Shell.java:1212)\n\tat org.apache.hadoop.util.Shell.execCommand(Shell.java:1306)\n\tat org.apache.hadoop.util.Shell.execCommand(Shell.java:1288)\n\tat org.apache.hadoop.fs.RawLocalFileSystem.setPermission(RawLocalFileSystem.java:978)\n\tat org.apache.hadoop.fs.RawLocalFileSystem.mkOneDirWithMode(RawLocalFileSystem.java:660)\n\tat org.apache.hadoop.fs.RawLocalFileSystem.mkdirsWithOptionalPermission(RawLocalFileSystem.java:700)\n\tat org.apache.hadoop.fs.RawLocalFileSystem.mkdirs(RawLocalFileSystem.java:672)\n\tat org.apache.hadoop.fs.RawLocalFileSystem.mkdirsWithOptionalPermission(RawLocalFileSystem.java:699)\n\tat org.apache.hadoop.fs.RawLocalFileSystem.mkdirs(RawLocalFileSystem.java:672)\n\tat org.apache.hadoop.fs.RawLocalFileSystem.mkdirsWithOptionalPermission(RawLocalFileSystem.java:699)\n\tat org.apache.hadoop.fs.RawLocalFileSystem.mkdirs(RawLocalFileSystem.java:672)\n\tat org.apache.hadoop.fs.ChecksumFileSystem.mkdirs(ChecksumFileSystem.java:788)\n\tat org.apache.hadoop.mapreduce.lib.output.FileOutputCommitter.setupJob(FileOutputCommitter.java:356)\n\tat org.apache.spark.internal.io.HadoopMapReduceCommitProtocol.setupJob(HadoopMapReduceCommitProtocol.scala:188)\n\tat org.apache.spark.sql.execution.datasources.FileFormatWriter$.writeAndCommit(FileFormatWriter.scala:269)\n\tat org.apache.spark.sql.execution.datasources.FileFormatWriter$.executeWrite(FileFormatWriter.scala:304)\n\tat org.apache.spark.sql.execution.datasources.FileFormatWriter$.write(FileFormatWriter.scala:190)\n\tat org.apache.spark.sql.execution.datasources.InsertIntoHadoopFsRelationCommand.run(InsertIntoHadoopFsRelationCommand.scala:190)\n\tat org.apache.spark.sql.execution.command.DataWritingCommandExec.sideEffectResult$lzycompute(commands.scala:113)\n\tat org.apache.spark.sql.execution.command.DataWritingCommandExec.sideEffectResult(commands.scala:111)\n\tat org.apache.spark.sql.execution.command.DataWritingCommandExec.executeCollect(commands.scala:125)\n\tat org.apache.spark.sql.execution.QueryExecution$$anonfun$eagerlyExecuteCommands$1.$anonfun$applyOrElse$1(QueryExecution.scala:98)\n\tat org.apache.spark.sql.execution.SQLExecution$.$anonfun$withNewExecutionId$6(SQLExecution.scala:118)\n\tat org.apache.spark.sql.execution.SQLExecution$.withSQLConfPropagated(SQLExecution.scala:195)\n\tat org.apache.spark.sql.execution.SQLExecution$.$anonfun$withNewExecutionId$1(SQLExecution.scala:103)\n\tat org.apache.spark.sql.SparkSession.withActive(SparkSession.scala:827)\n\tat org.apache.spark.sql.execution.SQLExecution$.withNewExecutionId(SQLExecution.scala:65)\n\tat org.apache.spark.sql.execution.QueryExecution$$anonfun$eagerlyExecuteCommands$1.applyOrElse(QueryExecution.scala:98)\n\tat org.apache.spark.sql.execution.QueryExecution$$anonfun$eagerlyExecuteCommands$1.applyOrElse(QueryExecution.scala:94)\n\tat org.apache.spark.sql.catalyst.trees.TreeNode.$anonfun$transformDownWithPruning$1(TreeNode.scala:512)\n\tat org.apache.spark.sql.catalyst.trees.CurrentOrigin$.withOrigin(TreeNode.scala:104)\n\tat org.apache.spark.sql.catalyst.trees.TreeNode.transformDownWithPruning(TreeNode.scala:512)\n\tat org.apache.spark.sql.catalyst.plans.logical.LogicalPlan.org$apache$spark$sql$catalyst$plans$logical$AnalysisHelper$$super$transformDownWithPruning(LogicalPlan.scala:31)\n\tat org.apache.spark.sql.catalyst.plans.logical.AnalysisHelper.transformDownWithPruning(AnalysisHelper.scala:267)\n\tat org.apache.spark.sql.catalyst.plans.logical.AnalysisHelper.transformDownWithPruning$(AnalysisHelper.scala:263)\n\tat org.apache.spark.sql.catalyst.plans.logical.LogicalPlan.transformDownWithPruning(LogicalPlan.scala:31)\n\tat org.apache.spark.sql.catalyst.plans.logical.LogicalPlan.transformDownWithPruning(LogicalPlan.scala:31)\n\tat org.apache.spark.sql.catalyst.trees.TreeNode.transformDown(TreeNode.scala:488)\n\tat org.apache.spark.sql.execution.QueryExecution.eagerlyExecuteCommands(QueryExecution.scala:94)\n\tat org.apache.spark.sql.execution.QueryExecution.commandExecuted$lzycompute(QueryExecution.scala:81)\n\tat org.apache.spark.sql.execution.QueryExecution.commandExecuted(QueryExecution.scala:79)\n\tat org.apache.spark.sql.execution.QueryExecution.assertCommandExecuted(QueryExecution.scala:133)\n\tat org.apache.spark.sql.DataFrameWriter.runCommand(DataFrameWriter.scala:856)\n\tat org.apache.spark.sql.DataFrameWriter.saveToV1Source(DataFrameWriter.scala:387)\n\tat org.apache.spark.sql.DataFrameWriter.saveInternal(DataFrameWriter.scala:360)\n\tat org.apache.spark.sql.DataFrameWriter.save(DataFrameWriter.scala:239)\n\tat org.apache.spark.sql.DataFrameWriter.csv(DataFrameWriter.scala:847)\n\tat java.base/jdk.internal.reflect.NativeMethodAccessorImpl.invoke0(Native Method)\n\tat java.base/jdk.internal.reflect.NativeMethodAccessorImpl.invoke(NativeMethodAccessorImpl.java:77)\n\tat java.base/jdk.internal.reflect.DelegatingMethodAccessorImpl.invoke(DelegatingMethodAccessorImpl.java:43)\n\tat java.base/java.lang.reflect.Method.invoke(Method.java:568)\n\tat py4j.reflection.MethodInvoker.invoke(MethodInvoker.java:244)\n\tat py4j.reflection.ReflectionEngine.invoke(ReflectionEngine.java:374)\n\tat py4j.Gateway.invoke(Gateway.java:282)\n\tat py4j.commands.AbstractCommand.invokeMethod(AbstractCommand.java:132)\n\tat py4j.commands.CallCommand.execute(CallCommand.java:79)\n\tat py4j.ClientServerConnection.waitForCommands(ClientServerConnection.java:182)\n\tat py4j.ClientServerConnection.run(ClientServerConnection.java:106)\n\tat java.base/java.lang.Thread.run(Thread.java:833)\n",
     "output_type": "error",
     "traceback": [
      "\u001b[0;31m\u001b[0m",
      "\u001b[0;31mPy4JJavaError\u001b[0mTraceback (most recent call last)",
      "Cell \u001b[0;32mIn[9], line 7\u001b[0m\n\u001b[1;32m      5\u001b[0m dataframe_encoder_period_of_day\u001b[38;5;241m.\u001b[39mprintSchema()\n\u001b[1;32m      6\u001b[0m dataframe_encoder_period_of_day\u001b[38;5;241m.\u001b[39mshow(truncate\u001b[38;5;241m=\u001b[39m\u001b[38;5;28;01mFalse\u001b[39;00m)\n\u001b[0;32m----> 7\u001b[0m \u001b[43mdataframe_encoder_period_of_day\u001b[49m\u001b[38;5;241;43m.\u001b[39;49m\u001b[43mwrite\u001b[49m\u001b[38;5;241;43m.\u001b[39;49m\u001b[43mcsv\u001b[49m\u001b[43m(\u001b[49m\u001b[38;5;124;43m\"\u001b[39;49m\u001b[38;5;124;43m../models/dataframe_encoder_period_of_day.csv\u001b[39;49m\u001b[38;5;124;43m\"\u001b[39;49m\u001b[43m)\u001b[49m\n",
      "File \u001b[0;32m/usr/local/spark/python/pyspark/sql/readwriter.py:1799\u001b[0m, in \u001b[0;36mDataFrameWriter.csv\u001b[0;34m(self, path, mode, compression, sep, quote, escape, header, nullValue, escapeQuotes, quoteAll, dateFormat, timestampFormat, ignoreLeadingWhiteSpace, ignoreTrailingWhiteSpace, charToEscapeQuoteEscaping, encoding, emptyValue, lineSep)\u001b[0m\n\u001b[1;32m   1780\u001b[0m \u001b[38;5;28mself\u001b[39m\u001b[38;5;241m.\u001b[39mmode(mode)\n\u001b[1;32m   1781\u001b[0m \u001b[38;5;28mself\u001b[39m\u001b[38;5;241m.\u001b[39m_set_opts(\n\u001b[1;32m   1782\u001b[0m     compression\u001b[38;5;241m=\u001b[39mcompression,\n\u001b[1;32m   1783\u001b[0m     sep\u001b[38;5;241m=\u001b[39msep,\n\u001b[0;32m   (...)\u001b[0m\n\u001b[1;32m   1797\u001b[0m     lineSep\u001b[38;5;241m=\u001b[39mlineSep,\n\u001b[1;32m   1798\u001b[0m )\n\u001b[0;32m-> 1799\u001b[0m \u001b[38;5;28;43mself\u001b[39;49m\u001b[38;5;241;43m.\u001b[39;49m\u001b[43m_jwrite\u001b[49m\u001b[38;5;241;43m.\u001b[39;49m\u001b[43mcsv\u001b[49m\u001b[43m(\u001b[49m\u001b[43mpath\u001b[49m\u001b[43m)\u001b[49m\n",
      "File \u001b[0;32m/usr/local/spark/python/lib/py4j-0.10.9.7-src.zip/py4j/java_gateway.py:1322\u001b[0m, in \u001b[0;36mJavaMember.__call__\u001b[0;34m(self, *args)\u001b[0m\n\u001b[1;32m   1316\u001b[0m command \u001b[38;5;241m=\u001b[39m proto\u001b[38;5;241m.\u001b[39mCALL_COMMAND_NAME \u001b[38;5;241m+\u001b[39m\\\n\u001b[1;32m   1317\u001b[0m     \u001b[38;5;28mself\u001b[39m\u001b[38;5;241m.\u001b[39mcommand_header \u001b[38;5;241m+\u001b[39m\\\n\u001b[1;32m   1318\u001b[0m     args_command \u001b[38;5;241m+\u001b[39m\\\n\u001b[1;32m   1319\u001b[0m     proto\u001b[38;5;241m.\u001b[39mEND_COMMAND_PART\n\u001b[1;32m   1321\u001b[0m answer \u001b[38;5;241m=\u001b[39m \u001b[38;5;28mself\u001b[39m\u001b[38;5;241m.\u001b[39mgateway_client\u001b[38;5;241m.\u001b[39msend_command(command)\n\u001b[0;32m-> 1322\u001b[0m return_value \u001b[38;5;241m=\u001b[39m \u001b[43mget_return_value\u001b[49m\u001b[43m(\u001b[49m\n\u001b[1;32m   1323\u001b[0m \u001b[43m    \u001b[49m\u001b[43manswer\u001b[49m\u001b[43m,\u001b[49m\u001b[43m \u001b[49m\u001b[38;5;28;43mself\u001b[39;49m\u001b[38;5;241;43m.\u001b[39;49m\u001b[43mgateway_client\u001b[49m\u001b[43m,\u001b[49m\u001b[43m \u001b[49m\u001b[38;5;28;43mself\u001b[39;49m\u001b[38;5;241;43m.\u001b[39;49m\u001b[43mtarget_id\u001b[49m\u001b[43m,\u001b[49m\u001b[43m \u001b[49m\u001b[38;5;28;43mself\u001b[39;49m\u001b[38;5;241;43m.\u001b[39;49m\u001b[43mname\u001b[49m\u001b[43m)\u001b[49m\n\u001b[1;32m   1325\u001b[0m \u001b[38;5;28;01mfor\u001b[39;00m temp_arg \u001b[38;5;129;01min\u001b[39;00m temp_args:\n\u001b[1;32m   1326\u001b[0m     \u001b[38;5;28;01mif\u001b[39;00m \u001b[38;5;28mhasattr\u001b[39m(temp_arg, \u001b[38;5;124m\"\u001b[39m\u001b[38;5;124m_detach\u001b[39m\u001b[38;5;124m\"\u001b[39m):\n",
      "File \u001b[0;32m/usr/local/spark/python/pyspark/errors/exceptions/captured.py:169\u001b[0m, in \u001b[0;36mcapture_sql_exception.<locals>.deco\u001b[0;34m(*a, **kw)\u001b[0m\n\u001b[1;32m    167\u001b[0m \u001b[38;5;28;01mdef\u001b[39;00m \u001b[38;5;21mdeco\u001b[39m(\u001b[38;5;241m*\u001b[39ma: Any, \u001b[38;5;241m*\u001b[39m\u001b[38;5;241m*\u001b[39mkw: Any) \u001b[38;5;241m-\u001b[39m\u001b[38;5;241m>\u001b[39m Any:\n\u001b[1;32m    168\u001b[0m     \u001b[38;5;28;01mtry\u001b[39;00m:\n\u001b[0;32m--> 169\u001b[0m         \u001b[38;5;28;01mreturn\u001b[39;00m \u001b[43mf\u001b[49m\u001b[43m(\u001b[49m\u001b[38;5;241;43m*\u001b[39;49m\u001b[43ma\u001b[49m\u001b[43m,\u001b[49m\u001b[43m \u001b[49m\u001b[38;5;241;43m*\u001b[39;49m\u001b[38;5;241;43m*\u001b[39;49m\u001b[43mkw\u001b[49m\u001b[43m)\u001b[49m\n\u001b[1;32m    170\u001b[0m     \u001b[38;5;28;01mexcept\u001b[39;00m Py4JJavaError \u001b[38;5;28;01mas\u001b[39;00m e:\n\u001b[1;32m    171\u001b[0m         converted \u001b[38;5;241m=\u001b[39m convert_exception(e\u001b[38;5;241m.\u001b[39mjava_exception)\n",
      "File \u001b[0;32m/usr/local/spark/python/lib/py4j-0.10.9.7-src.zip/py4j/protocol.py:326\u001b[0m, in \u001b[0;36mget_return_value\u001b[0;34m(answer, gateway_client, target_id, name)\u001b[0m\n\u001b[1;32m    324\u001b[0m value \u001b[38;5;241m=\u001b[39m OUTPUT_CONVERTER[\u001b[38;5;28mtype\u001b[39m](answer[\u001b[38;5;241m2\u001b[39m:], gateway_client)\n\u001b[1;32m    325\u001b[0m \u001b[38;5;28;01mif\u001b[39;00m answer[\u001b[38;5;241m1\u001b[39m] \u001b[38;5;241m==\u001b[39m REFERENCE_TYPE:\n\u001b[0;32m--> 326\u001b[0m     \u001b[38;5;28;01mraise\u001b[39;00m Py4JJavaError(\n\u001b[1;32m    327\u001b[0m         \u001b[38;5;124m\"\u001b[39m\u001b[38;5;124mAn error occurred while calling \u001b[39m\u001b[38;5;132;01m{0}\u001b[39;00m\u001b[38;5;132;01m{1}\u001b[39;00m\u001b[38;5;132;01m{2}\u001b[39;00m\u001b[38;5;124m.\u001b[39m\u001b[38;5;130;01m\\n\u001b[39;00m\u001b[38;5;124m\"\u001b[39m\u001b[38;5;241m.\u001b[39m\n\u001b[1;32m    328\u001b[0m         \u001b[38;5;28mformat\u001b[39m(target_id, \u001b[38;5;124m\"\u001b[39m\u001b[38;5;124m.\u001b[39m\u001b[38;5;124m\"\u001b[39m, name), value)\n\u001b[1;32m    329\u001b[0m \u001b[38;5;28;01melse\u001b[39;00m:\n\u001b[1;32m    330\u001b[0m     \u001b[38;5;28;01mraise\u001b[39;00m Py4JError(\n\u001b[1;32m    331\u001b[0m         \u001b[38;5;124m\"\u001b[39m\u001b[38;5;124mAn error occurred while calling \u001b[39m\u001b[38;5;132;01m{0}\u001b[39;00m\u001b[38;5;132;01m{1}\u001b[39;00m\u001b[38;5;132;01m{2}\u001b[39;00m\u001b[38;5;124m. Trace:\u001b[39m\u001b[38;5;130;01m\\n\u001b[39;00m\u001b[38;5;132;01m{3}\u001b[39;00m\u001b[38;5;130;01m\\n\u001b[39;00m\u001b[38;5;124m\"\u001b[39m\u001b[38;5;241m.\u001b[39m\n\u001b[1;32m    332\u001b[0m         \u001b[38;5;28mformat\u001b[39m(target_id, \u001b[38;5;124m\"\u001b[39m\u001b[38;5;124m.\u001b[39m\u001b[38;5;124m\"\u001b[39m, name, value))\n",
      "\u001b[0;31mPy4JJavaError\u001b[0m: An error occurred while calling o252.csv.\n: ExitCodeException exitCode=1: chmod: changing permissions of '/home/jovyan/work/sbdia-projeto-I/models/dataframe_encoder_period_of_day.csv': Operation not permitted\n\n\tat org.apache.hadoop.util.Shell.runCommand(Shell.java:1007)\n\tat org.apache.hadoop.util.Shell.run(Shell.java:900)\n\tat org.apache.hadoop.util.Shell$ShellCommandExecutor.execute(Shell.java:1212)\n\tat org.apache.hadoop.util.Shell.execCommand(Shell.java:1306)\n\tat org.apache.hadoop.util.Shell.execCommand(Shell.java:1288)\n\tat org.apache.hadoop.fs.RawLocalFileSystem.setPermission(RawLocalFileSystem.java:978)\n\tat org.apache.hadoop.fs.RawLocalFileSystem.mkOneDirWithMode(RawLocalFileSystem.java:660)\n\tat org.apache.hadoop.fs.RawLocalFileSystem.mkdirsWithOptionalPermission(RawLocalFileSystem.java:700)\n\tat org.apache.hadoop.fs.RawLocalFileSystem.mkdirs(RawLocalFileSystem.java:672)\n\tat org.apache.hadoop.fs.RawLocalFileSystem.mkdirsWithOptionalPermission(RawLocalFileSystem.java:699)\n\tat org.apache.hadoop.fs.RawLocalFileSystem.mkdirs(RawLocalFileSystem.java:672)\n\tat org.apache.hadoop.fs.RawLocalFileSystem.mkdirsWithOptionalPermission(RawLocalFileSystem.java:699)\n\tat org.apache.hadoop.fs.RawLocalFileSystem.mkdirs(RawLocalFileSystem.java:672)\n\tat org.apache.hadoop.fs.ChecksumFileSystem.mkdirs(ChecksumFileSystem.java:788)\n\tat org.apache.hadoop.mapreduce.lib.output.FileOutputCommitter.setupJob(FileOutputCommitter.java:356)\n\tat org.apache.spark.internal.io.HadoopMapReduceCommitProtocol.setupJob(HadoopMapReduceCommitProtocol.scala:188)\n\tat org.apache.spark.sql.execution.datasources.FileFormatWriter$.writeAndCommit(FileFormatWriter.scala:269)\n\tat org.apache.spark.sql.execution.datasources.FileFormatWriter$.executeWrite(FileFormatWriter.scala:304)\n\tat org.apache.spark.sql.execution.datasources.FileFormatWriter$.write(FileFormatWriter.scala:190)\n\tat org.apache.spark.sql.execution.datasources.InsertIntoHadoopFsRelationCommand.run(InsertIntoHadoopFsRelationCommand.scala:190)\n\tat org.apache.spark.sql.execution.command.DataWritingCommandExec.sideEffectResult$lzycompute(commands.scala:113)\n\tat org.apache.spark.sql.execution.command.DataWritingCommandExec.sideEffectResult(commands.scala:111)\n\tat org.apache.spark.sql.execution.command.DataWritingCommandExec.executeCollect(commands.scala:125)\n\tat org.apache.spark.sql.execution.QueryExecution$$anonfun$eagerlyExecuteCommands$1.$anonfun$applyOrElse$1(QueryExecution.scala:98)\n\tat org.apache.spark.sql.execution.SQLExecution$.$anonfun$withNewExecutionId$6(SQLExecution.scala:118)\n\tat org.apache.spark.sql.execution.SQLExecution$.withSQLConfPropagated(SQLExecution.scala:195)\n\tat org.apache.spark.sql.execution.SQLExecution$.$anonfun$withNewExecutionId$1(SQLExecution.scala:103)\n\tat org.apache.spark.sql.SparkSession.withActive(SparkSession.scala:827)\n\tat org.apache.spark.sql.execution.SQLExecution$.withNewExecutionId(SQLExecution.scala:65)\n\tat org.apache.spark.sql.execution.QueryExecution$$anonfun$eagerlyExecuteCommands$1.applyOrElse(QueryExecution.scala:98)\n\tat org.apache.spark.sql.execution.QueryExecution$$anonfun$eagerlyExecuteCommands$1.applyOrElse(QueryExecution.scala:94)\n\tat org.apache.spark.sql.catalyst.trees.TreeNode.$anonfun$transformDownWithPruning$1(TreeNode.scala:512)\n\tat org.apache.spark.sql.catalyst.trees.CurrentOrigin$.withOrigin(TreeNode.scala:104)\n\tat org.apache.spark.sql.catalyst.trees.TreeNode.transformDownWithPruning(TreeNode.scala:512)\n\tat org.apache.spark.sql.catalyst.plans.logical.LogicalPlan.org$apache$spark$sql$catalyst$plans$logical$AnalysisHelper$$super$transformDownWithPruning(LogicalPlan.scala:31)\n\tat org.apache.spark.sql.catalyst.plans.logical.AnalysisHelper.transformDownWithPruning(AnalysisHelper.scala:267)\n\tat org.apache.spark.sql.catalyst.plans.logical.AnalysisHelper.transformDownWithPruning$(AnalysisHelper.scala:263)\n\tat org.apache.spark.sql.catalyst.plans.logical.LogicalPlan.transformDownWithPruning(LogicalPlan.scala:31)\n\tat org.apache.spark.sql.catalyst.plans.logical.LogicalPlan.transformDownWithPruning(LogicalPlan.scala:31)\n\tat org.apache.spark.sql.catalyst.trees.TreeNode.transformDown(TreeNode.scala:488)\n\tat org.apache.spark.sql.execution.QueryExecution.eagerlyExecuteCommands(QueryExecution.scala:94)\n\tat org.apache.spark.sql.execution.QueryExecution.commandExecuted$lzycompute(QueryExecution.scala:81)\n\tat org.apache.spark.sql.execution.QueryExecution.commandExecuted(QueryExecution.scala:79)\n\tat org.apache.spark.sql.execution.QueryExecution.assertCommandExecuted(QueryExecution.scala:133)\n\tat org.apache.spark.sql.DataFrameWriter.runCommand(DataFrameWriter.scala:856)\n\tat org.apache.spark.sql.DataFrameWriter.saveToV1Source(DataFrameWriter.scala:387)\n\tat org.apache.spark.sql.DataFrameWriter.saveInternal(DataFrameWriter.scala:360)\n\tat org.apache.spark.sql.DataFrameWriter.save(DataFrameWriter.scala:239)\n\tat org.apache.spark.sql.DataFrameWriter.csv(DataFrameWriter.scala:847)\n\tat java.base/jdk.internal.reflect.NativeMethodAccessorImpl.invoke0(Native Method)\n\tat java.base/jdk.internal.reflect.NativeMethodAccessorImpl.invoke(NativeMethodAccessorImpl.java:77)\n\tat java.base/jdk.internal.reflect.DelegatingMethodAccessorImpl.invoke(DelegatingMethodAccessorImpl.java:43)\n\tat java.base/java.lang.reflect.Method.invoke(Method.java:568)\n\tat py4j.reflection.MethodInvoker.invoke(MethodInvoker.java:244)\n\tat py4j.reflection.ReflectionEngine.invoke(ReflectionEngine.java:374)\n\tat py4j.Gateway.invoke(Gateway.java:282)\n\tat py4j.commands.AbstractCommand.invokeMethod(AbstractCommand.java:132)\n\tat py4j.commands.CallCommand.execute(CallCommand.java:79)\n\tat py4j.ClientServerConnection.waitForCommands(ClientServerConnection.java:182)\n\tat py4j.ClientServerConnection.run(ClientServerConnection.java:106)\n\tat java.base/java.lang.Thread.run(Thread.java:833)\n"
     ]
    }
   ],
   "source": [
    "\n",
    "\n",
    "\n",
    "#for idx, x in enumerate(encoder_period_of_day_model.labels): \n",
    "#    print(idx, x)\n",
    "\n",
    "dataframe_encoder_period_of_day = spark.createDataFrame(data=enumerate(encoder_period_of_day_model.labels), schema = [\"index\",\"label\"]) # encoder_period_of_day_model.labels\n",
    "dataframe_encoder_period_of_day.printSchema()\n",
    "dataframe_encoder_period_of_day.show(truncate=False)\n",
    "dataframe_encoder_period_of_day.write.csv(\"../models/dataframe_encoder_period_of_day.csv\")\n",
    "\n"
   ]
  },
  {
   "cell_type": "markdown",
   "metadata": {
    "id": "_PYhwDz66i4Y"
   },
   "source": [
    "* Carregar LabelEncoder"
   ]
  },
  {
   "cell_type": "code",
   "execution_count": 6,
   "metadata": {
    "id": "rlZSBBFr6qh8",
    "tags": []
   },
   "outputs": [
    {
     "name": "stderr",
     "output_type": "stream",
     "text": [
      "/opt/conda/lib/python3.10/site-packages/sklearn/base.py:318: UserWarning: Trying to unpickle estimator LabelEncoder from version 1.0.1 when using version 1.2.2. This might lead to breaking code or invalid results. Use at your own risk. For more info please refer to:\n",
      "https://scikit-learn.org/stable/model_persistence.html#security-maintainability-limitations\n",
      "  warnings.warn(\n"
     ]
    }
   ],
   "source": [
    "from pickle import load\n",
    "\n",
    "encoder_period_of_day = load(open('../models/encoder_period_of_day.pkl', 'rb'))\n",
    "#encoder_day_of_week = load(open('../models/encoder_day_of_week.pkl', 'rb'))"
   ]
  },
  {
   "cell_type": "markdown",
   "metadata": {
    "id": "7vgsPBCR7YGp"
   },
   "source": [
    "* Adicionar Codigos para as colunas PeriodOfDay e DayOfWeek"
   ]
  },
  {
   "cell_type": "code",
   "execution_count": 204,
   "metadata": {
    "id": "GRVvS3h06zTf"
   },
   "outputs": [],
   "source": [
    "data_set_2021_8[\"PeriodOfDayCode\"] = encoder_period_of_day.transform(data_set_2021_8.PeriodOfDay)\n",
    "data_set_2021_8[\"DayOfWeekCode\"] = encoder_day_of_week.transform(data_set_2021_8.DayOfWeek)"
   ]
  },
  {
   "cell_type": "markdown",
   "metadata": {
    "id": "G0kX4a0o8hxj"
   },
   "source": [
    "* Exibir DataSet com a adição das colunas de código para PeridOfDay e DayOfWeek"
   ]
  },
  {
   "cell_type": "code",
   "execution_count": 205,
   "metadata": {
    "colab": {
     "base_uri": "https://localhost:8080/",
     "height": 206
    },
    "id": "aGZCbVx87PrS",
    "outputId": "5e215521-98e8-41d7-c7c0-313c392c5129"
   },
   "outputs": [
    {
     "data": {
      "text/html": [
       "<div>\n",
       "<style scoped>\n",
       "    .dataframe tbody tr th:only-of-type {\n",
       "        vertical-align: middle;\n",
       "    }\n",
       "\n",
       "    .dataframe tbody tr th {\n",
       "        vertical-align: top;\n",
       "    }\n",
       "\n",
       "    .dataframe thead th {\n",
       "        text-align: right;\n",
       "    }\n",
       "</style>\n",
       "<table border=\"1\" class=\"dataframe\">\n",
       "  <thead>\n",
       "    <tr style=\"text-align: right;\">\n",
       "      <th></th>\n",
       "      <th>Day</th>\n",
       "      <th>Hour</th>\n",
       "      <th>PeriodOfDay</th>\n",
       "      <th>DayOfWeek</th>\n",
       "      <th>UnixTime</th>\n",
       "      <th>Duration</th>\n",
       "      <th>Watts1</th>\n",
       "      <th>Watts2</th>\n",
       "      <th>Watts3</th>\n",
       "      <th>WattsTotal</th>\n",
       "      <th>PeriodOfDayCode</th>\n",
       "      <th>DayOfWeekCode</th>\n",
       "    </tr>\n",
       "  </thead>\n",
       "  <tbody>\n",
       "    <tr>\n",
       "      <th>0</th>\n",
       "      <td>1</td>\n",
       "      <td>0</td>\n",
       "      <td>LateNight</td>\n",
       "      <td>Sunday</td>\n",
       "      <td>1627786806</td>\n",
       "      <td>14</td>\n",
       "      <td>163.01604</td>\n",
       "      <td>272.74854</td>\n",
       "      <td>0</td>\n",
       "      <td>435.76460</td>\n",
       "      <td>2</td>\n",
       "      <td>3</td>\n",
       "    </tr>\n",
       "    <tr>\n",
       "      <th>1</th>\n",
       "      <td>1</td>\n",
       "      <td>0</td>\n",
       "      <td>LateNight</td>\n",
       "      <td>Sunday</td>\n",
       "      <td>1627786820</td>\n",
       "      <td>14</td>\n",
       "      <td>155.36642</td>\n",
       "      <td>273.27606</td>\n",
       "      <td>0</td>\n",
       "      <td>428.64252</td>\n",
       "      <td>2</td>\n",
       "      <td>3</td>\n",
       "    </tr>\n",
       "    <tr>\n",
       "      <th>2</th>\n",
       "      <td>1</td>\n",
       "      <td>0</td>\n",
       "      <td>LateNight</td>\n",
       "      <td>Sunday</td>\n",
       "      <td>1627786834</td>\n",
       "      <td>14</td>\n",
       "      <td>155.10265</td>\n",
       "      <td>274.59497</td>\n",
       "      <td>0</td>\n",
       "      <td>429.69766</td>\n",
       "      <td>2</td>\n",
       "      <td>3</td>\n",
       "    </tr>\n",
       "    <tr>\n",
       "      <th>3</th>\n",
       "      <td>1</td>\n",
       "      <td>0</td>\n",
       "      <td>LateNight</td>\n",
       "      <td>Sunday</td>\n",
       "      <td>1627786848</td>\n",
       "      <td>14</td>\n",
       "      <td>156.15776</td>\n",
       "      <td>283.82730</td>\n",
       "      <td>0</td>\n",
       "      <td>439.98505</td>\n",
       "      <td>2</td>\n",
       "      <td>3</td>\n",
       "    </tr>\n",
       "    <tr>\n",
       "      <th>4</th>\n",
       "      <td>1</td>\n",
       "      <td>0</td>\n",
       "      <td>LateNight</td>\n",
       "      <td>Sunday</td>\n",
       "      <td>1627786862</td>\n",
       "      <td>14</td>\n",
       "      <td>157.74045</td>\n",
       "      <td>268.52805</td>\n",
       "      <td>0</td>\n",
       "      <td>426.26850</td>\n",
       "      <td>2</td>\n",
       "      <td>3</td>\n",
       "    </tr>\n",
       "  </tbody>\n",
       "</table>\n",
       "</div>"
      ],
      "text/plain": [
       "   Day  Hour PeriodOfDay  ... WattsTotal  PeriodOfDayCode  DayOfWeekCode\n",
       "0    1     0   LateNight  ...  435.76460                2              3\n",
       "1    1     0   LateNight  ...  428.64252                2              3\n",
       "2    1     0   LateNight  ...  429.69766                2              3\n",
       "3    1     0   LateNight  ...  439.98505                2              3\n",
       "4    1     0   LateNight  ...  426.26850                2              3\n",
       "\n",
       "[5 rows x 12 columns]"
      ]
     },
     "execution_count": 205,
     "metadata": {},
     "output_type": "execute_result"
    }
   ],
   "source": [
    "data_set_2021_8.head()"
   ]
  },
  {
   "cell_type": "markdown",
   "metadata": {
    "id": "9amawIzwVq71"
   },
   "source": [
    "* Normatizar os atibutos previsores"
   ]
  },
  {
   "cell_type": "code",
   "execution_count": 206,
   "metadata": {
    "id": "ncg7axDtYm0D"
   },
   "outputs": [],
   "source": [
    "from sklearn.preprocessing import StandardScaler\n",
    "from pickle import dump\n",
    "\n",
    "scaler_data_set = StandardScaler()\n",
    "scaler_data_set.fit(data_set_2021_8.loc[:,['PeriodOfDayCode', 'DayOfWeekCode', 'WattsTotal']])\n",
    "dump(scaler_data_set, open('scaler_data_set.pkl', 'wb'))"
   ]
  },
  {
   "cell_type": "markdown",
   "metadata": {
    "id": "4Uv0hv21ZRCI"
   },
   "source": [
    "* Aplicar o algoritimo KMeans para encontrar cinco padrões de consumo de energia "
   ]
  },
  {
   "cell_type": "code",
   "execution_count": 207,
   "metadata": {
    "colab": {
     "base_uri": "https://localhost:8080/"
    },
    "id": "27QiHK_LZrQ6",
    "outputId": "c93f8ac0-22f8-4cc6-9167-a71f6cdec0eb"
   },
   "outputs": [
    {
     "data": {
      "text/plain": [
       "KMeans(max_iter=100000, n_clusters=3)"
      ]
     },
     "execution_count": 207,
     "metadata": {},
     "output_type": "execute_result"
    }
   ],
   "source": [
    "from sklearn.cluster import KMeans\n",
    "kmeans = KMeans(n_clusters = 3, init = 'k-means++', max_iter=100000)\n",
    "X = scaler_data_set.transform(data_set_2021_8.loc[:,['PeriodOfDayCode', 'DayOfWeekCode', 'WattsTotal']])\n",
    "kmeans.fit(X)"
   ]
  },
  {
   "cell_type": "markdown",
   "metadata": {
    "id": "MsgpUCnILKhD"
   },
   "source": [
    "* Salvar treinamento do KMeans"
   ]
  },
  {
   "cell_type": "code",
   "execution_count": 208,
   "metadata": {
    "id": "fLvdeviiLQVm"
   },
   "outputs": [],
   "source": [
    "dump(kmeans, open('kmeans.pkl', 'wb'))"
   ]
  },
  {
   "cell_type": "markdown",
   "metadata": {
    "id": "Vt0APnJebo1e"
   },
   "source": [
    "* Criar um código para cada classe de consumo encontrado pelo KMens"
   ]
  },
  {
   "cell_type": "code",
   "execution_count": 209,
   "metadata": {
    "id": "8-1huLSpb7Zt"
   },
   "outputs": [],
   "source": [
    "data_set_2021_8['EnergyUseClassCode'] = kmeans.predict(X)"
   ]
  },
  {
   "cell_type": "markdown",
   "metadata": {
    "id": "c9DnLq0vcwhQ"
   },
   "source": [
    "* Exibir gráfico de Total de Watts Vs Períodos do dia Classifica por Consumo de Energia"
   ]
  },
  {
   "cell_type": "code",
   "execution_count": 210,
   "metadata": {
    "colab": {
     "base_uri": "https://localhost:8080/",
     "height": 312
    },
    "id": "g8Hu8gUGcxBr",
    "outputId": "6163bc94-3fb9-45aa-907d-eec0114671c3"
   },
   "outputs": [
    {
     "name": "stderr",
     "output_type": "stream",
     "text": [
      "No handles with labels found to put in legend.\n"
     ]
    },
    {
     "data": {
      "image/png": "[encoded data removed]",
      "text/plain": [
       "<Figure size 432x288 with 1 Axes>"
      ]
     },
     "metadata": {
      "needs_background": "light"
     },
     "output_type": "display_data"
    }
   ],
   "source": [
    "import matplotlib.pyplot as plt\n",
    "\n",
    "plt.scatter(data_set_2021_8.PeriodOfDay, data_set_2021_8.WattsTotal, s = 100, c = kmeans.labels_)\n",
    "plt.title('Total de Watts Vs Períodos do dia Classifica por Consumo de Energia')\n",
    "plt.xlabel('Total Watts')\n",
    "plt.ylabel('Períodos do dia')\n",
    "plt.legend()\n",
    "\n",
    "plt.show()"
   ]
  },
  {
   "cell_type": "markdown",
   "metadata": {
    "id": "5W7IbfWbmB1a"
   },
   "source": [
    "* Exibir exemplos de consumo de Energiar Classe Código Zero - Consumo Baixo"
   ]
  },
  {
   "cell_type": "code",
   "execution_count": 211,
   "metadata": {
    "colab": {
     "base_uri": "https://localhost:8080/",
     "height": 444
    },
    "id": "7eRN14neenpf",
    "outputId": "0d31fd08-4614-4fc6-e574-fcfad60119d8"
   },
   "outputs": [
    {
     "data": {
      "text/html": [
       "<div>\n",
       "<style scoped>\n",
       "    .dataframe tbody tr th:only-of-type {\n",
       "        vertical-align: middle;\n",
       "    }\n",
       "\n",
       "    .dataframe tbody tr th {\n",
       "        vertical-align: top;\n",
       "    }\n",
       "\n",
       "    .dataframe thead th {\n",
       "        text-align: right;\n",
       "    }\n",
       "</style>\n",
       "<table border=\"1\" class=\"dataframe\">\n",
       "  <thead>\n",
       "    <tr style=\"text-align: right;\">\n",
       "      <th></th>\n",
       "      <th>Day</th>\n",
       "      <th>Hour</th>\n",
       "      <th>PeriodOfDay</th>\n",
       "      <th>DayOfWeek</th>\n",
       "      <th>UnixTime</th>\n",
       "      <th>Duration</th>\n",
       "      <th>Watts1</th>\n",
       "      <th>Watts2</th>\n",
       "      <th>Watts3</th>\n",
       "      <th>WattsTotal</th>\n",
       "      <th>PeriodOfDayCode</th>\n",
       "      <th>DayOfWeekCode</th>\n",
       "      <th>EnergyUseClassCode</th>\n",
       "    </tr>\n",
       "  </thead>\n",
       "  <tbody>\n",
       "    <tr>\n",
       "      <th>0</th>\n",
       "      <td>1</td>\n",
       "      <td>0</td>\n",
       "      <td>LateNight</td>\n",
       "      <td>Sunday</td>\n",
       "      <td>1627786806</td>\n",
       "      <td>14</td>\n",
       "      <td>163.016040</td>\n",
       "      <td>272.74854</td>\n",
       "      <td>0</td>\n",
       "      <td>435.76460</td>\n",
       "      <td>2</td>\n",
       "      <td>3</td>\n",
       "      <td>0</td>\n",
       "    </tr>\n",
       "    <tr>\n",
       "      <th>1</th>\n",
       "      <td>1</td>\n",
       "      <td>0</td>\n",
       "      <td>LateNight</td>\n",
       "      <td>Sunday</td>\n",
       "      <td>1627786820</td>\n",
       "      <td>14</td>\n",
       "      <td>155.366420</td>\n",
       "      <td>273.27606</td>\n",
       "      <td>0</td>\n",
       "      <td>428.64252</td>\n",
       "      <td>2</td>\n",
       "      <td>3</td>\n",
       "      <td>0</td>\n",
       "    </tr>\n",
       "    <tr>\n",
       "      <th>2</th>\n",
       "      <td>1</td>\n",
       "      <td>0</td>\n",
       "      <td>LateNight</td>\n",
       "      <td>Sunday</td>\n",
       "      <td>1627786834</td>\n",
       "      <td>14</td>\n",
       "      <td>155.102650</td>\n",
       "      <td>274.59497</td>\n",
       "      <td>0</td>\n",
       "      <td>429.69766</td>\n",
       "      <td>2</td>\n",
       "      <td>3</td>\n",
       "      <td>0</td>\n",
       "    </tr>\n",
       "    <tr>\n",
       "      <th>3</th>\n",
       "      <td>1</td>\n",
       "      <td>0</td>\n",
       "      <td>LateNight</td>\n",
       "      <td>Sunday</td>\n",
       "      <td>1627786848</td>\n",
       "      <td>14</td>\n",
       "      <td>156.157760</td>\n",
       "      <td>283.82730</td>\n",
       "      <td>0</td>\n",
       "      <td>439.98505</td>\n",
       "      <td>2</td>\n",
       "      <td>3</td>\n",
       "      <td>0</td>\n",
       "    </tr>\n",
       "    <tr>\n",
       "      <th>4</th>\n",
       "      <td>1</td>\n",
       "      <td>0</td>\n",
       "      <td>LateNight</td>\n",
       "      <td>Sunday</td>\n",
       "      <td>1627786862</td>\n",
       "      <td>14</td>\n",
       "      <td>157.740450</td>\n",
       "      <td>268.52805</td>\n",
       "      <td>0</td>\n",
       "      <td>426.26850</td>\n",
       "      <td>2</td>\n",
       "      <td>3</td>\n",
       "      <td>0</td>\n",
       "    </tr>\n",
       "    <tr>\n",
       "      <th>...</th>\n",
       "      <td>...</td>\n",
       "      <td>...</td>\n",
       "      <td>...</td>\n",
       "      <td>...</td>\n",
       "      <td>...</td>\n",
       "      <td>...</td>\n",
       "      <td>...</td>\n",
       "      <td>...</td>\n",
       "      <td>...</td>\n",
       "      <td>...</td>\n",
       "      <td>...</td>\n",
       "      <td>...</td>\n",
       "      <td>...</td>\n",
       "    </tr>\n",
       "    <tr>\n",
       "      <th>152496</th>\n",
       "      <td>30</td>\n",
       "      <td>23</td>\n",
       "      <td>Night</td>\n",
       "      <td>Monday</td>\n",
       "      <td>1630378733</td>\n",
       "      <td>14</td>\n",
       "      <td>54.866238</td>\n",
       "      <td>227.90593</td>\n",
       "      <td>0</td>\n",
       "      <td>282.77216</td>\n",
       "      <td>4</td>\n",
       "      <td>1</td>\n",
       "      <td>0</td>\n",
       "    </tr>\n",
       "    <tr>\n",
       "      <th>152497</th>\n",
       "      <td>30</td>\n",
       "      <td>23</td>\n",
       "      <td>Night</td>\n",
       "      <td>Monday</td>\n",
       "      <td>1630378747</td>\n",
       "      <td>14</td>\n",
       "      <td>58.295383</td>\n",
       "      <td>225.79570</td>\n",
       "      <td>0</td>\n",
       "      <td>284.09106</td>\n",
       "      <td>4</td>\n",
       "      <td>1</td>\n",
       "      <td>0</td>\n",
       "    </tr>\n",
       "    <tr>\n",
       "      <th>152498</th>\n",
       "      <td>30</td>\n",
       "      <td>23</td>\n",
       "      <td>Night</td>\n",
       "      <td>Monday</td>\n",
       "      <td>1630378761</td>\n",
       "      <td>14</td>\n",
       "      <td>54.602460</td>\n",
       "      <td>222.63031</td>\n",
       "      <td>0</td>\n",
       "      <td>277.23276</td>\n",
       "      <td>4</td>\n",
       "      <td>1</td>\n",
       "      <td>0</td>\n",
       "    </tr>\n",
       "    <tr>\n",
       "      <th>152499</th>\n",
       "      <td>30</td>\n",
       "      <td>23</td>\n",
       "      <td>Night</td>\n",
       "      <td>Monday</td>\n",
       "      <td>1630378775</td>\n",
       "      <td>14</td>\n",
       "      <td>57.240260</td>\n",
       "      <td>221.31143</td>\n",
       "      <td>0</td>\n",
       "      <td>278.55170</td>\n",
       "      <td>4</td>\n",
       "      <td>1</td>\n",
       "      <td>0</td>\n",
       "    </tr>\n",
       "    <tr>\n",
       "      <th>152500</th>\n",
       "      <td>30</td>\n",
       "      <td>23</td>\n",
       "      <td>Night</td>\n",
       "      <td>Monday</td>\n",
       "      <td>1630378789</td>\n",
       "      <td>14</td>\n",
       "      <td>57.504044</td>\n",
       "      <td>225.79570</td>\n",
       "      <td>0</td>\n",
       "      <td>283.29974</td>\n",
       "      <td>4</td>\n",
       "      <td>1</td>\n",
       "      <td>0</td>\n",
       "    </tr>\n",
       "  </tbody>\n",
       "</table>\n",
       "<p>83199 rows × 13 columns</p>\n",
       "</div>"
      ],
      "text/plain": [
       "        Day  Hour  ... DayOfWeekCode EnergyUseClassCode\n",
       "0         1     0  ...             3                  0\n",
       "1         1     0  ...             3                  0\n",
       "2         1     0  ...             3                  0\n",
       "3         1     0  ...             3                  0\n",
       "4         1     0  ...             3                  0\n",
       "...     ...   ...  ...           ...                ...\n",
       "152496   30    23  ...             1                  0\n",
       "152497   30    23  ...             1                  0\n",
       "152498   30    23  ...             1                  0\n",
       "152499   30    23  ...             1                  0\n",
       "152500   30    23  ...             1                  0\n",
       "\n",
       "[83199 rows x 13 columns]"
      ]
     },
     "execution_count": 211,
     "metadata": {},
     "output_type": "execute_result"
    }
   ],
   "source": [
    "data_set_2021_8[data_set_2021_8.EnergyUseClassCode == 0]"
   ]
  },
  {
   "cell_type": "markdown",
   "metadata": {
    "id": "DRflqaY-mYwY"
   },
   "source": [
    "* Exibir exemplos de consumo de Energiar Classe Código Um - Consumo Médio"
   ]
  },
  {
   "cell_type": "code",
   "execution_count": 213,
   "metadata": {
    "colab": {
     "base_uri": "https://localhost:8080/",
     "height": 444
    },
    "id": "ou1zVWFFmgfV",
    "outputId": "0be1320c-a6fb-4857-d64d-dfe3975bb248"
   },
   "outputs": [
    {
     "data": {
      "text/html": [
       "<div>\n",
       "<style scoped>\n",
       "    .dataframe tbody tr th:only-of-type {\n",
       "        vertical-align: middle;\n",
       "    }\n",
       "\n",
       "    .dataframe tbody tr th {\n",
       "        vertical-align: top;\n",
       "    }\n",
       "\n",
       "    .dataframe thead th {\n",
       "        text-align: right;\n",
       "    }\n",
       "</style>\n",
       "<table border=\"1\" class=\"dataframe\">\n",
       "  <thead>\n",
       "    <tr style=\"text-align: right;\">\n",
       "      <th></th>\n",
       "      <th>Day</th>\n",
       "      <th>Hour</th>\n",
       "      <th>PeriodOfDay</th>\n",
       "      <th>DayOfWeek</th>\n",
       "      <th>UnixTime</th>\n",
       "      <th>Duration</th>\n",
       "      <th>Watts1</th>\n",
       "      <th>Watts2</th>\n",
       "      <th>Watts3</th>\n",
       "      <th>WattsTotal</th>\n",
       "      <th>PeriodOfDayCode</th>\n",
       "      <th>DayOfWeekCode</th>\n",
       "      <th>EnergyUseClassCode</th>\n",
       "    </tr>\n",
       "  </thead>\n",
       "  <tbody>\n",
       "    <tr>\n",
       "      <th>12343</th>\n",
       "      <td>3</td>\n",
       "      <td>0</td>\n",
       "      <td>LateNight</td>\n",
       "      <td>Tuesday</td>\n",
       "      <td>1627959609</td>\n",
       "      <td>14</td>\n",
       "      <td>70.429260</td>\n",
       "      <td>117.118324</td>\n",
       "      <td>0</td>\n",
       "      <td>187.54759</td>\n",
       "      <td>2</td>\n",
       "      <td>5</td>\n",
       "      <td>1</td>\n",
       "    </tr>\n",
       "    <tr>\n",
       "      <th>12344</th>\n",
       "      <td>3</td>\n",
       "      <td>0</td>\n",
       "      <td>LateNight</td>\n",
       "      <td>Tuesday</td>\n",
       "      <td>1627959623</td>\n",
       "      <td>14</td>\n",
       "      <td>71.484380</td>\n",
       "      <td>117.909650</td>\n",
       "      <td>0</td>\n",
       "      <td>189.39404</td>\n",
       "      <td>2</td>\n",
       "      <td>5</td>\n",
       "      <td>1</td>\n",
       "    </tr>\n",
       "    <tr>\n",
       "      <th>12345</th>\n",
       "      <td>3</td>\n",
       "      <td>0</td>\n",
       "      <td>LateNight</td>\n",
       "      <td>Tuesday</td>\n",
       "      <td>1627959637</td>\n",
       "      <td>14</td>\n",
       "      <td>67.791460</td>\n",
       "      <td>115.535645</td>\n",
       "      <td>0</td>\n",
       "      <td>183.32710</td>\n",
       "      <td>2</td>\n",
       "      <td>5</td>\n",
       "      <td>1</td>\n",
       "    </tr>\n",
       "    <tr>\n",
       "      <th>12346</th>\n",
       "      <td>3</td>\n",
       "      <td>0</td>\n",
       "      <td>LateNight</td>\n",
       "      <td>Tuesday</td>\n",
       "      <td>1627959651</td>\n",
       "      <td>14</td>\n",
       "      <td>66.472560</td>\n",
       "      <td>114.216736</td>\n",
       "      <td>0</td>\n",
       "      <td>180.68930</td>\n",
       "      <td>2</td>\n",
       "      <td>5</td>\n",
       "      <td>1</td>\n",
       "    </tr>\n",
       "    <tr>\n",
       "      <th>12347</th>\n",
       "      <td>3</td>\n",
       "      <td>0</td>\n",
       "      <td>LateNight</td>\n",
       "      <td>Tuesday</td>\n",
       "      <td>1627959665</td>\n",
       "      <td>14</td>\n",
       "      <td>69.110360</td>\n",
       "      <td>115.535645</td>\n",
       "      <td>0</td>\n",
       "      <td>184.64600</td>\n",
       "      <td>2</td>\n",
       "      <td>5</td>\n",
       "      <td>1</td>\n",
       "    </tr>\n",
       "    <tr>\n",
       "      <th>...</th>\n",
       "      <td>...</td>\n",
       "      <td>...</td>\n",
       "      <td>...</td>\n",
       "      <td>...</td>\n",
       "      <td>...</td>\n",
       "      <td>...</td>\n",
       "      <td>...</td>\n",
       "      <td>...</td>\n",
       "      <td>...</td>\n",
       "      <td>...</td>\n",
       "      <td>...</td>\n",
       "      <td>...</td>\n",
       "      <td>...</td>\n",
       "    </tr>\n",
       "    <tr>\n",
       "      <th>158457</th>\n",
       "      <td>31</td>\n",
       "      <td>23</td>\n",
       "      <td>Night</td>\n",
       "      <td>Tuesday</td>\n",
       "      <td>1630464207</td>\n",
       "      <td>15</td>\n",
       "      <td>82.299355</td>\n",
       "      <td>138.484500</td>\n",
       "      <td>0</td>\n",
       "      <td>220.78386</td>\n",
       "      <td>4</td>\n",
       "      <td>5</td>\n",
       "      <td>1</td>\n",
       "    </tr>\n",
       "    <tr>\n",
       "      <th>158458</th>\n",
       "      <td>31</td>\n",
       "      <td>23</td>\n",
       "      <td>Night</td>\n",
       "      <td>Tuesday</td>\n",
       "      <td>1630464221</td>\n",
       "      <td>14</td>\n",
       "      <td>83.354485</td>\n",
       "      <td>142.704970</td>\n",
       "      <td>0</td>\n",
       "      <td>226.05945</td>\n",
       "      <td>4</td>\n",
       "      <td>5</td>\n",
       "      <td>1</td>\n",
       "    </tr>\n",
       "    <tr>\n",
       "      <th>158459</th>\n",
       "      <td>31</td>\n",
       "      <td>23</td>\n",
       "      <td>Night</td>\n",
       "      <td>Tuesday</td>\n",
       "      <td>1630464235</td>\n",
       "      <td>14</td>\n",
       "      <td>82.299355</td>\n",
       "      <td>141.913650</td>\n",
       "      <td>0</td>\n",
       "      <td>224.21300</td>\n",
       "      <td>4</td>\n",
       "      <td>5</td>\n",
       "      <td>1</td>\n",
       "    </tr>\n",
       "    <tr>\n",
       "      <th>158460</th>\n",
       "      <td>31</td>\n",
       "      <td>23</td>\n",
       "      <td>Night</td>\n",
       "      <td>Tuesday</td>\n",
       "      <td>1630464249</td>\n",
       "      <td>14</td>\n",
       "      <td>82.563140</td>\n",
       "      <td>142.441210</td>\n",
       "      <td>0</td>\n",
       "      <td>225.00436</td>\n",
       "      <td>4</td>\n",
       "      <td>5</td>\n",
       "      <td>1</td>\n",
       "    </tr>\n",
       "    <tr>\n",
       "      <th>158461</th>\n",
       "      <td>31</td>\n",
       "      <td>23</td>\n",
       "      <td>Night</td>\n",
       "      <td>Tuesday</td>\n",
       "      <td>1630464263</td>\n",
       "      <td>14</td>\n",
       "      <td>82.563140</td>\n",
       "      <td>143.232540</td>\n",
       "      <td>0</td>\n",
       "      <td>225.79567</td>\n",
       "      <td>4</td>\n",
       "      <td>5</td>\n",
       "      <td>1</td>\n",
       "    </tr>\n",
       "  </tbody>\n",
       "</table>\n",
       "<p>68534 rows × 13 columns</p>\n",
       "</div>"
      ],
      "text/plain": [
       "        Day  Hour  ... DayOfWeekCode EnergyUseClassCode\n",
       "12343     3     0  ...             5                  1\n",
       "12344     3     0  ...             5                  1\n",
       "12345     3     0  ...             5                  1\n",
       "12346     3     0  ...             5                  1\n",
       "12347     3     0  ...             5                  1\n",
       "...     ...   ...  ...           ...                ...\n",
       "158457   31    23  ...             5                  1\n",
       "158458   31    23  ...             5                  1\n",
       "158459   31    23  ...             5                  1\n",
       "158460   31    23  ...             5                  1\n",
       "158461   31    23  ...             5                  1\n",
       "\n",
       "[68534 rows x 13 columns]"
      ]
     },
     "execution_count": 213,
     "metadata": {},
     "output_type": "execute_result"
    }
   ],
   "source": [
    "data_set_2021_8[data_set_2021_8.EnergyUseClassCode == 1]"
   ]
  },
  {
   "cell_type": "markdown",
   "metadata": {
    "id": "TBWBYG1kmpKq"
   },
   "source": [
    "* Exibir exemplos de consumo de Energiar Classe Código Dois - Consumo Alto"
   ]
  },
  {
   "cell_type": "code",
   "execution_count": 214,
   "metadata": {
    "colab": {
     "base_uri": "https://localhost:8080/",
     "height": 444
    },
    "id": "NRhc78FGmv17",
    "outputId": "acda717b-a7e7-4051-9b9e-834d033c8b41"
   },
   "outputs": [
    {
     "data": {
      "text/html": [
       "<div>\n",
       "<style scoped>\n",
       "    .dataframe tbody tr th:only-of-type {\n",
       "        vertical-align: middle;\n",
       "    }\n",
       "\n",
       "    .dataframe tbody tr th {\n",
       "        vertical-align: top;\n",
       "    }\n",
       "\n",
       "    .dataframe thead th {\n",
       "        text-align: right;\n",
       "    }\n",
       "</style>\n",
       "<table border=\"1\" class=\"dataframe\">\n",
       "  <thead>\n",
       "    <tr style=\"text-align: right;\">\n",
       "      <th></th>\n",
       "      <th>Day</th>\n",
       "      <th>Hour</th>\n",
       "      <th>PeriodOfDay</th>\n",
       "      <th>DayOfWeek</th>\n",
       "      <th>UnixTime</th>\n",
       "      <th>Duration</th>\n",
       "      <th>Watts1</th>\n",
       "      <th>Watts2</th>\n",
       "      <th>Watts3</th>\n",
       "      <th>WattsTotal</th>\n",
       "      <th>PeriodOfDayCode</th>\n",
       "      <th>DayOfWeekCode</th>\n",
       "      <th>EnergyUseClassCode</th>\n",
       "    </tr>\n",
       "  </thead>\n",
       "  <tbody>\n",
       "    <tr>\n",
       "      <th>3042</th>\n",
       "      <td>1</td>\n",
       "      <td>11</td>\n",
       "      <td>Morning</td>\n",
       "      <td>Sunday</td>\n",
       "      <td>1627829395</td>\n",
       "      <td>14</td>\n",
       "      <td>196.252320</td>\n",
       "      <td>10126.2510</td>\n",
       "      <td>0</td>\n",
       "      <td>10322.5030</td>\n",
       "      <td>3</td>\n",
       "      <td>3</td>\n",
       "      <td>2</td>\n",
       "    </tr>\n",
       "    <tr>\n",
       "      <th>3043</th>\n",
       "      <td>1</td>\n",
       "      <td>11</td>\n",
       "      <td>Morning</td>\n",
       "      <td>Sunday</td>\n",
       "      <td>1627829409</td>\n",
       "      <td>14</td>\n",
       "      <td>221.311430</td>\n",
       "      <td>10088.5290</td>\n",
       "      <td>0</td>\n",
       "      <td>10309.8420</td>\n",
       "      <td>3</td>\n",
       "      <td>3</td>\n",
       "      <td>2</td>\n",
       "    </tr>\n",
       "    <tr>\n",
       "      <th>3044</th>\n",
       "      <td>1</td>\n",
       "      <td>11</td>\n",
       "      <td>Morning</td>\n",
       "      <td>Sunday</td>\n",
       "      <td>1627829423</td>\n",
       "      <td>14</td>\n",
       "      <td>213.925570</td>\n",
       "      <td>10112.5340</td>\n",
       "      <td>0</td>\n",
       "      <td>10326.4590</td>\n",
       "      <td>3</td>\n",
       "      <td>3</td>\n",
       "      <td>2</td>\n",
       "    </tr>\n",
       "    <tr>\n",
       "      <th>3045</th>\n",
       "      <td>1</td>\n",
       "      <td>11</td>\n",
       "      <td>Morning</td>\n",
       "      <td>Sunday</td>\n",
       "      <td>1627829437</td>\n",
       "      <td>14</td>\n",
       "      <td>205.484620</td>\n",
       "      <td>10194.8330</td>\n",
       "      <td>0</td>\n",
       "      <td>10400.3180</td>\n",
       "      <td>3</td>\n",
       "      <td>3</td>\n",
       "      <td>2</td>\n",
       "    </tr>\n",
       "    <tr>\n",
       "      <th>3046</th>\n",
       "      <td>1</td>\n",
       "      <td>11</td>\n",
       "      <td>Morning</td>\n",
       "      <td>Sunday</td>\n",
       "      <td>1627829451</td>\n",
       "      <td>14</td>\n",
       "      <td>190.449160</td>\n",
       "      <td>10115.6990</td>\n",
       "      <td>0</td>\n",
       "      <td>10306.1480</td>\n",
       "      <td>3</td>\n",
       "      <td>3</td>\n",
       "      <td>2</td>\n",
       "    </tr>\n",
       "    <tr>\n",
       "      <th>...</th>\n",
       "      <td>...</td>\n",
       "      <td>...</td>\n",
       "      <td>...</td>\n",
       "      <td>...</td>\n",
       "      <td>...</td>\n",
       "      <td>...</td>\n",
       "      <td>...</td>\n",
       "      <td>...</td>\n",
       "      <td>...</td>\n",
       "      <td>...</td>\n",
       "      <td>...</td>\n",
       "      <td>...</td>\n",
       "      <td>...</td>\n",
       "    </tr>\n",
       "    <tr>\n",
       "      <th>158523</th>\n",
       "      <td>31</td>\n",
       "      <td>23</td>\n",
       "      <td>Night</td>\n",
       "      <td>Tuesday</td>\n",
       "      <td>1630465131</td>\n",
       "      <td>14</td>\n",
       "      <td>108.149796</td>\n",
       "      <td>8050.8290</td>\n",
       "      <td>0</td>\n",
       "      <td>8158.9790</td>\n",
       "      <td>4</td>\n",
       "      <td>5</td>\n",
       "      <td>2</td>\n",
       "    </tr>\n",
       "    <tr>\n",
       "      <th>158524</th>\n",
       "      <td>31</td>\n",
       "      <td>23</td>\n",
       "      <td>Night</td>\n",
       "      <td>Tuesday</td>\n",
       "      <td>1630465145</td>\n",
       "      <td>14</td>\n",
       "      <td>92.059220</td>\n",
       "      <td>8134.7120</td>\n",
       "      <td>0</td>\n",
       "      <td>8226.7705</td>\n",
       "      <td>4</td>\n",
       "      <td>5</td>\n",
       "      <td>2</td>\n",
       "    </tr>\n",
       "    <tr>\n",
       "      <th>158525</th>\n",
       "      <td>31</td>\n",
       "      <td>23</td>\n",
       "      <td>Night</td>\n",
       "      <td>Tuesday</td>\n",
       "      <td>1630465159</td>\n",
       "      <td>14</td>\n",
       "      <td>105.512000</td>\n",
       "      <td>8074.8335</td>\n",
       "      <td>0</td>\n",
       "      <td>8180.3450</td>\n",
       "      <td>4</td>\n",
       "      <td>5</td>\n",
       "      <td>2</td>\n",
       "    </tr>\n",
       "    <tr>\n",
       "      <th>158526</th>\n",
       "      <td>31</td>\n",
       "      <td>23</td>\n",
       "      <td>Night</td>\n",
       "      <td>Tuesday</td>\n",
       "      <td>1630465173</td>\n",
       "      <td>14</td>\n",
       "      <td>108.677360</td>\n",
       "      <td>8099.6290</td>\n",
       "      <td>0</td>\n",
       "      <td>8208.3060</td>\n",
       "      <td>4</td>\n",
       "      <td>5</td>\n",
       "      <td>2</td>\n",
       "    </tr>\n",
       "    <tr>\n",
       "      <th>158527</th>\n",
       "      <td>31</td>\n",
       "      <td>23</td>\n",
       "      <td>Night</td>\n",
       "      <td>Tuesday</td>\n",
       "      <td>1630465187</td>\n",
       "      <td>14</td>\n",
       "      <td>112.897850</td>\n",
       "      <td>8076.9440</td>\n",
       "      <td>0</td>\n",
       "      <td>8189.8420</td>\n",
       "      <td>4</td>\n",
       "      <td>5</td>\n",
       "      <td>2</td>\n",
       "    </tr>\n",
       "  </tbody>\n",
       "</table>\n",
       "<p>6795 rows × 13 columns</p>\n",
       "</div>"
      ],
      "text/plain": [
       "        Day  Hour  ... DayOfWeekCode EnergyUseClassCode\n",
       "3042      1    11  ...             3                  2\n",
       "3043      1    11  ...             3                  2\n",
       "3044      1    11  ...             3                  2\n",
       "3045      1    11  ...             3                  2\n",
       "3046      1    11  ...             3                  2\n",
       "...     ...   ...  ...           ...                ...\n",
       "158523   31    23  ...             5                  2\n",
       "158524   31    23  ...             5                  2\n",
       "158525   31    23  ...             5                  2\n",
       "158526   31    23  ...             5                  2\n",
       "158527   31    23  ...             5                  2\n",
       "\n",
       "[6795 rows x 13 columns]"
      ]
     },
     "execution_count": 214,
     "metadata": {},
     "output_type": "execute_result"
    }
   ],
   "source": [
    "data_set_2021_8[data_set_2021_8.EnergyUseClassCode == 2]"
   ]
  },
  {
   "cell_type": "markdown",
   "metadata": {
    "id": "cV94M2MfnPY4"
   },
   "source": [
    "* Adicionar coluna com rotulo das classes de consumo de eneriga."
   ]
  },
  {
   "cell_type": "code",
   "execution_count": 215,
   "metadata": {
    "id": "CeGtbG6un5Kr"
   },
   "outputs": [],
   "source": [
    "Energy_use_class_code_low = 1\n",
    "Energy_use_class_code_medium = 0\n",
    "Energy_use_class_code_High = 2 \n",
    "\n",
    "def get_energy_use_class_title(energy_use_class_code):\n",
    "  if energy_use_class_code == Energy_use_class_code_low:\n",
    "    return \"Low\"\n",
    "  elif energy_use_class_code == Energy_use_class_code_medium:\n",
    "    return \"Medium\"\n",
    "  else:\n",
    "    return \"High\"\n",
    "\n",
    "data_set_2021_8['EnergyUseClass'] = data_set_2021_8['EnergyUseClassCode'].apply(get_energy_use_class_title)\n"
   ]
  },
  {
   "cell_type": "markdown",
   "metadata": {
    "id": "Sn0ddAAOgQYz"
   },
   "source": [
    "* Adicionar aributos de hábitos de consumo conforme a classes de consumo de energia "
   ]
  },
  {
   "cell_type": "code",
   "execution_count": 216,
   "metadata": {
    "id": "dl0fqyDRhWEN"
   },
   "outputs": [],
   "source": [
    "def get_energy_consumption_habit(class_and_total_watts):\n",
    "  if (class_and_total_watts[0] == Energy_use_class_code_low) and (class_and_total_watts[1]  < 180):\n",
    "    return 0\n",
    "  elif (class_and_total_watts[1] > 5000):\n",
    "    return 1\n",
    "  elif ((class_and_total_watts[0] == Energy_use_class_code_medium)) and (class_and_total_watts[1] > 600):\n",
    "    return 2\n",
    "  elif ( (class_and_total_watts[0] != Energy_use_class_code_low) and (class_and_total_watts[1] < 3000)) :\n",
    "    return 3\n",
    "  else:\n",
    "    return 999\n",
    "\n",
    "def get_energy_consumption_habit_title(energy_consumption_habit_code):\n",
    "  if (energy_consumption_habit_code == 0 ):\n",
    "    return 'Out of home'\n",
    "  elif (energy_consumption_habit_code == 1):\n",
    "    return 'Someone is taking a shower'\n",
    "  elif (energy_consumption_habit_code == 2):\n",
    "    return 'Someone is washing clothes'\n",
    "  elif (energy_consumption_habit_code == 3):\n",
    "    return 'Someone is cooking'\n",
    "  else:\n",
    "    return 'Undefined'\n",
    "\n",
    "data_set_2021_8['EnergyConsumptionHabitCode'] = data_set_2021_8[['EnergyUseClassCode', 'WattsTotal']].apply(get_energy_consumption_habit, axis=1)\n",
    "data_set_2021_8['EnergyConsumptionHabit'] = data_set_2021_8['EnergyConsumptionHabitCode'].apply(get_energy_consumption_habit_title)"
   ]
  },
  {
   "cell_type": "markdown",
   "metadata": {
    "id": "7xz3KlIdsXiM"
   },
   "source": [
    "* Criar e Exibir resultado do Pré-processamento do Dataset para divisão de treinamento e treinamento"
   ]
  },
  {
   "cell_type": "code",
   "execution_count": 217,
   "metadata": {
    "colab": {
     "base_uri": "https://localhost:8080/",
     "height": 444
    },
    "id": "CdytzeCTm3ZE",
    "outputId": "192f71d6-09c6-4c41-f874-1d18b2350123"
   },
   "outputs": [
    {
     "data": {
      "text/html": [
       "<div>\n",
       "<style scoped>\n",
       "    .dataframe tbody tr th:only-of-type {\n",
       "        vertical-align: middle;\n",
       "    }\n",
       "\n",
       "    .dataframe tbody tr th {\n",
       "        vertical-align: top;\n",
       "    }\n",
       "\n",
       "    .dataframe thead th {\n",
       "        text-align: right;\n",
       "    }\n",
       "</style>\n",
       "<table border=\"1\" class=\"dataframe\">\n",
       "  <thead>\n",
       "    <tr style=\"text-align: right;\">\n",
       "      <th></th>\n",
       "      <th>PeriodOfDayCode</th>\n",
       "      <th>PeriodOfDay</th>\n",
       "      <th>DayOfWeekCode</th>\n",
       "      <th>DayOfWeek</th>\n",
       "      <th>EnergyUseClassCode</th>\n",
       "      <th>WattsTotal</th>\n",
       "      <th>EnergyConsumptionHabitCode</th>\n",
       "      <th>EnergyConsumptionHabit</th>\n",
       "    </tr>\n",
       "  </thead>\n",
       "  <tbody>\n",
       "    <tr>\n",
       "      <th>0</th>\n",
       "      <td>2</td>\n",
       "      <td>LateNight</td>\n",
       "      <td>3</td>\n",
       "      <td>Sunday</td>\n",
       "      <td>0</td>\n",
       "      <td>435.76460</td>\n",
       "      <td>3</td>\n",
       "      <td>Someone is cooking</td>\n",
       "    </tr>\n",
       "    <tr>\n",
       "      <th>1</th>\n",
       "      <td>2</td>\n",
       "      <td>LateNight</td>\n",
       "      <td>3</td>\n",
       "      <td>Sunday</td>\n",
       "      <td>0</td>\n",
       "      <td>428.64252</td>\n",
       "      <td>3</td>\n",
       "      <td>Someone is cooking</td>\n",
       "    </tr>\n",
       "    <tr>\n",
       "      <th>2</th>\n",
       "      <td>2</td>\n",
       "      <td>LateNight</td>\n",
       "      <td>3</td>\n",
       "      <td>Sunday</td>\n",
       "      <td>0</td>\n",
       "      <td>429.69766</td>\n",
       "      <td>3</td>\n",
       "      <td>Someone is cooking</td>\n",
       "    </tr>\n",
       "    <tr>\n",
       "      <th>3</th>\n",
       "      <td>2</td>\n",
       "      <td>LateNight</td>\n",
       "      <td>3</td>\n",
       "      <td>Sunday</td>\n",
       "      <td>0</td>\n",
       "      <td>439.98505</td>\n",
       "      <td>3</td>\n",
       "      <td>Someone is cooking</td>\n",
       "    </tr>\n",
       "    <tr>\n",
       "      <th>4</th>\n",
       "      <td>2</td>\n",
       "      <td>LateNight</td>\n",
       "      <td>3</td>\n",
       "      <td>Sunday</td>\n",
       "      <td>0</td>\n",
       "      <td>426.26850</td>\n",
       "      <td>3</td>\n",
       "      <td>Someone is cooking</td>\n",
       "    </tr>\n",
       "    <tr>\n",
       "      <th>...</th>\n",
       "      <td>...</td>\n",
       "      <td>...</td>\n",
       "      <td>...</td>\n",
       "      <td>...</td>\n",
       "      <td>...</td>\n",
       "      <td>...</td>\n",
       "      <td>...</td>\n",
       "      <td>...</td>\n",
       "    </tr>\n",
       "    <tr>\n",
       "      <th>158523</th>\n",
       "      <td>4</td>\n",
       "      <td>Night</td>\n",
       "      <td>5</td>\n",
       "      <td>Tuesday</td>\n",
       "      <td>2</td>\n",
       "      <td>8158.97900</td>\n",
       "      <td>1</td>\n",
       "      <td>Someone is taking a shower</td>\n",
       "    </tr>\n",
       "    <tr>\n",
       "      <th>158524</th>\n",
       "      <td>4</td>\n",
       "      <td>Night</td>\n",
       "      <td>5</td>\n",
       "      <td>Tuesday</td>\n",
       "      <td>2</td>\n",
       "      <td>8226.77050</td>\n",
       "      <td>1</td>\n",
       "      <td>Someone is taking a shower</td>\n",
       "    </tr>\n",
       "    <tr>\n",
       "      <th>158525</th>\n",
       "      <td>4</td>\n",
       "      <td>Night</td>\n",
       "      <td>5</td>\n",
       "      <td>Tuesday</td>\n",
       "      <td>2</td>\n",
       "      <td>8180.34500</td>\n",
       "      <td>1</td>\n",
       "      <td>Someone is taking a shower</td>\n",
       "    </tr>\n",
       "    <tr>\n",
       "      <th>158526</th>\n",
       "      <td>4</td>\n",
       "      <td>Night</td>\n",
       "      <td>5</td>\n",
       "      <td>Tuesday</td>\n",
       "      <td>2</td>\n",
       "      <td>8208.30600</td>\n",
       "      <td>1</td>\n",
       "      <td>Someone is taking a shower</td>\n",
       "    </tr>\n",
       "    <tr>\n",
       "      <th>158527</th>\n",
       "      <td>4</td>\n",
       "      <td>Night</td>\n",
       "      <td>5</td>\n",
       "      <td>Tuesday</td>\n",
       "      <td>2</td>\n",
       "      <td>8189.84200</td>\n",
       "      <td>1</td>\n",
       "      <td>Someone is taking a shower</td>\n",
       "    </tr>\n",
       "  </tbody>\n",
       "</table>\n",
       "<p>158528 rows × 8 columns</p>\n",
       "</div>"
      ],
      "text/plain": [
       "        PeriodOfDayCode  ...      EnergyConsumptionHabit\n",
       "0                     2  ...          Someone is cooking\n",
       "1                     2  ...          Someone is cooking\n",
       "2                     2  ...          Someone is cooking\n",
       "3                     2  ...          Someone is cooking\n",
       "4                     2  ...          Someone is cooking\n",
       "...                 ...  ...                         ...\n",
       "158523                4  ...  Someone is taking a shower\n",
       "158524                4  ...  Someone is taking a shower\n",
       "158525                4  ...  Someone is taking a shower\n",
       "158526                4  ...  Someone is taking a shower\n",
       "158527                4  ...  Someone is taking a shower\n",
       "\n",
       "[158528 rows x 8 columns]"
      ]
     },
     "execution_count": 217,
     "metadata": {},
     "output_type": "execute_result"
    }
   ],
   "source": [
    "data_set_for_train_test =  data_set_2021_8[['PeriodOfDayCode', 'PeriodOfDay',  'DayOfWeekCode', 'DayOfWeek', 'EnergyUseClassCode', 'WattsTotal', 'EnergyConsumptionHabitCode', 'EnergyConsumptionHabit' ]]\n",
    "data_set_for_train_test"
   ]
  },
  {
   "cell_type": "markdown",
   "metadata": {
    "id": "q4j5J-3OtKL6"
   },
   "source": [
    "* Criar Datasets de Treinamento e Testes dividindo a base em 80% para treinamento e 20% para testes por por Período de Dia, Dia da Semana e Hábito de Consumo:"
   ]
  },
  {
   "cell_type": "code",
   "execution_count": 218,
   "metadata": {
    "id": "ifdJoLoEvB6Z"
   },
   "outputs": [],
   "source": [
    "from sklearn.model_selection import train_test_split\n",
    "\n",
    "# Criar datasets vazios de treinamento e testes:\n",
    "data_set_for_train = data_set_for_train_test.iloc[0:0]\n",
    "data_set_for_test = data_set_for_train_test.iloc[0:0]\n",
    "\n",
    "# Coletar e alimentar os datasets de treinamento e testes por Período de Dia, Dia da Semana e Hábito de Consumo \n",
    "for period_of_day in ['LateNight', 'EarlyMorning', 'Morning', 'Noon', 'Eve', 'Night' ]:\n",
    "  for day_of_week in ['Sunday', 'Monday', 'Tuesday' 'Wednesday', 'Thursday', 'Friday', 'Saturday' ]:\n",
    "    for energy_consumption_habit in ['Undefined', 'Out of home', 'Someone is taking a shower', 'Someone is washing clothes', 'Someone is cooking']:\n",
    "      data_set_filtered = data_set_for_train_test.query(f\"PeriodOfDay == '{period_of_day}' &  DayOfWeek == '{day_of_week}' & EnergyConsumptionHabit == '{energy_consumption_habit}'\")\n",
    "      if ( len(data_set_filtered) >= 10):\n",
    "        train, test = train_test_split(data_set_filtered, train_size=0.8)\n",
    "        data_set_for_train = data_set_for_train.append(train)\n",
    "        data_set_for_test = data_set_for_test.append(test)\n",
    "       "
   ]
  },
  {
   "cell_type": "markdown",
   "metadata": {
    "id": "EIgrv8da5EYC"
   },
   "source": [
    "* Exibir quantidade de exemplos para o treinamento"
   ]
  },
  {
   "cell_type": "code",
   "execution_count": 219,
   "metadata": {
    "colab": {
     "base_uri": "https://localhost:8080/",
     "height": 255
    },
    "id": "tIwpQOlP5JYJ",
    "outputId": "dfd87d6a-c8a2-4c57-da40-0dabfa8dfae4"
   },
   "outputs": [
    {
     "data": {
      "text/html": [
       "<div>\n",
       "<style scoped>\n",
       "    .dataframe tbody tr th:only-of-type {\n",
       "        vertical-align: middle;\n",
       "    }\n",
       "\n",
       "    .dataframe tbody tr th {\n",
       "        vertical-align: top;\n",
       "    }\n",
       "\n",
       "    .dataframe thead th {\n",
       "        text-align: right;\n",
       "    }\n",
       "</style>\n",
       "<table border=\"1\" class=\"dataframe\">\n",
       "  <thead>\n",
       "    <tr style=\"text-align: right;\">\n",
       "      <th></th>\n",
       "      <th>PeriodOfDayCode</th>\n",
       "      <th>PeriodOfDay</th>\n",
       "      <th>DayOfWeekCode</th>\n",
       "      <th>DayOfWeek</th>\n",
       "      <th>EnergyUseClassCode</th>\n",
       "      <th>WattsTotal</th>\n",
       "      <th>EnergyConsumptionHabitCode</th>\n",
       "    </tr>\n",
       "    <tr>\n",
       "      <th>EnergyConsumptionHabit</th>\n",
       "      <th></th>\n",
       "      <th></th>\n",
       "      <th></th>\n",
       "      <th></th>\n",
       "      <th></th>\n",
       "      <th></th>\n",
       "      <th></th>\n",
       "    </tr>\n",
       "  </thead>\n",
       "  <tbody>\n",
       "    <tr>\n",
       "      <th>Out of home</th>\n",
       "      <td>2577</td>\n",
       "      <td>2577</td>\n",
       "      <td>2577</td>\n",
       "      <td>2577</td>\n",
       "      <td>2577</td>\n",
       "      <td>2577</td>\n",
       "      <td>2577</td>\n",
       "    </tr>\n",
       "    <tr>\n",
       "      <th>Someone is cooking</th>\n",
       "      <td>61574</td>\n",
       "      <td>61574</td>\n",
       "      <td>61574</td>\n",
       "      <td>61574</td>\n",
       "      <td>61574</td>\n",
       "      <td>61574</td>\n",
       "      <td>61574</td>\n",
       "    </tr>\n",
       "    <tr>\n",
       "      <th>Someone is taking a shower</th>\n",
       "      <td>3647</td>\n",
       "      <td>3647</td>\n",
       "      <td>3647</td>\n",
       "      <td>3647</td>\n",
       "      <td>3647</td>\n",
       "      <td>3647</td>\n",
       "      <td>3647</td>\n",
       "    </tr>\n",
       "    <tr>\n",
       "      <th>Someone is washing clothes</th>\n",
       "      <td>4948</td>\n",
       "      <td>4948</td>\n",
       "      <td>4948</td>\n",
       "      <td>4948</td>\n",
       "      <td>4948</td>\n",
       "      <td>4948</td>\n",
       "      <td>4948</td>\n",
       "    </tr>\n",
       "    <tr>\n",
       "      <th>Undefined</th>\n",
       "      <td>11697</td>\n",
       "      <td>11697</td>\n",
       "      <td>11697</td>\n",
       "      <td>11697</td>\n",
       "      <td>11697</td>\n",
       "      <td>11697</td>\n",
       "      <td>11697</td>\n",
       "    </tr>\n",
       "  </tbody>\n",
       "</table>\n",
       "</div>"
      ],
      "text/plain": [
       "                            PeriodOfDayCode  ...  EnergyConsumptionHabitCode\n",
       "EnergyConsumptionHabit                       ...                            \n",
       "Out of home                            2577  ...                        2577\n",
       "Someone is cooking                    61574  ...                       61574\n",
       "Someone is taking a shower             3647  ...                        3647\n",
       "Someone is washing clothes             4948  ...                        4948\n",
       "Undefined                             11697  ...                       11697\n",
       "\n",
       "[5 rows x 7 columns]"
      ]
     },
     "execution_count": 219,
     "metadata": {},
     "output_type": "execute_result"
    }
   ],
   "source": [
    "data_set_for_train.groupby('EnergyConsumptionHabit').count()"
   ]
  },
  {
   "cell_type": "markdown",
   "metadata": {
    "id": "noJmUT685jqO"
   },
   "source": [
    "* Exibir quantidade de exemplos para os testes"
   ]
  },
  {
   "cell_type": "code",
   "execution_count": 220,
   "metadata": {
    "colab": {
     "base_uri": "https://localhost:8080/",
     "height": 255
    },
    "id": "uZzm199c5UJl",
    "outputId": "31de756f-bb6a-45da-db5e-5d95aa0e6ea8"
   },
   "outputs": [
    {
     "data": {
      "text/html": [
       "<div>\n",
       "<style scoped>\n",
       "    .dataframe tbody tr th:only-of-type {\n",
       "        vertical-align: middle;\n",
       "    }\n",
       "\n",
       "    .dataframe tbody tr th {\n",
       "        vertical-align: top;\n",
       "    }\n",
       "\n",
       "    .dataframe thead th {\n",
       "        text-align: right;\n",
       "    }\n",
       "</style>\n",
       "<table border=\"1\" class=\"dataframe\">\n",
       "  <thead>\n",
       "    <tr style=\"text-align: right;\">\n",
       "      <th></th>\n",
       "      <th>PeriodOfDayCode</th>\n",
       "      <th>PeriodOfDay</th>\n",
       "      <th>DayOfWeekCode</th>\n",
       "      <th>DayOfWeek</th>\n",
       "      <th>EnergyUseClassCode</th>\n",
       "      <th>WattsTotal</th>\n",
       "      <th>EnergyConsumptionHabitCode</th>\n",
       "    </tr>\n",
       "    <tr>\n",
       "      <th>EnergyConsumptionHabit</th>\n",
       "      <th></th>\n",
       "      <th></th>\n",
       "      <th></th>\n",
       "      <th></th>\n",
       "      <th></th>\n",
       "      <th></th>\n",
       "      <th></th>\n",
       "    </tr>\n",
       "  </thead>\n",
       "  <tbody>\n",
       "    <tr>\n",
       "      <th>Out of home</th>\n",
       "      <td>645</td>\n",
       "      <td>645</td>\n",
       "      <td>645</td>\n",
       "      <td>645</td>\n",
       "      <td>645</td>\n",
       "      <td>645</td>\n",
       "      <td>645</td>\n",
       "    </tr>\n",
       "    <tr>\n",
       "      <th>Someone is cooking</th>\n",
       "      <td>15409</td>\n",
       "      <td>15409</td>\n",
       "      <td>15409</td>\n",
       "      <td>15409</td>\n",
       "      <td>15409</td>\n",
       "      <td>15409</td>\n",
       "      <td>15409</td>\n",
       "    </tr>\n",
       "    <tr>\n",
       "      <th>Someone is taking a shower</th>\n",
       "      <td>923</td>\n",
       "      <td>923</td>\n",
       "      <td>923</td>\n",
       "      <td>923</td>\n",
       "      <td>923</td>\n",
       "      <td>923</td>\n",
       "      <td>923</td>\n",
       "    </tr>\n",
       "    <tr>\n",
       "      <th>Someone is washing clothes</th>\n",
       "      <td>1246</td>\n",
       "      <td>1246</td>\n",
       "      <td>1246</td>\n",
       "      <td>1246</td>\n",
       "      <td>1246</td>\n",
       "      <td>1246</td>\n",
       "      <td>1246</td>\n",
       "    </tr>\n",
       "    <tr>\n",
       "      <th>Undefined</th>\n",
       "      <td>2928</td>\n",
       "      <td>2928</td>\n",
       "      <td>2928</td>\n",
       "      <td>2928</td>\n",
       "      <td>2928</td>\n",
       "      <td>2928</td>\n",
       "      <td>2928</td>\n",
       "    </tr>\n",
       "  </tbody>\n",
       "</table>\n",
       "</div>"
      ],
      "text/plain": [
       "                            PeriodOfDayCode  ...  EnergyConsumptionHabitCode\n",
       "EnergyConsumptionHabit                       ...                            \n",
       "Out of home                             645  ...                         645\n",
       "Someone is cooking                    15409  ...                       15409\n",
       "Someone is taking a shower              923  ...                         923\n",
       "Someone is washing clothes             1246  ...                        1246\n",
       "Undefined                              2928  ...                        2928\n",
       "\n",
       "[5 rows x 7 columns]"
      ]
     },
     "execution_count": 220,
     "metadata": {},
     "output_type": "execute_result"
    }
   ],
   "source": [
    "data_set_for_test.groupby('EnergyConsumptionHabit').count()"
   ]
  },
  {
   "cell_type": "markdown",
   "metadata": {
    "id": "EFRJgrRyYX3d"
   },
   "source": [
    "* Salvar Datasets de Treinamento e tests"
   ]
  },
  {
   "cell_type": "code",
   "execution_count": 221,
   "metadata": {
    "id": "FlGvd2vmHGm3"
   },
   "outputs": [],
   "source": [
    "data_set_for_train.to_csv('data_set_for_train.csv')\n",
    "data_set_for_test.to_csv('data_set_for_test.csv')"
   ]
  }
 ],
 "metadata": {
  "colab": {
   "collapsed_sections": [],
   "name": "I_Aplicação_de_Métodos_de_Aprendizagem_de_Máquina_Entrega_II.ipynb",
   "provenance": []
  },
  "kernelspec": {
   "display_name": "Python 3 (ipykernel)",
   "language": "python",
   "name": "python3"
  },
  "language_info": {
   "codemirror_mode": {
    "name": "ipython",
    "version": 3
   },
   "file_extension": ".py",
   "mimetype": "text/x-python",
   "name": "python",
   "nbconvert_exporter": "python",
   "pygments_lexer": "ipython3",
   "version": "3.10.11"
  }
 },
 "nbformat": 4,
 "nbformat_minor": 4
}
