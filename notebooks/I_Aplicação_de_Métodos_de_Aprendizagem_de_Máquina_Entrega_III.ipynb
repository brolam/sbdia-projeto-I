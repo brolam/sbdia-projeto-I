{
  "nbformat": 4,
  "nbformat_minor": 0,
  "metadata": {
    "colab": {
      "name": "I_Aplicação_de_Métodos_de_Aprendizagem_de_Máquina_Entrega_III.ipynb",
      "provenance": [],
      "collapsed_sections": [
        "95-sbiBI4e90",
        "c9DnLq0vcwhQ",
        "1TuJCvAPluR_",
        "WDkcXpCAty8K",
        "0wozjDA8x3n8",
        "i5-XeejI0Y2F"
      ]
    },
    "kernelspec": {
      "name": "python3",
      "display_name": "Python 3"
    },
    "language_info": {
      "name": "python"
    }
  },
  "cells": [
    {
      "cell_type": "markdown",
      "metadata": {
        "id": "wMZwE9g72qgH"
      },
      "source": [
        "**Identificação**: BRENO ALAN ALVES MARQUES (2462286)\n",
        "\n",
        "# [Domótica] Classificar as tarefas mais rotineiras de uma habitação\n",
        "## Avaliar os métodos de aprendizado de máquina\n"
      ]
    },
    {
      "cell_type": "markdown",
      "metadata": {
        "id": "95-sbiBI4e90"
      },
      "source": [
        "### Iniciando DataSet "
      ]
    },
    {
      "cell_type": "markdown",
      "metadata": {
        "id": "DyVThnOC3Eyh"
      },
      "source": [
        "* Carregando o DataSets de treinamento e testes"
      ]
    },
    {
      "cell_type": "code",
      "metadata": {
        "id": "j8_mtpO12j01"
      },
      "source": [
        "import pandas as pd\n",
        "data_set_for_train = pd.read_csv('https://github.com/brolam/sbdia-projeto-I/raw/main/data/data_set_for_train.csv')\n",
        "data_set_for_test = pd.read_csv('https://github.com/brolam/sbdia-projeto-I/raw/main/data/data_set_for_test.csv')"
      ],
      "execution_count": 87,
      "outputs": []
    },
    {
      "cell_type": "markdown",
      "metadata": {
        "id": "yGkHD0uh32ra"
      },
      "source": [
        "* Exibir atributos do DataSet"
      ]
    },
    {
      "cell_type": "code",
      "metadata": {
        "colab": {
          "base_uri": "https://localhost:8080/",
          "height": 244
        },
        "id": "tMQlrEiP39mr",
        "outputId": "d5cbe3b5-ddc3-403d-8e15-c20bd8f8ca71"
      },
      "source": [
        "data_set_for_train.head()"
      ],
      "execution_count": 88,
      "outputs": [
        {
          "output_type": "execute_result",
          "data": {
            "text/html": [
              "<div>\n",
              "<style scoped>\n",
              "    .dataframe tbody tr th:only-of-type {\n",
              "        vertical-align: middle;\n",
              "    }\n",
              "\n",
              "    .dataframe tbody tr th {\n",
              "        vertical-align: top;\n",
              "    }\n",
              "\n",
              "    .dataframe thead th {\n",
              "        text-align: right;\n",
              "    }\n",
              "</style>\n",
              "<table border=\"1\" class=\"dataframe\">\n",
              "  <thead>\n",
              "    <tr style=\"text-align: right;\">\n",
              "      <th></th>\n",
              "      <th>Unnamed: 0</th>\n",
              "      <th>PeriodOfDayCode</th>\n",
              "      <th>PeriodOfDay</th>\n",
              "      <th>DayOfWeekCode</th>\n",
              "      <th>DayOfWeek</th>\n",
              "      <th>EnergyUseClassCode</th>\n",
              "      <th>WattsTotal</th>\n",
              "      <th>EnergyConsumptionHabitCode</th>\n",
              "      <th>EnergyConsumptionHabit</th>\n",
              "    </tr>\n",
              "  </thead>\n",
              "  <tbody>\n",
              "    <tr>\n",
              "      <th>0</th>\n",
              "      <td>43244</td>\n",
              "      <td>2</td>\n",
              "      <td>LateNight</td>\n",
              "      <td>3</td>\n",
              "      <td>Sunday</td>\n",
              "      <td>2</td>\n",
              "      <td>9595.789</td>\n",
              "      <td>1</td>\n",
              "      <td>Someone is taking a shower</td>\n",
              "    </tr>\n",
              "    <tr>\n",
              "      <th>1</th>\n",
              "      <td>43247</td>\n",
              "      <td>2</td>\n",
              "      <td>LateNight</td>\n",
              "      <td>3</td>\n",
              "      <td>Sunday</td>\n",
              "      <td>2</td>\n",
              "      <td>9565.718</td>\n",
              "      <td>1</td>\n",
              "      <td>Someone is taking a shower</td>\n",
              "    </tr>\n",
              "    <tr>\n",
              "      <th>2</th>\n",
              "      <td>43245</td>\n",
              "      <td>2</td>\n",
              "      <td>LateNight</td>\n",
              "      <td>3</td>\n",
              "      <td>Sunday</td>\n",
              "      <td>2</td>\n",
              "      <td>9645.115</td>\n",
              "      <td>1</td>\n",
              "      <td>Someone is taking a shower</td>\n",
              "    </tr>\n",
              "    <tr>\n",
              "      <th>3</th>\n",
              "      <td>43243</td>\n",
              "      <td>2</td>\n",
              "      <td>LateNight</td>\n",
              "      <td>3</td>\n",
              "      <td>Sunday</td>\n",
              "      <td>2</td>\n",
              "      <td>9517.447</td>\n",
              "      <td>1</td>\n",
              "      <td>Someone is taking a shower</td>\n",
              "    </tr>\n",
              "    <tr>\n",
              "      <th>4</th>\n",
              "      <td>140230</td>\n",
              "      <td>2</td>\n",
              "      <td>LateNight</td>\n",
              "      <td>3</td>\n",
              "      <td>Sunday</td>\n",
              "      <td>2</td>\n",
              "      <td>8623.760</td>\n",
              "      <td>1</td>\n",
              "      <td>Someone is taking a shower</td>\n",
              "    </tr>\n",
              "  </tbody>\n",
              "</table>\n",
              "</div>"
            ],
            "text/plain": [
              "   Unnamed: 0  ...      EnergyConsumptionHabit\n",
              "0       43244  ...  Someone is taking a shower\n",
              "1       43247  ...  Someone is taking a shower\n",
              "2       43245  ...  Someone is taking a shower\n",
              "3       43243  ...  Someone is taking a shower\n",
              "4      140230  ...  Someone is taking a shower\n",
              "\n",
              "[5 rows x 9 columns]"
            ]
          },
          "metadata": {},
          "execution_count": 88
        }
      ]
    },
    {
      "cell_type": "markdown",
      "metadata": {
        "id": "9amawIzwVq71"
      },
      "source": [
        "* Carregar o Normatizador e normatizar a base de treinamento e testes"
      ]
    },
    {
      "cell_type": "code",
      "metadata": {
        "id": "XGAhdaWUTXHm"
      },
      "source": [
        "from sklearn.preprocessing import StandardScaler\n",
        "from urllib.request import urlopen\n",
        "\n",
        "scaler_data_set = load(urlopen('https://github.com/brolam/sbdia-projeto-I/raw/main/models/scaler_data_set.pkl'))\n",
        "train_standardized = scaler_data_set.fit_transform(data_set_for_train[['PeriodOfDayCode', 'DayOfWeekCode', 'WattsTotal', 'WattsTotal']])\n",
        "test_standardized = scaler_data_set.fit_transform(data_set_for_test[['PeriodOfDayCode', 'DayOfWeekCode', 'WattsTotal', 'WattsTotal']])\n",
        "\n"
      ],
      "execution_count": 89,
      "outputs": []
    },
    {
      "cell_type": "markdown",
      "metadata": {
        "id": "uqMcOyKQXkCc"
      },
      "source": [
        "* Exibir dataset de treinamento Normatizado"
      ]
    },
    {
      "cell_type": "code",
      "metadata": {
        "colab": {
          "base_uri": "https://localhost:8080/"
        },
        "id": "cKyGcmBMXrT1",
        "outputId": "85a24538-a789-47f6-c2d7-5ed1f8309f87"
      },
      "source": [
        "train_standardized"
      ],
      "execution_count": 90,
      "outputs": [
        {
          "output_type": "execute_result",
          "data": {
            "text/plain": [
              "array([[-0.24749691,  0.73859427,  4.53072244,  4.53072244],\n",
              "       [-0.24749691,  0.73859427,  4.51520427,  4.51520427],\n",
              "       [-0.24749691,  0.73859427,  4.55617717,  4.55617717],\n",
              "       ...,\n",
              "       [ 0.94318143,  0.00902853, -0.32087073, -0.32087073],\n",
              "       [ 0.94318143,  0.00902853, -0.24532193, -0.24532193],\n",
              "       [ 0.94318143,  0.00902853, -0.25961495, -0.25961495]])"
            ]
          },
          "metadata": {},
          "execution_count": 90
        }
      ]
    },
    {
      "cell_type": "markdown",
      "metadata": {
        "id": "c9DnLq0vcwhQ"
      },
      "source": [
        "## Aplicando o algoritmo RandomForest"
      ]
    },
    {
      "cell_type": "code",
      "metadata": {
        "id": "IupAYvSKZ4Fx"
      },
      "source": [
        "from sklearn.ensemble import RandomForestClassifier\n",
        "from sklearn.metrics import confusion_matrix, accuracy_score\n",
        "\n",
        "#Realizar o treinamento:\n",
        "random_forest_classifier = RandomForestClassifier(n_estimators=40, criterion='entropy', random_state=0)\n",
        "random_forest_classifier.fit(train_standardized, data_set_for_train.EnergyConsumptionHabitCode.values)\n",
        "\n",
        "#Obter resultado da previsão \n",
        "random_forest_predict = random_forest_classifier.predict(test_standardized)"
      ],
      "execution_count": 91,
      "outputs": []
    },
    {
      "cell_type": "markdown",
      "metadata": {
        "id": "uN_XYBv6crpZ"
      },
      "source": [
        " * Aplicando o algorítimo RandomForest - Exbir Precisão"
      ]
    },
    {
      "cell_type": "code",
      "metadata": {
        "colab": {
          "base_uri": "https://localhost:8080/"
        },
        "id": "yqzpgTRPc_Rt",
        "outputId": "0ff35e27-c867-4d9d-dd9f-a55401d7534a"
      },
      "source": [
        "accuracy_score(data_set_for_test.EnergyConsumptionHabitCode.values, random_forest_predict)"
      ],
      "execution_count": 84,
      "outputs": [
        {
          "output_type": "execute_result",
          "data": {
            "text/plain": [
              "0.9994326509384899"
            ]
          },
          "metadata": {},
          "execution_count": 84
        }
      ]
    },
    {
      "cell_type": "markdown",
      "metadata": {
        "id": "eBN3fHzodBwU"
      },
      "source": [
        " * Aplicando o algoritmo RandomForest - Matriz de Confusão"
      ]
    },
    {
      "cell_type": "code",
      "metadata": {
        "colab": {
          "base_uri": "https://localhost:8080/",
          "height": 501
        },
        "id": "WawIFoOLdibS",
        "outputId": "ff5de4e2-c1a5-4613-d193-d22049d05a92"
      },
      "source": [
        "import matplotlib.pyplot as plt\n",
        "random_forest_conf_matrix = confusion_matrix(data_set_for_test.EnergyConsumptionHabitCode.values, random_forest_predict)\n",
        "fig, ax = plt.subplots(figsize=(7.5, 7.5))\n",
        "ax.matshow(random_forest_conf_matrix, cmap=plt.cm.Blues, alpha=0.3)\n",
        "for i in range(random_forest_conf_matrix.shape[0]):\n",
        "    for j in range(random_forest_conf_matrix.shape[1]):\n",
        "        ax.text(x=j, y=i,s=random_forest_conf_matrix[i, j], va='center', ha='center', size='xx-large')\n",
        " \n",
        "plt.xlabel('Predictions', fontsize=18)\n",
        "plt.ylabel('Actuals', fontsize=18)\n",
        "plt.title('Confusion Matrix', fontsize=18)\n",
        "plt.show()"
      ],
      "execution_count": 92,
      "outputs": [
        {
          "output_type": "display_data",
          "data": {
            "image/png": "[encoded data removed]",
            "text/plain": [
              "<Figure size 540x540 with 1 Axes>"
            ]
          },
          "metadata": {
            "needs_background": "light"
          }
        }
      ]
    },
    {
      "cell_type": "markdown",
      "metadata": {
        "id": "q4tPcLWRgaE4"
      },
      "source": [
        "* Aplicando o algoritmo RandomForest  - Listar inconsistências"
      ]
    },
    {
      "cell_type": "code",
      "metadata": {
        "colab": {
          "base_uri": "https://localhost:8080/",
          "height": 426
        },
        "id": "MieJ7pdagll7",
        "outputId": "5701bedd-243a-4778-f181-5af9796d471a"
      },
      "source": [
        "data_set_for_test['EnergyConsumptionHabitCodePredict'] = random_forest_predict\n",
        "random_forest_diff = data_set_for_test[ data_set_for_test.EnergyConsumptionHabitCode != data_set_for_test.EnergyConsumptionHabitCodePredict]\n",
        "random_forest_diff[['PeriodOfDay', 'DayOfWeekCode', 'WattsTotal', 'EnergyConsumptionHabitCode', 'EnergyConsumptionHabitCodePredict'] ]"
      ],
      "execution_count": 93,
      "outputs": [
        {
          "output_type": "execute_result",
          "data": {
            "text/html": [
              "<div>\n",
              "<style scoped>\n",
              "    .dataframe tbody tr th:only-of-type {\n",
              "        vertical-align: middle;\n",
              "    }\n",
              "\n",
              "    .dataframe tbody tr th {\n",
              "        vertical-align: top;\n",
              "    }\n",
              "\n",
              "    .dataframe thead th {\n",
              "        text-align: right;\n",
              "    }\n",
              "</style>\n",
              "<table border=\"1\" class=\"dataframe\">\n",
              "  <thead>\n",
              "    <tr style=\"text-align: right;\">\n",
              "      <th></th>\n",
              "      <th>PeriodOfDay</th>\n",
              "      <th>DayOfWeekCode</th>\n",
              "      <th>WattsTotal</th>\n",
              "      <th>EnergyConsumptionHabitCode</th>\n",
              "      <th>EnergyConsumptionHabitCodePredict</th>\n",
              "    </tr>\n",
              "  </thead>\n",
              "  <tbody>\n",
              "    <tr>\n",
              "      <th>2337</th>\n",
              "      <td>LateNight</td>\n",
              "      <td>4</td>\n",
              "      <td>183.32710</td>\n",
              "      <td>999</td>\n",
              "      <td>0</td>\n",
              "    </tr>\n",
              "    <tr>\n",
              "      <th>6130</th>\n",
              "      <td>EarlyMorning</td>\n",
              "      <td>4</td>\n",
              "      <td>184.64600</td>\n",
              "      <td>999</td>\n",
              "      <td>0</td>\n",
              "    </tr>\n",
              "    <tr>\n",
              "      <th>8808</th>\n",
              "      <td>Morning</td>\n",
              "      <td>1</td>\n",
              "      <td>600.62710</td>\n",
              "      <td>2</td>\n",
              "      <td>3</td>\n",
              "    </tr>\n",
              "    <tr>\n",
              "      <th>8831</th>\n",
              "      <td>Morning</td>\n",
              "      <td>1</td>\n",
              "      <td>601.41840</td>\n",
              "      <td>2</td>\n",
              "      <td>3</td>\n",
              "    </tr>\n",
              "    <tr>\n",
              "      <th>10145</th>\n",
              "      <td>Morning</td>\n",
              "      <td>0</td>\n",
              "      <td>601.94600</td>\n",
              "      <td>2</td>\n",
              "      <td>3</td>\n",
              "    </tr>\n",
              "    <tr>\n",
              "      <th>10202</th>\n",
              "      <td>Morning</td>\n",
              "      <td>0</td>\n",
              "      <td>600.89080</td>\n",
              "      <td>2</td>\n",
              "      <td>3</td>\n",
              "    </tr>\n",
              "    <tr>\n",
              "      <th>13692</th>\n",
              "      <td>Noon</td>\n",
              "      <td>0</td>\n",
              "      <td>600.62710</td>\n",
              "      <td>2</td>\n",
              "      <td>3</td>\n",
              "    </tr>\n",
              "    <tr>\n",
              "      <th>15747</th>\n",
              "      <td>Eve</td>\n",
              "      <td>1</td>\n",
              "      <td>600.09950</td>\n",
              "      <td>2</td>\n",
              "      <td>3</td>\n",
              "    </tr>\n",
              "    <tr>\n",
              "      <th>15857</th>\n",
              "      <td>Eve</td>\n",
              "      <td>1</td>\n",
              "      <td>601.94600</td>\n",
              "      <td>2</td>\n",
              "      <td>3</td>\n",
              "    </tr>\n",
              "    <tr>\n",
              "      <th>19913</th>\n",
              "      <td>Night</td>\n",
              "      <td>4</td>\n",
              "      <td>184.64600</td>\n",
              "      <td>999</td>\n",
              "      <td>0</td>\n",
              "    </tr>\n",
              "    <tr>\n",
              "      <th>20005</th>\n",
              "      <td>Night</td>\n",
              "      <td>4</td>\n",
              "      <td>185.17357</td>\n",
              "      <td>999</td>\n",
              "      <td>0</td>\n",
              "    </tr>\n",
              "    <tr>\n",
              "      <th>20116</th>\n",
              "      <td>Night</td>\n",
              "      <td>4</td>\n",
              "      <td>185.17357</td>\n",
              "      <td>999</td>\n",
              "      <td>0</td>\n",
              "    </tr>\n",
              "  </tbody>\n",
              "</table>\n",
              "</div>"
            ],
            "text/plain": [
              "        PeriodOfDay  ...  EnergyConsumptionHabitCodePredict\n",
              "2337      LateNight  ...                                  0\n",
              "6130   EarlyMorning  ...                                  0\n",
              "8808        Morning  ...                                  3\n",
              "8831        Morning  ...                                  3\n",
              "10145       Morning  ...                                  3\n",
              "10202       Morning  ...                                  3\n",
              "13692          Noon  ...                                  3\n",
              "15747           Eve  ...                                  3\n",
              "15857           Eve  ...                                  3\n",
              "19913         Night  ...                                  0\n",
              "20005         Night  ...                                  0\n",
              "20116         Night  ...                                  0\n",
              "\n",
              "[12 rows x 5 columns]"
            ]
          },
          "metadata": {},
          "execution_count": 93
        }
      ]
    },
    {
      "cell_type": "markdown",
      "metadata": {
        "id": "1TuJCvAPluR_"
      },
      "source": [
        "## Aplicando o algoritmo MLPClassifier"
      ]
    },
    {
      "cell_type": "code",
      "metadata": {
        "colab": {
          "base_uri": "https://localhost:8080/"
        },
        "id": "uUa8Id6Hmb5B",
        "outputId": "728e5d3b-4d29-483d-f2e5-a75288966649"
      },
      "source": [
        "from sklearn.neural_network import MLPClassifier\n",
        "from sklearn.metrics import confusion_matrix, accuracy_score\n",
        "\n",
        "#Realizar o treinamento:\n",
        "mlp_classifier = MLPClassifier(verbose=False, max_iter=3, tol=0.000010)\n",
        "mlp_classifier.fit(train_standardized, data_set_for_train.EnergyConsumptionHabitCode.values)\n",
        "\n",
        "#Obter resultado da previsão \n",
        "mlp_classifier_predict = mlp_classifier.predict(test_standardized)"
      ],
      "execution_count": 96,
      "outputs": [
        {
          "output_type": "stream",
          "name": "stderr",
          "text": [
            "/usr/local/lib/python3.7/dist-packages/sklearn/neural_network/_multilayer_perceptron.py:696: ConvergenceWarning: Stochastic Optimizer: Maximum iterations (3) reached and the optimization hasn't converged yet.\n",
            "  ConvergenceWarning,\n"
          ]
        }
      ]
    },
    {
      "cell_type": "markdown",
      "metadata": {
        "id": "i2YhtJjKnOAR"
      },
      "source": [
        " * Aplicando o algorítimo MLPClassifier - Exbir Precisão"
      ]
    },
    {
      "cell_type": "code",
      "metadata": {
        "colab": {
          "base_uri": "https://localhost:8080/"
        },
        "id": "1tn7Ew4KnOsI",
        "outputId": "a056190b-c31c-4177-e1c0-a15f25a3a57a"
      },
      "source": [
        "accuracy_score(data_set_for_test.EnergyConsumptionHabitCode.values, mlp_classifier_predict)"
      ],
      "execution_count": 97,
      "outputs": [
        {
          "output_type": "execute_result",
          "data": {
            "text/plain": [
              "0.9882275069736656"
            ]
          },
          "metadata": {},
          "execution_count": 97
        }
      ]
    },
    {
      "cell_type": "markdown",
      "metadata": {
        "id": "Aa26AOCOnYUZ"
      },
      "source": [
        " * Aplicando o algorítimo MLPClassifier - Matriz de Confusão"
      ]
    },
    {
      "cell_type": "code",
      "metadata": {
        "colab": {
          "base_uri": "https://localhost:8080/",
          "height": 501
        },
        "id": "Qrf_bt9BnrJF",
        "outputId": "43e057cf-43e2-4b5f-858b-5ae13098b05f"
      },
      "source": [
        "import matplotlib.pyplot as plt\n",
        "mlp_classifier_conf_matrix = confusion_matrix(data_set_for_test.EnergyConsumptionHabitCode.values, mlp_classifier_predict)\n",
        "fig, ax = plt.subplots(figsize=(7.5, 7.5))\n",
        "ax.matshow(mlp_classifier_conf_matrix, cmap=plt.cm.Blues, alpha=0.3)\n",
        "for i in range(mlp_classifier_conf_matrix.shape[0]):\n",
        "    for j in range(mlp_classifier_conf_matrix.shape[1]):\n",
        "        ax.text(x=j, y=i,s=mlp_classifier_conf_matrix[i, j], va='center', ha='center', size='xx-large')\n",
        " \n",
        "plt.xlabel('Predictions', fontsize=18)\n",
        "plt.ylabel('Actuals', fontsize=18)\n",
        "plt.title('MLPClassifier - Confusion Matrix', fontsize=18)\n",
        "plt.show()"
      ],
      "execution_count": 98,
      "outputs": [
        {
          "output_type": "display_data",
          "data": {
            "image/png": "[encoded data removed]",
            "text/plain": [
              "<Figure size 540x540 with 1 Axes>"
            ]
          },
          "metadata": {
            "needs_background": "light"
          }
        }
      ]
    },
    {
      "cell_type": "markdown",
      "metadata": {
        "id": "WJShgDbQpsL2"
      },
      "source": [
        "* Aplicando o algoritmo MLPClassifier - Listar inconsistências"
      ]
    },
    {
      "cell_type": "code",
      "metadata": {
        "colab": {
          "base_uri": "https://localhost:8080/",
          "height": 424
        },
        "id": "9_vLq-VAps_K",
        "outputId": "c0ba4511-c439-4b7e-a1b9-4bd09c9fc011"
      },
      "source": [
        "data_set_for_test['EnergyConsumptionHabitCodePredictMlp'] = mlp_classifier_predict\n",
        "mlp__forest_diff = data_set_for_test[ data_set_for_test.EnergyConsumptionHabitCode != data_set_for_test.EnergyConsumptionHabitCodePredictMlp]\n",
        "mlp__forest_diff[['PeriodOfDay', 'DayOfWeekCode', 'WattsTotal', 'EnergyConsumptionHabitCode', 'EnergyConsumptionHabitCodePredictMlp'] ]"
      ],
      "execution_count": 99,
      "outputs": [
        {
          "output_type": "execute_result",
          "data": {
            "text/html": [
              "<div>\n",
              "<style scoped>\n",
              "    .dataframe tbody tr th:only-of-type {\n",
              "        vertical-align: middle;\n",
              "    }\n",
              "\n",
              "    .dataframe tbody tr th {\n",
              "        vertical-align: top;\n",
              "    }\n",
              "\n",
              "    .dataframe thead th {\n",
              "        text-align: right;\n",
              "    }\n",
              "</style>\n",
              "<table border=\"1\" class=\"dataframe\">\n",
              "  <thead>\n",
              "    <tr style=\"text-align: right;\">\n",
              "      <th></th>\n",
              "      <th>PeriodOfDay</th>\n",
              "      <th>DayOfWeekCode</th>\n",
              "      <th>WattsTotal</th>\n",
              "      <th>EnergyConsumptionHabitCode</th>\n",
              "      <th>EnergyConsumptionHabitCodePredictMlp</th>\n",
              "    </tr>\n",
              "  </thead>\n",
              "  <tbody>\n",
              "    <tr>\n",
              "      <th>5218</th>\n",
              "      <td>EarlyMorning</td>\n",
              "      <td>1</td>\n",
              "      <td>734.891100</td>\n",
              "      <td>2</td>\n",
              "      <td>3</td>\n",
              "    </tr>\n",
              "    <tr>\n",
              "      <th>6385</th>\n",
              "      <td>EarlyMorning</td>\n",
              "      <td>4</td>\n",
              "      <td>160.905800</td>\n",
              "      <td>0</td>\n",
              "      <td>999</td>\n",
              "    </tr>\n",
              "    <tr>\n",
              "      <th>6386</th>\n",
              "      <td>EarlyMorning</td>\n",
              "      <td>4</td>\n",
              "      <td>169.874330</td>\n",
              "      <td>0</td>\n",
              "      <td>999</td>\n",
              "    </tr>\n",
              "    <tr>\n",
              "      <th>6389</th>\n",
              "      <td>EarlyMorning</td>\n",
              "      <td>4</td>\n",
              "      <td>160.114460</td>\n",
              "      <td>0</td>\n",
              "      <td>999</td>\n",
              "    </tr>\n",
              "    <tr>\n",
              "      <th>6390</th>\n",
              "      <td>EarlyMorning</td>\n",
              "      <td>4</td>\n",
              "      <td>156.421550</td>\n",
              "      <td>0</td>\n",
              "      <td>999</td>\n",
              "    </tr>\n",
              "    <tr>\n",
              "      <th>...</th>\n",
              "      <td>...</td>\n",
              "      <td>...</td>\n",
              "      <td>...</td>\n",
              "      <td>...</td>\n",
              "      <td>...</td>\n",
              "    </tr>\n",
              "    <tr>\n",
              "      <th>20241</th>\n",
              "      <td>Night</td>\n",
              "      <td>4</td>\n",
              "      <td>125.295500</td>\n",
              "      <td>0</td>\n",
              "      <td>999</td>\n",
              "    </tr>\n",
              "    <tr>\n",
              "      <th>20242</th>\n",
              "      <td>Night</td>\n",
              "      <td>4</td>\n",
              "      <td>122.393930</td>\n",
              "      <td>0</td>\n",
              "      <td>999</td>\n",
              "    </tr>\n",
              "    <tr>\n",
              "      <th>20243</th>\n",
              "      <td>Night</td>\n",
              "      <td>4</td>\n",
              "      <td>120.283676</td>\n",
              "      <td>0</td>\n",
              "      <td>999</td>\n",
              "    </tr>\n",
              "    <tr>\n",
              "      <th>20244</th>\n",
              "      <td>Night</td>\n",
              "      <td>4</td>\n",
              "      <td>125.031715</td>\n",
              "      <td>0</td>\n",
              "      <td>999</td>\n",
              "    </tr>\n",
              "    <tr>\n",
              "      <th>20245</th>\n",
              "      <td>Night</td>\n",
              "      <td>4</td>\n",
              "      <td>122.657690</td>\n",
              "      <td>0</td>\n",
              "      <td>999</td>\n",
              "    </tr>\n",
              "  </tbody>\n",
              "</table>\n",
              "<p>249 rows × 5 columns</p>\n",
              "</div>"
            ],
            "text/plain": [
              "        PeriodOfDay  ...  EnergyConsumptionHabitCodePredictMlp\n",
              "5218   EarlyMorning  ...                                     3\n",
              "6385   EarlyMorning  ...                                   999\n",
              "6386   EarlyMorning  ...                                   999\n",
              "6389   EarlyMorning  ...                                   999\n",
              "6390   EarlyMorning  ...                                   999\n",
              "...             ...  ...                                   ...\n",
              "20241         Night  ...                                   999\n",
              "20242         Night  ...                                   999\n",
              "20243         Night  ...                                   999\n",
              "20244         Night  ...                                   999\n",
              "20245         Night  ...                                   999\n",
              "\n",
              "[249 rows x 5 columns]"
            ]
          },
          "metadata": {},
          "execution_count": 99
        }
      ]
    },
    {
      "cell_type": "markdown",
      "metadata": {
        "id": "WDkcXpCAty8K"
      },
      "source": [
        "## Aplicando o algoritmo GaussianNB"
      ]
    },
    {
      "cell_type": "code",
      "metadata": {
        "id": "FiHzTliaty8T"
      },
      "source": [
        "from sklearn.naive_bayes import GaussianNB\n",
        "from sklearn.metrics import confusion_matrix, accuracy_score\n",
        "\n",
        "#Realizar o treinamento:\n",
        "nb_classifier = GaussianNB()\n",
        "nb_classifier.fit(train_standardized, data_set_for_train.EnergyConsumptionHabitCode.values)\n",
        "\n",
        "#Obter resultado da previsão \n",
        "nb_classifier_predict = nb_classifier.predict(test_standardized)"
      ],
      "execution_count": 100,
      "outputs": []
    },
    {
      "cell_type": "markdown",
      "metadata": {
        "id": "r_ZGghnEty8U"
      },
      "source": [
        " * Aplicando o algoritmo GaussianNB - Exibir Precisão"
      ]
    },
    {
      "cell_type": "code",
      "metadata": {
        "colab": {
          "base_uri": "https://localhost:8080/"
        },
        "id": "YUzdtz9tty8U",
        "outputId": "e788ca0f-7e81-4997-b4bf-28ce06a5c0e9"
      },
      "source": [
        "accuracy_score(data_set_for_test.EnergyConsumptionHabitCode.values, nb_classifier_predict)"
      ],
      "execution_count": 79,
      "outputs": [
        {
          "output_type": "execute_result",
          "data": {
            "text/plain": [
              "0.8294170488392983"
            ]
          },
          "metadata": {},
          "execution_count": 79
        }
      ]
    },
    {
      "cell_type": "markdown",
      "metadata": {
        "id": "_xT0Js7ity8U"
      },
      "source": [
        " * Aplicando o algoritmo GaussianNB - Matriz de Confusão"
      ]
    },
    {
      "cell_type": "code",
      "metadata": {
        "colab": {
          "base_uri": "https://localhost:8080/",
          "height": 501
        },
        "id": "62ljrqlHty8V",
        "outputId": "56985fd2-1a28-4b8e-9a23-3d5ae7e282aa"
      },
      "source": [
        "import matplotlib.pyplot as plt\n",
        "nb_classifier_conf_matrix = confusion_matrix(data_set_for_test.EnergyConsumptionHabitCode.values, nb_classifier_predict)\n",
        "fig, ax = plt.subplots(figsize=(7.5, 7.5))\n",
        "ax.matshow(nb_classifier_conf_matrix, cmap=plt.cm.Blues, alpha=0.3)\n",
        "for i in range(nb_classifier_conf_matrix.shape[0]):\n",
        "    for j in range(nb_classifier_conf_matrix.shape[1]):\n",
        "        ax.text(x=j, y=i,s=nb_classifier_conf_matrix[i, j], va='center', ha='center', size='xx-large')\n",
        " \n",
        "plt.xlabel('Predictions', fontsize=18)\n",
        "plt.ylabel('Actuals', fontsize=18)\n",
        "plt.title('GaussianNB - Confusion Matrix', fontsize=18)\n",
        "plt.show()"
      ],
      "execution_count": 101,
      "outputs": [
        {
          "output_type": "display_data",
          "data": {
            "image/png": "[encoded data removed]",
            "text/plain": [
              "<Figure size 540x540 with 1 Axes>"
            ]
          },
          "metadata": {
            "needs_background": "light"
          }
        }
      ]
    },
    {
      "cell_type": "markdown",
      "metadata": {
        "id": "CYryyjaKty8V"
      },
      "source": [
        "* Aplicando o algoritmo GaussianNB - Listar inconsistências"
      ]
    },
    {
      "cell_type": "code",
      "metadata": {
        "colab": {
          "base_uri": "https://localhost:8080/",
          "height": 424
        },
        "id": "XTsiPWQ0ty8V",
        "outputId": "0cb037b6-4ae6-447a-c67e-9f56851a6795"
      },
      "source": [
        "data_set_for_test['EnergyConsumptionHabitCodePredictNb'] = nb_classifier_predict\n",
        "nb__forest_diff = data_set_for_test[ data_set_for_test.EnergyConsumptionHabitCode != data_set_for_test.EnergyConsumptionHabitCodePredictNb]\n",
        "nb__forest_diff[['PeriodOfDay', 'DayOfWeekCode', 'WattsTotal', 'EnergyConsumptionHabitCode', 'EnergyConsumptionHabitCodePredictNb'] ]"
      ],
      "execution_count": 102,
      "outputs": [
        {
          "output_type": "execute_result",
          "data": {
            "text/html": [
              "<div>\n",
              "<style scoped>\n",
              "    .dataframe tbody tr th:only-of-type {\n",
              "        vertical-align: middle;\n",
              "    }\n",
              "\n",
              "    .dataframe tbody tr th {\n",
              "        vertical-align: top;\n",
              "    }\n",
              "\n",
              "    .dataframe thead th {\n",
              "        text-align: right;\n",
              "    }\n",
              "</style>\n",
              "<table border=\"1\" class=\"dataframe\">\n",
              "  <thead>\n",
              "    <tr style=\"text-align: right;\">\n",
              "      <th></th>\n",
              "      <th>PeriodOfDay</th>\n",
              "      <th>DayOfWeekCode</th>\n",
              "      <th>WattsTotal</th>\n",
              "      <th>EnergyConsumptionHabitCode</th>\n",
              "      <th>EnergyConsumptionHabitCodePredictNb</th>\n",
              "    </tr>\n",
              "  </thead>\n",
              "  <tbody>\n",
              "    <tr>\n",
              "      <th>2058</th>\n",
              "      <td>LateNight</td>\n",
              "      <td>4</td>\n",
              "      <td>291.476900</td>\n",
              "      <td>999</td>\n",
              "      <td>3</td>\n",
              "    </tr>\n",
              "    <tr>\n",
              "      <th>2059</th>\n",
              "      <td>LateNight</td>\n",
              "      <td>4</td>\n",
              "      <td>259.559540</td>\n",
              "      <td>999</td>\n",
              "      <td>3</td>\n",
              "    </tr>\n",
              "    <tr>\n",
              "      <th>2060</th>\n",
              "      <td>LateNight</td>\n",
              "      <td>4</td>\n",
              "      <td>284.354830</td>\n",
              "      <td>999</td>\n",
              "      <td>3</td>\n",
              "    </tr>\n",
              "    <tr>\n",
              "      <th>2061</th>\n",
              "      <td>LateNight</td>\n",
              "      <td>4</td>\n",
              "      <td>282.772160</td>\n",
              "      <td>999</td>\n",
              "      <td>3</td>\n",
              "    </tr>\n",
              "    <tr>\n",
              "      <th>2062</th>\n",
              "      <td>LateNight</td>\n",
              "      <td>4</td>\n",
              "      <td>289.366640</td>\n",
              "      <td>999</td>\n",
              "      <td>3</td>\n",
              "    </tr>\n",
              "    <tr>\n",
              "      <th>...</th>\n",
              "      <td>...</td>\n",
              "      <td>...</td>\n",
              "      <td>...</td>\n",
              "      <td>...</td>\n",
              "      <td>...</td>\n",
              "    </tr>\n",
              "    <tr>\n",
              "      <th>20241</th>\n",
              "      <td>Night</td>\n",
              "      <td>4</td>\n",
              "      <td>125.295500</td>\n",
              "      <td>0</td>\n",
              "      <td>3</td>\n",
              "    </tr>\n",
              "    <tr>\n",
              "      <th>20242</th>\n",
              "      <td>Night</td>\n",
              "      <td>4</td>\n",
              "      <td>122.393930</td>\n",
              "      <td>0</td>\n",
              "      <td>3</td>\n",
              "    </tr>\n",
              "    <tr>\n",
              "      <th>20243</th>\n",
              "      <td>Night</td>\n",
              "      <td>4</td>\n",
              "      <td>120.283676</td>\n",
              "      <td>0</td>\n",
              "      <td>3</td>\n",
              "    </tr>\n",
              "    <tr>\n",
              "      <th>20244</th>\n",
              "      <td>Night</td>\n",
              "      <td>4</td>\n",
              "      <td>125.031715</td>\n",
              "      <td>0</td>\n",
              "      <td>3</td>\n",
              "    </tr>\n",
              "    <tr>\n",
              "      <th>20245</th>\n",
              "      <td>Night</td>\n",
              "      <td>4</td>\n",
              "      <td>122.657690</td>\n",
              "      <td>0</td>\n",
              "      <td>3</td>\n",
              "    </tr>\n",
              "  </tbody>\n",
              "</table>\n",
              "<p>3608 rows × 5 columns</p>\n",
              "</div>"
            ],
            "text/plain": [
              "      PeriodOfDay  ...  EnergyConsumptionHabitCodePredictNb\n",
              "2058    LateNight  ...                                    3\n",
              "2059    LateNight  ...                                    3\n",
              "2060    LateNight  ...                                    3\n",
              "2061    LateNight  ...                                    3\n",
              "2062    LateNight  ...                                    3\n",
              "...           ...  ...                                  ...\n",
              "20241       Night  ...                                    3\n",
              "20242       Night  ...                                    3\n",
              "20243       Night  ...                                    3\n",
              "20244       Night  ...                                    3\n",
              "20245       Night  ...                                    3\n",
              "\n",
              "[3608 rows x 5 columns]"
            ]
          },
          "metadata": {},
          "execution_count": 102
        }
      ]
    },
    {
      "cell_type": "markdown",
      "metadata": {
        "id": "0wozjDA8x3n8"
      },
      "source": [
        "## Comparar os resultados obtidos"
      ]
    },
    {
      "cell_type": "code",
      "metadata": {
        "colab": {
          "base_uri": "https://localhost:8080/"
        },
        "id": "Ilnri6RdySZx",
        "outputId": "3ed8fe40-07b6-4c88-8c3e-b6fea3a9493e"
      },
      "source": [
        "print('Resultado RandomForest: ', round(accuracy_score(data_set_for_test.EnergyConsumptionHabitCode.values, random_forest_predict) * 100,2))\n",
        "print('Resultado MLPClassifier: ', round(accuracy_score(data_set_for_test.EnergyConsumptionHabitCode.values, mlp_classifier_predict) * 100,2))\n",
        "print('Resultado GaussianNB: ', round(accuracy_score(data_set_for_test.EnergyConsumptionHabitCode.values, nb_classifier_predict) * 100,2))"
      ],
      "execution_count": 111,
      "outputs": [
        {
          "output_type": "stream",
          "name": "stdout",
          "text": [
            "Resultado RandomForest:  99.94\n",
            "Resultado MLPClassifier:  98.82\n",
            "Resultado GaussianNB:  82.94\n"
          ]
        }
      ]
    },
    {
      "cell_type": "markdown",
      "metadata": {
        "id": "TNHqZarozTEt"
      },
      "source": [
        "* Comparando a precisão e velocidade para criar o modelo, o algoritmo RandomForest obteve a melhor precisão com o menor tempo para gerar o modelo. Sendo assim, o algoritmo RandomForest será implantado para realizar as previsões sobre a base de consumo de energia no mês de novembro.\n"
      ]
    },
    {
      "cell_type": "markdown",
      "metadata": {
        "id": "i5-XeejI0Y2F"
      },
      "source": [
        "## Implantar o Modelo e realizar previsões"
      ]
    },
    {
      "cell_type": "markdown",
      "metadata": {
        "id": "p48z0DnQ00AT"
      },
      "source": [
        "* Salvar o modelo"
      ]
    },
    {
      "cell_type": "code",
      "metadata": {
        "id": "bEmuaz-T0qsD"
      },
      "source": [
        "from pickle import dump\n",
        "dump(random_forest_classifier, open('random_forest_classifier.pkl', 'wb'))"
      ],
      "execution_count": 112,
      "outputs": []
    },
    {
      "cell_type": "markdown",
      "metadata": {
        "id": "oC_YdFo21FNv"
      },
      "source": [
        "* Carregar o modelo salvo"
      ]
    },
    {
      "cell_type": "code",
      "metadata": {
        "id": "HUrqFUhF1LY2"
      },
      "source": [
        "from pickle import load\n",
        "\n",
        "random_forest_classifier = load(open('random_forest_classifier.pkl', 'rb'))"
      ],
      "execution_count": 113,
      "outputs": []
    },
    {
      "cell_type": "markdown",
      "metadata": {
        "id": "4WRIkBWI1Y3n"
      },
      "source": [
        "* Carregar dataset do mês de Setembro 2021"
      ]
    },
    {
      "cell_type": "code",
      "metadata": {
        "id": "G3d1XWiS1wHS"
      },
      "source": [
        "import pandas as pd\n",
        "data_set_2021_9 = pd.read_csv('https://github.com/brolam/sbdia-projeto-I/raw/main/data/OHA-2021-9.csv')"
      ],
      "execution_count": 114,
      "outputs": []
    },
    {
      "cell_type": "markdown",
      "metadata": {
        "id": "dccN1w_L2BqW"
      },
      "source": [
        " * Carregar LabelEncoder e Normatizador"
      ]
    },
    {
      "cell_type": "code",
      "metadata": {
        "id": "GijhlQlB2aFK"
      },
      "source": [
        "from sklearn.preprocessing import LabelEncoder\n",
        "from sklearn.preprocessing import StandardScaler\n",
        "from urllib.request import urlopen\n",
        "\n",
        "encoder_period_of_day = load(urlopen('https://github.com/brolam/sbdia-projeto-I/raw/main/models/encoder_period_of_day.pkl'))\n",
        "encoder_day_of_week = load(urlopen('https://github.com/brolam/sbdia-projeto-I/raw/main/models/encoder_day_of_week.pkl'))\n",
        "scaler_data_set = load(urlopen('https://github.com/brolam/sbdia-projeto-I/raw/main/models/scaler_data_set.pkl'))"
      ],
      "execution_count": 115,
      "outputs": []
    },
    {
      "cell_type": "markdown",
      "metadata": {
        "id": "3NQX9eEV3NuH"
      },
      "source": [
        "* Adicionar as colunas PeriodOfDayCode e DayOfWeekCode no data_set_2021_9   "
      ]
    },
    {
      "cell_type": "code",
      "metadata": {
        "id": "BBIPL2OV3aRr"
      },
      "source": [
        "data_set_2021_9[\"PeriodOfDayCode\"] = encoder_period_of_day.transform(data_set_2021_9.PeriodOfDay)\n",
        "data_set_2021_9[\"DayOfWeekCode\"] = encoder_day_of_week.transform(data_set_2021_9.DayOfWeek)"
      ],
      "execution_count": 116,
      "outputs": []
    },
    {
      "cell_type": "markdown",
      "metadata": {
        "id": "sKEVHptj5TZk"
      },
      "source": [
        "* Selecionar os atributos previsoes normatizados"
      ]
    },
    {
      "cell_type": "code",
      "metadata": {
        "id": "s5g-5Fa82uAW"
      },
      "source": [
        "data_set_standardized = scaler_data_set.fit_transform(data_set_2021_9[['PeriodOfDayCode', 'DayOfWeekCode', 'WattsTotal', 'WattsTotal']])"
      ],
      "execution_count": 117,
      "outputs": []
    },
    {
      "cell_type": "markdown",
      "metadata": {
        "id": "FdDpNfzf6IWs"
      },
      "source": [
        "* Realizar a previsão e adiconar a coluna EnergyConsumptionHabitCode com o resultado da previsão"
      ]
    },
    {
      "cell_type": "code",
      "metadata": {
        "id": "h5TNauNj6pum"
      },
      "source": [
        "data_set_2021_9['EnergyConsumptionHabitCode'] = random_forest_classifier.predict(data_set_standardized)"
      ],
      "execution_count": 118,
      "outputs": []
    },
    {
      "cell_type": "markdown",
      "metadata": {
        "id": "i5PZBDRG7C4d"
      },
      "source": [
        "* Adicionar o label para o atributo "
      ]
    },
    {
      "cell_type": "code",
      "metadata": {
        "id": "gp2gjWbB67DA"
      },
      "source": [
        "def get_energy_consumption_habit_title(energy_consumption_habit_code):\n",
        "  if (energy_consumption_habit_code == 0 ):\n",
        "    return 'Out of home'\n",
        "  elif (energy_consumption_habit_code == 1):\n",
        "    return 'Someone is taking a shower'\n",
        "  elif (energy_consumption_habit_code == 2):\n",
        "    return 'Someone is washing clothes'\n",
        "  elif (energy_consumption_habit_code == 3):\n",
        "    return 'Someone is cooking'\n",
        "  else:\n",
        "    return 'Undefined'\n",
        "\n",
        "data_set_2021_9['EnergyConsumptionHabit'] = data_set_2021_9['EnergyConsumptionHabitCode'].apply(get_energy_consumption_habit_title)"
      ],
      "execution_count": 119,
      "outputs": []
    },
    {
      "cell_type": "markdown",
      "metadata": {
        "id": "phkea20o7VaX"
      },
      "source": [
        "* Exibir o data_set_2021_9 após a previsão"
      ]
    },
    {
      "cell_type": "code",
      "metadata": {
        "colab": {
          "base_uri": "https://localhost:8080/",
          "height": 444
        },
        "id": "ysaO6gco7eJm",
        "outputId": "5634c0fc-5631-48e7-d3f2-c5c1f5393705"
      },
      "source": [
        "data_set_2021_9"
      ],
      "execution_count": 120,
      "outputs": [
        {
          "output_type": "execute_result",
          "data": {
            "text/html": [
              "<div>\n",
              "<style scoped>\n",
              "    .dataframe tbody tr th:only-of-type {\n",
              "        vertical-align: middle;\n",
              "    }\n",
              "\n",
              "    .dataframe tbody tr th {\n",
              "        vertical-align: top;\n",
              "    }\n",
              "\n",
              "    .dataframe thead th {\n",
              "        text-align: right;\n",
              "    }\n",
              "</style>\n",
              "<table border=\"1\" class=\"dataframe\">\n",
              "  <thead>\n",
              "    <tr style=\"text-align: right;\">\n",
              "      <th></th>\n",
              "      <th>Day</th>\n",
              "      <th>Hour</th>\n",
              "      <th>PeriodOfDay</th>\n",
              "      <th>DayOfWeek</th>\n",
              "      <th>UnixTime</th>\n",
              "      <th>Duration</th>\n",
              "      <th>Watts1</th>\n",
              "      <th>Watts2</th>\n",
              "      <th>Watts3</th>\n",
              "      <th>WattsTotal</th>\n",
              "      <th>PeriodOfDayCode</th>\n",
              "      <th>DayOfWeekCode</th>\n",
              "      <th>EnergyConsumptionHabitCode</th>\n",
              "      <th>EnergyConsumptionHabit</th>\n",
              "    </tr>\n",
              "  </thead>\n",
              "  <tbody>\n",
              "    <tr>\n",
              "      <th>0</th>\n",
              "      <td>1</td>\n",
              "      <td>0</td>\n",
              "      <td>LateNight</td>\n",
              "      <td>Wednesday</td>\n",
              "      <td>1630465201</td>\n",
              "      <td>14</td>\n",
              "      <td>107.886024</td>\n",
              "      <td>8070.08540</td>\n",
              "      <td>0</td>\n",
              "      <td>8177.97100</td>\n",
              "      <td>2</td>\n",
              "      <td>6</td>\n",
              "      <td>1</td>\n",
              "      <td>Someone is taking a shower</td>\n",
              "    </tr>\n",
              "    <tr>\n",
              "      <th>1</th>\n",
              "      <td>1</td>\n",
              "      <td>0</td>\n",
              "      <td>LateNight</td>\n",
              "      <td>Wednesday</td>\n",
              "      <td>1630465215</td>\n",
              "      <td>14</td>\n",
              "      <td>104.720665</td>\n",
              "      <td>8050.82900</td>\n",
              "      <td>0</td>\n",
              "      <td>8155.55000</td>\n",
              "      <td>2</td>\n",
              "      <td>6</td>\n",
              "      <td>1</td>\n",
              "      <td>Someone is taking a shower</td>\n",
              "    </tr>\n",
              "    <tr>\n",
              "      <th>2</th>\n",
              "      <td>1</td>\n",
              "      <td>0</td>\n",
              "      <td>LateNight</td>\n",
              "      <td>Wednesday</td>\n",
              "      <td>1630465229</td>\n",
              "      <td>14</td>\n",
              "      <td>105.248220</td>\n",
              "      <td>8057.16060</td>\n",
              "      <td>0</td>\n",
              "      <td>8162.40870</td>\n",
              "      <td>2</td>\n",
              "      <td>6</td>\n",
              "      <td>1</td>\n",
              "      <td>Someone is taking a shower</td>\n",
              "    </tr>\n",
              "    <tr>\n",
              "      <th>3</th>\n",
              "      <td>1</td>\n",
              "      <td>0</td>\n",
              "      <td>LateNight</td>\n",
              "      <td>Wednesday</td>\n",
              "      <td>1630465243</td>\n",
              "      <td>14</td>\n",
              "      <td>99.972620</td>\n",
              "      <td>8172.95950</td>\n",
              "      <td>0</td>\n",
              "      <td>8272.93300</td>\n",
              "      <td>2</td>\n",
              "      <td>6</td>\n",
              "      <td>1</td>\n",
              "      <td>Someone is taking a shower</td>\n",
              "    </tr>\n",
              "    <tr>\n",
              "      <th>4</th>\n",
              "      <td>1</td>\n",
              "      <td>0</td>\n",
              "      <td>LateNight</td>\n",
              "      <td>Wednesday</td>\n",
              "      <td>1630465257</td>\n",
              "      <td>14</td>\n",
              "      <td>105.248220</td>\n",
              "      <td>8148.95560</td>\n",
              "      <td>0</td>\n",
              "      <td>8254.20300</td>\n",
              "      <td>2</td>\n",
              "      <td>6</td>\n",
              "      <td>1</td>\n",
              "      <td>Someone is taking a shower</td>\n",
              "    </tr>\n",
              "    <tr>\n",
              "      <th>...</th>\n",
              "      <td>...</td>\n",
              "      <td>...</td>\n",
              "      <td>...</td>\n",
              "      <td>...</td>\n",
              "      <td>...</td>\n",
              "      <td>...</td>\n",
              "      <td>...</td>\n",
              "      <td>...</td>\n",
              "      <td>...</td>\n",
              "      <td>...</td>\n",
              "      <td>...</td>\n",
              "      <td>...</td>\n",
              "      <td>...</td>\n",
              "      <td>...</td>\n",
              "    </tr>\n",
              "    <tr>\n",
              "      <th>181430</th>\n",
              "      <td>30</td>\n",
              "      <td>20</td>\n",
              "      <td>Eve</td>\n",
              "      <td>Thursday</td>\n",
              "      <td>1633044117</td>\n",
              "      <td>14</td>\n",
              "      <td>232.126400</td>\n",
              "      <td>128.19708</td>\n",
              "      <td>0</td>\n",
              "      <td>360.32350</td>\n",
              "      <td>1</td>\n",
              "      <td>4</td>\n",
              "      <td>3</td>\n",
              "      <td>Someone is cooking</td>\n",
              "    </tr>\n",
              "    <tr>\n",
              "      <th>181431</th>\n",
              "      <td>30</td>\n",
              "      <td>20</td>\n",
              "      <td>Eve</td>\n",
              "      <td>Thursday</td>\n",
              "      <td>1633044159</td>\n",
              "      <td>14</td>\n",
              "      <td>226.323240</td>\n",
              "      <td>122.39392</td>\n",
              "      <td>0</td>\n",
              "      <td>348.71713</td>\n",
              "      <td>1</td>\n",
              "      <td>4</td>\n",
              "      <td>3</td>\n",
              "      <td>Someone is cooking</td>\n",
              "    </tr>\n",
              "    <tr>\n",
              "      <th>181432</th>\n",
              "      <td>30</td>\n",
              "      <td>20</td>\n",
              "      <td>Eve</td>\n",
              "      <td>Thursday</td>\n",
              "      <td>1633044201</td>\n",
              "      <td>14</td>\n",
              "      <td>222.366550</td>\n",
              "      <td>155.63020</td>\n",
              "      <td>0</td>\n",
              "      <td>377.99673</td>\n",
              "      <td>1</td>\n",
              "      <td>4</td>\n",
              "      <td>3</td>\n",
              "      <td>Someone is cooking</td>\n",
              "    </tr>\n",
              "    <tr>\n",
              "      <th>181433</th>\n",
              "      <td>30</td>\n",
              "      <td>20</td>\n",
              "      <td>Eve</td>\n",
              "      <td>Thursday</td>\n",
              "      <td>1633044215</td>\n",
              "      <td>14</td>\n",
              "      <td>223.949220</td>\n",
              "      <td>159.05934</td>\n",
              "      <td>0</td>\n",
              "      <td>383.00858</td>\n",
              "      <td>1</td>\n",
              "      <td>4</td>\n",
              "      <td>3</td>\n",
              "      <td>Someone is cooking</td>\n",
              "    </tr>\n",
              "    <tr>\n",
              "      <th>181434</th>\n",
              "      <td>30</td>\n",
              "      <td>20</td>\n",
              "      <td>Eve</td>\n",
              "      <td>Thursday</td>\n",
              "      <td>1633044243</td>\n",
              "      <td>14</td>\n",
              "      <td>223.421680</td>\n",
              "      <td>154.83885</td>\n",
              "      <td>0</td>\n",
              "      <td>378.26053</td>\n",
              "      <td>1</td>\n",
              "      <td>4</td>\n",
              "      <td>3</td>\n",
              "      <td>Someone is cooking</td>\n",
              "    </tr>\n",
              "  </tbody>\n",
              "</table>\n",
              "<p>181435 rows × 14 columns</p>\n",
              "</div>"
            ],
            "text/plain": [
              "        Day  Hour  ... EnergyConsumptionHabitCode      EnergyConsumptionHabit\n",
              "0         1     0  ...                          1  Someone is taking a shower\n",
              "1         1     0  ...                          1  Someone is taking a shower\n",
              "2         1     0  ...                          1  Someone is taking a shower\n",
              "3         1     0  ...                          1  Someone is taking a shower\n",
              "4         1     0  ...                          1  Someone is taking a shower\n",
              "...     ...   ...  ...                        ...                         ...\n",
              "181430   30    20  ...                          3          Someone is cooking\n",
              "181431   30    20  ...                          3          Someone is cooking\n",
              "181432   30    20  ...                          3          Someone is cooking\n",
              "181433   30    20  ...                          3          Someone is cooking\n",
              "181434   30    20  ...                          3          Someone is cooking\n",
              "\n",
              "[181435 rows x 14 columns]"
            ]
          },
          "metadata": {},
          "execution_count": 120
        }
      ]
    },
    {
      "cell_type": "markdown",
      "metadata": {
        "id": "46mvJdKh96Mg"
      },
      "source": [
        "* Somar o tempo agrupado por  de energia por Hábito de Consumo"
      ]
    },
    {
      "cell_type": "code",
      "metadata": {
        "colab": {
          "base_uri": "https://localhost:8080/"
        },
        "id": "qcpmQOhw7xv2",
        "outputId": "1cde5d23-2d50-4da6-ee06-e4e0d5013d0d"
      },
      "source": [
        "data_set_2021_9.groupby('EnergyConsumptionHabit')['Duration'].sum() / 3600"
      ],
      "execution_count": 128,
      "outputs": [
        {
          "output_type": "execute_result",
          "data": {
            "text/plain": [
              "EnergyConsumptionHabit\n",
              "Out of home                    23.003333\n",
              "Someone is cooking            524.985000\n",
              "Someone is taking a shower     29.785833\n",
              "Someone is washing clothes     40.082778\n",
              "Undefined                      90.215278\n",
              "Name: Duration, dtype: float64"
            ]
          },
          "metadata": {},
          "execution_count": 128
        }
      ]
    }
  ]
}