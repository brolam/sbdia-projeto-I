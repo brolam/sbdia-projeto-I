{
  "nbformat": 4,
  "nbformat_minor": 0,
  "metadata": {
    "colab": {
      "name": "I_Aplicação_de_Métodos_de_Aprendizagem_de_Máquina_Entrega_II.ipynb",
      "provenance": [],
      "collapsed_sections": []
    },
    "kernelspec": {
      "name": "python3",
      "display_name": "Python 3"
    },
    "language_info": {
      "name": "python"
    }
  },
  "cells": [
    {
      "cell_type": "markdown",
      "metadata": {
        "id": "wMZwE9g72qgH"
      },
      "source": [
        "**Identificação**: BRENO ALAN ALVES MARQUES (2462286)\n",
        "\n",
        "# [Domótica] Classificar as tarefas mais rotineiras de uma habitação\n",
        "## Pré-processamento\n"
      ]
    },
    {
      "cell_type": "markdown",
      "metadata": {
        "id": "95-sbiBI4e90"
      },
      "source": [
        "### Iniciando DataSet "
      ]
    },
    {
      "cell_type": "markdown",
      "metadata": {
        "id": "DyVThnOC3Eyh"
      },
      "source": [
        "* Carregando o DataSet"
      ]
    },
    {
      "cell_type": "code",
      "metadata": {
        "id": "j8_mtpO12j01"
      },
      "source": [
        "import pandas as pd\n",
        "data_set_2021_8 = pd.read_csv('https://github.com/brolam/sbdia-projeto-I/raw/main/data/OHA-2021-8.csv')"
      ],
      "execution_count": 24,
      "outputs": []
    },
    {
      "cell_type": "markdown",
      "metadata": {
        "id": "yGkHD0uh32ra"
      },
      "source": [
        "* Exibir atributos do DataSet"
      ]
    },
    {
      "cell_type": "code",
      "metadata": {
        "colab": {
          "base_uri": "https://localhost:8080/",
          "height": 206
        },
        "id": "tMQlrEiP39mr",
        "outputId": "7bf57842-bb6d-4f51-896f-41f5841b1d41"
      },
      "source": [
        "data_set_2021_8.head()"
      ],
      "execution_count": 25,
      "outputs": [
        {
          "output_type": "execute_result",
          "data": {
            "text/html": [
              "<div>\n",
              "<style scoped>\n",
              "    .dataframe tbody tr th:only-of-type {\n",
              "        vertical-align: middle;\n",
              "    }\n",
              "\n",
              "    .dataframe tbody tr th {\n",
              "        vertical-align: top;\n",
              "    }\n",
              "\n",
              "    .dataframe thead th {\n",
              "        text-align: right;\n",
              "    }\n",
              "</style>\n",
              "<table border=\"1\" class=\"dataframe\">\n",
              "  <thead>\n",
              "    <tr style=\"text-align: right;\">\n",
              "      <th></th>\n",
              "      <th>Day</th>\n",
              "      <th>Hour</th>\n",
              "      <th>PeriodOfDay</th>\n",
              "      <th>DayOfWeek</th>\n",
              "      <th>UnixTime</th>\n",
              "      <th>Duration</th>\n",
              "      <th>Watts1</th>\n",
              "      <th>Watts2</th>\n",
              "      <th>Watts3</th>\n",
              "      <th>WattsTotal</th>\n",
              "    </tr>\n",
              "  </thead>\n",
              "  <tbody>\n",
              "    <tr>\n",
              "      <th>0</th>\n",
              "      <td>1</td>\n",
              "      <td>0</td>\n",
              "      <td>LateNight</td>\n",
              "      <td>Sunday</td>\n",
              "      <td>1627786806</td>\n",
              "      <td>14</td>\n",
              "      <td>163.01604</td>\n",
              "      <td>272.74854</td>\n",
              "      <td>0</td>\n",
              "      <td>435.76460</td>\n",
              "    </tr>\n",
              "    <tr>\n",
              "      <th>1</th>\n",
              "      <td>1</td>\n",
              "      <td>0</td>\n",
              "      <td>LateNight</td>\n",
              "      <td>Sunday</td>\n",
              "      <td>1627786820</td>\n",
              "      <td>14</td>\n",
              "      <td>155.36642</td>\n",
              "      <td>273.27606</td>\n",
              "      <td>0</td>\n",
              "      <td>428.64252</td>\n",
              "    </tr>\n",
              "    <tr>\n",
              "      <th>2</th>\n",
              "      <td>1</td>\n",
              "      <td>0</td>\n",
              "      <td>LateNight</td>\n",
              "      <td>Sunday</td>\n",
              "      <td>1627786834</td>\n",
              "      <td>14</td>\n",
              "      <td>155.10265</td>\n",
              "      <td>274.59497</td>\n",
              "      <td>0</td>\n",
              "      <td>429.69766</td>\n",
              "    </tr>\n",
              "    <tr>\n",
              "      <th>3</th>\n",
              "      <td>1</td>\n",
              "      <td>0</td>\n",
              "      <td>LateNight</td>\n",
              "      <td>Sunday</td>\n",
              "      <td>1627786848</td>\n",
              "      <td>14</td>\n",
              "      <td>156.15776</td>\n",
              "      <td>283.82730</td>\n",
              "      <td>0</td>\n",
              "      <td>439.98505</td>\n",
              "    </tr>\n",
              "    <tr>\n",
              "      <th>4</th>\n",
              "      <td>1</td>\n",
              "      <td>0</td>\n",
              "      <td>LateNight</td>\n",
              "      <td>Sunday</td>\n",
              "      <td>1627786862</td>\n",
              "      <td>14</td>\n",
              "      <td>157.74045</td>\n",
              "      <td>268.52805</td>\n",
              "      <td>0</td>\n",
              "      <td>426.26850</td>\n",
              "    </tr>\n",
              "  </tbody>\n",
              "</table>\n",
              "</div>"
            ],
            "text/plain": [
              "   Day  Hour PeriodOfDay DayOfWeek  ...     Watts1     Watts2  Watts3  WattsTotal\n",
              "0    1     0   LateNight    Sunday  ...  163.01604  272.74854       0   435.76460\n",
              "1    1     0   LateNight    Sunday  ...  155.36642  273.27606       0   428.64252\n",
              "2    1     0   LateNight    Sunday  ...  155.10265  274.59497       0   429.69766\n",
              "3    1     0   LateNight    Sunday  ...  156.15776  283.82730       0   439.98505\n",
              "4    1     0   LateNight    Sunday  ...  157.74045  268.52805       0   426.26850\n",
              "\n",
              "[5 rows x 10 columns]"
            ]
          },
          "metadata": {},
          "execution_count": 25
        }
      ]
    },
    {
      "cell_type": "markdown",
      "metadata": {
        "id": "KTd9YsVQ4XA1"
      },
      "source": [
        "### Codificação de rótulo - as colunas PeriodOfDay e DayOfWeek passarão pelo processo de Codificação de rótulo"
      ]
    },
    {
      "cell_type": "markdown",
      "metadata": {
        "id": "hgBChGGU5hzh"
      },
      "source": [
        "* Criar LabelEncoder para os atributos PeriodOfDay e DayOfWeek"
      ]
    },
    {
      "cell_type": "code",
      "metadata": {
        "colab": {
          "base_uri": "https://localhost:8080/"
        },
        "id": "5pZqRYmx4bf6",
        "outputId": "c82e503b-42a0-4774-8ff4-961e56685ba9"
      },
      "source": [
        "from sklearn.preprocessing import LabelEncoder\n",
        "from pickle import dump\n",
        "encoder_period_of_day = LabelEncoder()\n",
        "encoder_day_of_week = LabelEncoder()\n",
        "encoder_period_of_day.fit(data_set_2021_8.PeriodOfDay.values)\n",
        "encoder_day_of_week.fit(data_set_2021_8.DayOfWeek.values)"
      ],
      "execution_count": 26,
      "outputs": [
        {
          "output_type": "execute_result",
          "data": {
            "text/plain": [
              "LabelEncoder()"
            ]
          },
          "metadata": {},
          "execution_count": 26
        }
      ]
    },
    {
      "cell_type": "markdown",
      "metadata": {
        "id": "srvT_voB511z"
      },
      "source": [
        "* Salvar LabelEncoder"
      ]
    },
    {
      "cell_type": "code",
      "metadata": {
        "id": "2HLkiTco503i"
      },
      "source": [
        "dump(encoder_period_of_day, open('encoder_period_of_day.pkl', 'wb'))\n",
        "dump(encoder_day_of_week, open('encoder_day_of_week.pkl', 'wb'))"
      ],
      "execution_count": 27,
      "outputs": []
    },
    {
      "cell_type": "markdown",
      "metadata": {
        "id": "_PYhwDz66i4Y"
      },
      "source": [
        "* Carregar LabelEncoder"
      ]
    },
    {
      "cell_type": "code",
      "metadata": {
        "id": "rlZSBBFr6qh8"
      },
      "source": [
        "from pickle import load\n",
        "\n",
        "encoder_period_of_day = load(open('encoder_period_of_day.pkl', 'rb'))\n",
        "encoder_day_of_week = load(open('encoder_day_of_week.pkl', 'rb'))"
      ],
      "execution_count": 28,
      "outputs": []
    },
    {
      "cell_type": "markdown",
      "metadata": {
        "id": "7vgsPBCR7YGp"
      },
      "source": [
        "* Adicionar Codigos para as colunas PeriodOfDay e DayOfWeek"
      ]
    },
    {
      "cell_type": "code",
      "metadata": {
        "id": "GRVvS3h06zTf"
      },
      "source": [
        "data_set_2021_8[\"PeriodOfDayCode\"] = encoder_period_of_day.transform(data_set_2021_8.PeriodOfDay)\n",
        "data_set_2021_8[\"DayOfWeekCode\"] = encoder_day_of_week.transform(data_set_2021_8.DayOfWeek)"
      ],
      "execution_count": 29,
      "outputs": []
    },
    {
      "cell_type": "markdown",
      "metadata": {
        "id": "G0kX4a0o8hxj"
      },
      "source": [
        "* Exibir DataSet com a adição das colunas de código para PeridOfDay e DayOfWeek"
      ]
    },
    {
      "cell_type": "code",
      "metadata": {
        "colab": {
          "base_uri": "https://localhost:8080/",
          "height": 206
        },
        "id": "aGZCbVx87PrS",
        "outputId": "b15b8184-9c79-4d94-d90c-5c94009668bf"
      },
      "source": [
        "data_set_2021_8.head()"
      ],
      "execution_count": 30,
      "outputs": [
        {
          "output_type": "execute_result",
          "data": {
            "text/html": [
              "<div>\n",
              "<style scoped>\n",
              "    .dataframe tbody tr th:only-of-type {\n",
              "        vertical-align: middle;\n",
              "    }\n",
              "\n",
              "    .dataframe tbody tr th {\n",
              "        vertical-align: top;\n",
              "    }\n",
              "\n",
              "    .dataframe thead th {\n",
              "        text-align: right;\n",
              "    }\n",
              "</style>\n",
              "<table border=\"1\" class=\"dataframe\">\n",
              "  <thead>\n",
              "    <tr style=\"text-align: right;\">\n",
              "      <th></th>\n",
              "      <th>Day</th>\n",
              "      <th>Hour</th>\n",
              "      <th>PeriodOfDay</th>\n",
              "      <th>DayOfWeek</th>\n",
              "      <th>UnixTime</th>\n",
              "      <th>Duration</th>\n",
              "      <th>Watts1</th>\n",
              "      <th>Watts2</th>\n",
              "      <th>Watts3</th>\n",
              "      <th>WattsTotal</th>\n",
              "      <th>PeriodOfDayCode</th>\n",
              "      <th>DayOfWeekCode</th>\n",
              "    </tr>\n",
              "  </thead>\n",
              "  <tbody>\n",
              "    <tr>\n",
              "      <th>0</th>\n",
              "      <td>1</td>\n",
              "      <td>0</td>\n",
              "      <td>LateNight</td>\n",
              "      <td>Sunday</td>\n",
              "      <td>1627786806</td>\n",
              "      <td>14</td>\n",
              "      <td>163.01604</td>\n",
              "      <td>272.74854</td>\n",
              "      <td>0</td>\n",
              "      <td>435.76460</td>\n",
              "      <td>2</td>\n",
              "      <td>3</td>\n",
              "    </tr>\n",
              "    <tr>\n",
              "      <th>1</th>\n",
              "      <td>1</td>\n",
              "      <td>0</td>\n",
              "      <td>LateNight</td>\n",
              "      <td>Sunday</td>\n",
              "      <td>1627786820</td>\n",
              "      <td>14</td>\n",
              "      <td>155.36642</td>\n",
              "      <td>273.27606</td>\n",
              "      <td>0</td>\n",
              "      <td>428.64252</td>\n",
              "      <td>2</td>\n",
              "      <td>3</td>\n",
              "    </tr>\n",
              "    <tr>\n",
              "      <th>2</th>\n",
              "      <td>1</td>\n",
              "      <td>0</td>\n",
              "      <td>LateNight</td>\n",
              "      <td>Sunday</td>\n",
              "      <td>1627786834</td>\n",
              "      <td>14</td>\n",
              "      <td>155.10265</td>\n",
              "      <td>274.59497</td>\n",
              "      <td>0</td>\n",
              "      <td>429.69766</td>\n",
              "      <td>2</td>\n",
              "      <td>3</td>\n",
              "    </tr>\n",
              "    <tr>\n",
              "      <th>3</th>\n",
              "      <td>1</td>\n",
              "      <td>0</td>\n",
              "      <td>LateNight</td>\n",
              "      <td>Sunday</td>\n",
              "      <td>1627786848</td>\n",
              "      <td>14</td>\n",
              "      <td>156.15776</td>\n",
              "      <td>283.82730</td>\n",
              "      <td>0</td>\n",
              "      <td>439.98505</td>\n",
              "      <td>2</td>\n",
              "      <td>3</td>\n",
              "    </tr>\n",
              "    <tr>\n",
              "      <th>4</th>\n",
              "      <td>1</td>\n",
              "      <td>0</td>\n",
              "      <td>LateNight</td>\n",
              "      <td>Sunday</td>\n",
              "      <td>1627786862</td>\n",
              "      <td>14</td>\n",
              "      <td>157.74045</td>\n",
              "      <td>268.52805</td>\n",
              "      <td>0</td>\n",
              "      <td>426.26850</td>\n",
              "      <td>2</td>\n",
              "      <td>3</td>\n",
              "    </tr>\n",
              "  </tbody>\n",
              "</table>\n",
              "</div>"
            ],
            "text/plain": [
              "   Day  Hour PeriodOfDay  ... WattsTotal  PeriodOfDayCode  DayOfWeekCode\n",
              "0    1     0   LateNight  ...  435.76460                2              3\n",
              "1    1     0   LateNight  ...  428.64252                2              3\n",
              "2    1     0   LateNight  ...  429.69766                2              3\n",
              "3    1     0   LateNight  ...  439.98505                2              3\n",
              "4    1     0   LateNight  ...  426.26850                2              3\n",
              "\n",
              "[5 rows x 12 columns]"
            ]
          },
          "metadata": {},
          "execution_count": 30
        }
      ]
    },
    {
      "cell_type": "markdown",
      "metadata": {
        "id": "9amawIzwVq71"
      },
      "source": [
        "* Normatizar os atibutos previsores"
      ]
    },
    {
      "cell_type": "code",
      "metadata": {
        "id": "ncg7axDtYm0D"
      },
      "source": [
        "from sklearn.preprocessing import StandardScaler\n",
        "from pickle import dump\n",
        "\n",
        "scaler_data_set = StandardScaler()\n",
        "scaler_data_set.fit(data_set_2021_8.loc[:,['PeriodOfDayCode', 'DayOfWeekCode', 'WattsTotal']])\n",
        "dump(data_set_2021_8, open('scaler_data_set.pkl', 'wb'))"
      ],
      "execution_count": 31,
      "outputs": []
    },
    {
      "cell_type": "markdown",
      "metadata": {
        "id": "4Uv0hv21ZRCI"
      },
      "source": [
        "* Aplicar o algoritimo KMeans para encontrar cinco padrões de consumo de energia "
      ]
    },
    {
      "cell_type": "code",
      "metadata": {
        "colab": {
          "base_uri": "https://localhost:8080/"
        },
        "id": "27QiHK_LZrQ6",
        "outputId": "8d0e20b8-d6c0-4d1e-d16c-fffcdebfa5e9"
      },
      "source": [
        "from sklearn.cluster import KMeans\n",
        "kmeans = KMeans(n_clusters = 3, init = 'k-means++', max_iter=100000)\n",
        "X = scaler_data_set.transform(data_set_2021_8.loc[:,['PeriodOfDayCode', 'DayOfWeekCode', 'WattsTotal']])\n",
        "kmeans.fit(X)"
      ],
      "execution_count": 36,
      "outputs": [
        {
          "output_type": "execute_result",
          "data": {
            "text/plain": [
              "KMeans(max_iter=100000, n_clusters=3)"
            ]
          },
          "metadata": {},
          "execution_count": 36
        }
      ]
    },
    {
      "cell_type": "markdown",
      "metadata": {
        "id": "MsgpUCnILKhD"
      },
      "source": [
        "* Salvar treinamento do KMeans"
      ]
    },
    {
      "cell_type": "code",
      "metadata": {
        "id": "fLvdeviiLQVm"
      },
      "source": [
        "dump(kmeans, open('kmeans.pkl', 'wb'))"
      ],
      "execution_count": 198,
      "outputs": []
    },
    {
      "cell_type": "markdown",
      "metadata": {
        "id": "Vt0APnJebo1e"
      },
      "source": [
        "* Criar um código para cada classe de consumo encontrado pelo KMens"
      ]
    },
    {
      "cell_type": "code",
      "metadata": {
        "id": "8-1huLSpb7Zt"
      },
      "source": [
        "data_set_2021_8['EnergyUseClassCode'] = kmeans.predict(X)"
      ],
      "execution_count": 37,
      "outputs": []
    },
    {
      "cell_type": "markdown",
      "metadata": {
        "id": "c9DnLq0vcwhQ"
      },
      "source": [
        "* Exibir gráfico de Total de Watts Vs Períodos do dia Classifica por Consumo de Energia"
      ]
    },
    {
      "cell_type": "code",
      "metadata": {
        "colab": {
          "base_uri": "https://localhost:8080/",
          "height": 312
        },
        "id": "g8Hu8gUGcxBr",
        "outputId": "c862fa6d-2fc5-4674-ab95-b4ffdd14a326"
      },
      "source": [
        "import matplotlib.pyplot as plt\n",
        "\n",
        "plt.scatter(data_set_2021_8.PeriodOfDay, data_set_2021_8.WattsTotal, s = 100, c = kmeans.labels_)\n",
        "plt.title('Total de Watts Vs Períodos do dia Classifica por Consumo de Energia')\n",
        "plt.xlabel('Total Watts')\n",
        "plt.ylabel('Períodos do dia')\n",
        "plt.legend()\n",
        "\n",
        "plt.show()"
      ],
      "execution_count": 38,
      "outputs": [
        {
          "output_type": "stream",
          "name": "stderr",
          "text": [
            "No handles with labels found to put in legend.\n"
          ]
        },
        {
          "output_type": "display_data",
          "data": {
            "image/png": "[encoded data removed]",
            "text/plain": [
              "<Figure size 432x288 with 1 Axes>"
            ]
          },
          "metadata": {
            "needs_background": "light"
          }
        }
      ]
    },
    {
      "cell_type": "markdown",
      "metadata": {
        "id": "5W7IbfWbmB1a"
      },
      "source": [
        "* Exibir exemplos de consumo de Energiar Classe Código Zero - Consumo Baixo"
      ]
    },
    {
      "cell_type": "code",
      "metadata": {
        "colab": {
          "base_uri": "https://localhost:8080/",
          "height": 444
        },
        "id": "7eRN14neenpf",
        "outputId": "afb3e1dd-ff26-4ea5-ea18-a4db1113ffc2"
      },
      "source": [
        "data_set_2021_8[data_set_2021_8.EnergyUseClassCode == 0]"
      ],
      "execution_count": 39,
      "outputs": [
        {
          "output_type": "execute_result",
          "data": {
            "text/html": [
              "<div>\n",
              "<style scoped>\n",
              "    .dataframe tbody tr th:only-of-type {\n",
              "        vertical-align: middle;\n",
              "    }\n",
              "\n",
              "    .dataframe tbody tr th {\n",
              "        vertical-align: top;\n",
              "    }\n",
              "\n",
              "    .dataframe thead th {\n",
              "        text-align: right;\n",
              "    }\n",
              "</style>\n",
              "<table border=\"1\" class=\"dataframe\">\n",
              "  <thead>\n",
              "    <tr style=\"text-align: right;\">\n",
              "      <th></th>\n",
              "      <th>Day</th>\n",
              "      <th>Hour</th>\n",
              "      <th>PeriodOfDay</th>\n",
              "      <th>DayOfWeek</th>\n",
              "      <th>UnixTime</th>\n",
              "      <th>Duration</th>\n",
              "      <th>Watts1</th>\n",
              "      <th>Watts2</th>\n",
              "      <th>Watts3</th>\n",
              "      <th>WattsTotal</th>\n",
              "      <th>PeriodOfDayCode</th>\n",
              "      <th>DayOfWeekCode</th>\n",
              "      <th>EnergyUseClassCode</th>\n",
              "    </tr>\n",
              "  </thead>\n",
              "  <tbody>\n",
              "    <tr>\n",
              "      <th>2314</th>\n",
              "      <td>1</td>\n",
              "      <td>9</td>\n",
              "      <td>Morning</td>\n",
              "      <td>Sunday</td>\n",
              "      <td>1627819203</td>\n",
              "      <td>14</td>\n",
              "      <td>61.196960</td>\n",
              "      <td>250.85478</td>\n",
              "      <td>0</td>\n",
              "      <td>312.05173</td>\n",
              "      <td>3</td>\n",
              "      <td>3</td>\n",
              "      <td>0</td>\n",
              "    </tr>\n",
              "    <tr>\n",
              "      <th>2315</th>\n",
              "      <td>1</td>\n",
              "      <td>9</td>\n",
              "      <td>Morning</td>\n",
              "      <td>Sunday</td>\n",
              "      <td>1627819217</td>\n",
              "      <td>14</td>\n",
              "      <td>62.779644</td>\n",
              "      <td>252.70123</td>\n",
              "      <td>0</td>\n",
              "      <td>315.48090</td>\n",
              "      <td>3</td>\n",
              "      <td>3</td>\n",
              "      <td>0</td>\n",
              "    </tr>\n",
              "    <tr>\n",
              "      <th>2316</th>\n",
              "      <td>1</td>\n",
              "      <td>9</td>\n",
              "      <td>Morning</td>\n",
              "      <td>Sunday</td>\n",
              "      <td>1627819231</td>\n",
              "      <td>14</td>\n",
              "      <td>59.878060</td>\n",
              "      <td>250.59100</td>\n",
              "      <td>0</td>\n",
              "      <td>310.46910</td>\n",
              "      <td>3</td>\n",
              "      <td>3</td>\n",
              "      <td>0</td>\n",
              "    </tr>\n",
              "    <tr>\n",
              "      <th>2317</th>\n",
              "      <td>1</td>\n",
              "      <td>9</td>\n",
              "      <td>Morning</td>\n",
              "      <td>Sunday</td>\n",
              "      <td>1627819245</td>\n",
              "      <td>14</td>\n",
              "      <td>57.504044</td>\n",
              "      <td>250.06343</td>\n",
              "      <td>0</td>\n",
              "      <td>307.56747</td>\n",
              "      <td>3</td>\n",
              "      <td>3</td>\n",
              "      <td>0</td>\n",
              "    </tr>\n",
              "    <tr>\n",
              "      <th>2318</th>\n",
              "      <td>1</td>\n",
              "      <td>9</td>\n",
              "      <td>Morning</td>\n",
              "      <td>Sunday</td>\n",
              "      <td>1627819259</td>\n",
              "      <td>14</td>\n",
              "      <td>57.767822</td>\n",
              "      <td>250.85478</td>\n",
              "      <td>0</td>\n",
              "      <td>308.62262</td>\n",
              "      <td>3</td>\n",
              "      <td>3</td>\n",
              "      <td>0</td>\n",
              "    </tr>\n",
              "    <tr>\n",
              "      <th>...</th>\n",
              "      <td>...</td>\n",
              "      <td>...</td>\n",
              "      <td>...</td>\n",
              "      <td>...</td>\n",
              "      <td>...</td>\n",
              "      <td>...</td>\n",
              "      <td>...</td>\n",
              "      <td>...</td>\n",
              "      <td>...</td>\n",
              "      <td>...</td>\n",
              "      <td>...</td>\n",
              "      <td>...</td>\n",
              "      <td>...</td>\n",
              "    </tr>\n",
              "    <tr>\n",
              "      <th>152496</th>\n",
              "      <td>30</td>\n",
              "      <td>23</td>\n",
              "      <td>Night</td>\n",
              "      <td>Monday</td>\n",
              "      <td>1630378733</td>\n",
              "      <td>14</td>\n",
              "      <td>54.866238</td>\n",
              "      <td>227.90593</td>\n",
              "      <td>0</td>\n",
              "      <td>282.77216</td>\n",
              "      <td>4</td>\n",
              "      <td>1</td>\n",
              "      <td>0</td>\n",
              "    </tr>\n",
              "    <tr>\n",
              "      <th>152497</th>\n",
              "      <td>30</td>\n",
              "      <td>23</td>\n",
              "      <td>Night</td>\n",
              "      <td>Monday</td>\n",
              "      <td>1630378747</td>\n",
              "      <td>14</td>\n",
              "      <td>58.295383</td>\n",
              "      <td>225.79570</td>\n",
              "      <td>0</td>\n",
              "      <td>284.09106</td>\n",
              "      <td>4</td>\n",
              "      <td>1</td>\n",
              "      <td>0</td>\n",
              "    </tr>\n",
              "    <tr>\n",
              "      <th>152498</th>\n",
              "      <td>30</td>\n",
              "      <td>23</td>\n",
              "      <td>Night</td>\n",
              "      <td>Monday</td>\n",
              "      <td>1630378761</td>\n",
              "      <td>14</td>\n",
              "      <td>54.602460</td>\n",
              "      <td>222.63031</td>\n",
              "      <td>0</td>\n",
              "      <td>277.23276</td>\n",
              "      <td>4</td>\n",
              "      <td>1</td>\n",
              "      <td>0</td>\n",
              "    </tr>\n",
              "    <tr>\n",
              "      <th>152499</th>\n",
              "      <td>30</td>\n",
              "      <td>23</td>\n",
              "      <td>Night</td>\n",
              "      <td>Monday</td>\n",
              "      <td>1630378775</td>\n",
              "      <td>14</td>\n",
              "      <td>57.240260</td>\n",
              "      <td>221.31143</td>\n",
              "      <td>0</td>\n",
              "      <td>278.55170</td>\n",
              "      <td>4</td>\n",
              "      <td>1</td>\n",
              "      <td>0</td>\n",
              "    </tr>\n",
              "    <tr>\n",
              "      <th>152500</th>\n",
              "      <td>30</td>\n",
              "      <td>23</td>\n",
              "      <td>Night</td>\n",
              "      <td>Monday</td>\n",
              "      <td>1630378789</td>\n",
              "      <td>14</td>\n",
              "      <td>57.504044</td>\n",
              "      <td>225.79570</td>\n",
              "      <td>0</td>\n",
              "      <td>283.29974</td>\n",
              "      <td>4</td>\n",
              "      <td>1</td>\n",
              "      <td>0</td>\n",
              "    </tr>\n",
              "  </tbody>\n",
              "</table>\n",
              "<p>70219 rows × 13 columns</p>\n",
              "</div>"
            ],
            "text/plain": [
              "        Day  Hour  ... DayOfWeekCode EnergyUseClassCode\n",
              "2314      1     9  ...             3                  0\n",
              "2315      1     9  ...             3                  0\n",
              "2316      1     9  ...             3                  0\n",
              "2317      1     9  ...             3                  0\n",
              "2318      1     9  ...             3                  0\n",
              "...     ...   ...  ...           ...                ...\n",
              "152496   30    23  ...             1                  0\n",
              "152497   30    23  ...             1                  0\n",
              "152498   30    23  ...             1                  0\n",
              "152499   30    23  ...             1                  0\n",
              "152500   30    23  ...             1                  0\n",
              "\n",
              "[70219 rows x 13 columns]"
            ]
          },
          "metadata": {},
          "execution_count": 39
        }
      ]
    },
    {
      "cell_type": "markdown",
      "metadata": {
        "id": "DRflqaY-mYwY"
      },
      "source": [
        "* Exibir exemplos de consumo de Energiar Classe Código Um - Consumo Médio"
      ]
    },
    {
      "cell_type": "code",
      "metadata": {
        "colab": {
          "base_uri": "https://localhost:8080/",
          "height": 444
        },
        "id": "ou1zVWFFmgfV",
        "outputId": "a5376853-707c-41f1-9549-de15a8e77637"
      },
      "source": [
        "data_set_2021_8[data_set_2021_8.EnergyUseClassCode == 1]"
      ],
      "execution_count": 40,
      "outputs": [
        {
          "output_type": "execute_result",
          "data": {
            "text/html": [
              "<div>\n",
              "<style scoped>\n",
              "    .dataframe tbody tr th:only-of-type {\n",
              "        vertical-align: middle;\n",
              "    }\n",
              "\n",
              "    .dataframe tbody tr th {\n",
              "        vertical-align: top;\n",
              "    }\n",
              "\n",
              "    .dataframe thead th {\n",
              "        text-align: right;\n",
              "    }\n",
              "</style>\n",
              "<table border=\"1\" class=\"dataframe\">\n",
              "  <thead>\n",
              "    <tr style=\"text-align: right;\">\n",
              "      <th></th>\n",
              "      <th>Day</th>\n",
              "      <th>Hour</th>\n",
              "      <th>PeriodOfDay</th>\n",
              "      <th>DayOfWeek</th>\n",
              "      <th>UnixTime</th>\n",
              "      <th>Duration</th>\n",
              "      <th>Watts1</th>\n",
              "      <th>Watts2</th>\n",
              "      <th>Watts3</th>\n",
              "      <th>WattsTotal</th>\n",
              "      <th>PeriodOfDayCode</th>\n",
              "      <th>DayOfWeekCode</th>\n",
              "      <th>EnergyUseClassCode</th>\n",
              "    </tr>\n",
              "  </thead>\n",
              "  <tbody>\n",
              "    <tr>\n",
              "      <th>0</th>\n",
              "      <td>1</td>\n",
              "      <td>0</td>\n",
              "      <td>LateNight</td>\n",
              "      <td>Sunday</td>\n",
              "      <td>1627786806</td>\n",
              "      <td>14</td>\n",
              "      <td>163.016040</td>\n",
              "      <td>272.74854</td>\n",
              "      <td>0</td>\n",
              "      <td>435.76460</td>\n",
              "      <td>2</td>\n",
              "      <td>3</td>\n",
              "      <td>1</td>\n",
              "    </tr>\n",
              "    <tr>\n",
              "      <th>1</th>\n",
              "      <td>1</td>\n",
              "      <td>0</td>\n",
              "      <td>LateNight</td>\n",
              "      <td>Sunday</td>\n",
              "      <td>1627786820</td>\n",
              "      <td>14</td>\n",
              "      <td>155.366420</td>\n",
              "      <td>273.27606</td>\n",
              "      <td>0</td>\n",
              "      <td>428.64252</td>\n",
              "      <td>2</td>\n",
              "      <td>3</td>\n",
              "      <td>1</td>\n",
              "    </tr>\n",
              "    <tr>\n",
              "      <th>2</th>\n",
              "      <td>1</td>\n",
              "      <td>0</td>\n",
              "      <td>LateNight</td>\n",
              "      <td>Sunday</td>\n",
              "      <td>1627786834</td>\n",
              "      <td>14</td>\n",
              "      <td>155.102650</td>\n",
              "      <td>274.59497</td>\n",
              "      <td>0</td>\n",
              "      <td>429.69766</td>\n",
              "      <td>2</td>\n",
              "      <td>3</td>\n",
              "      <td>1</td>\n",
              "    </tr>\n",
              "    <tr>\n",
              "      <th>3</th>\n",
              "      <td>1</td>\n",
              "      <td>0</td>\n",
              "      <td>LateNight</td>\n",
              "      <td>Sunday</td>\n",
              "      <td>1627786848</td>\n",
              "      <td>14</td>\n",
              "      <td>156.157760</td>\n",
              "      <td>283.82730</td>\n",
              "      <td>0</td>\n",
              "      <td>439.98505</td>\n",
              "      <td>2</td>\n",
              "      <td>3</td>\n",
              "      <td>1</td>\n",
              "    </tr>\n",
              "    <tr>\n",
              "      <th>4</th>\n",
              "      <td>1</td>\n",
              "      <td>0</td>\n",
              "      <td>LateNight</td>\n",
              "      <td>Sunday</td>\n",
              "      <td>1627786862</td>\n",
              "      <td>14</td>\n",
              "      <td>157.740450</td>\n",
              "      <td>268.52805</td>\n",
              "      <td>0</td>\n",
              "      <td>426.26850</td>\n",
              "      <td>2</td>\n",
              "      <td>3</td>\n",
              "      <td>1</td>\n",
              "    </tr>\n",
              "    <tr>\n",
              "      <th>...</th>\n",
              "      <td>...</td>\n",
              "      <td>...</td>\n",
              "      <td>...</td>\n",
              "      <td>...</td>\n",
              "      <td>...</td>\n",
              "      <td>...</td>\n",
              "      <td>...</td>\n",
              "      <td>...</td>\n",
              "      <td>...</td>\n",
              "      <td>...</td>\n",
              "      <td>...</td>\n",
              "      <td>...</td>\n",
              "      <td>...</td>\n",
              "    </tr>\n",
              "    <tr>\n",
              "      <th>158457</th>\n",
              "      <td>31</td>\n",
              "      <td>23</td>\n",
              "      <td>Night</td>\n",
              "      <td>Tuesday</td>\n",
              "      <td>1630464207</td>\n",
              "      <td>15</td>\n",
              "      <td>82.299355</td>\n",
              "      <td>138.48450</td>\n",
              "      <td>0</td>\n",
              "      <td>220.78386</td>\n",
              "      <td>4</td>\n",
              "      <td>5</td>\n",
              "      <td>1</td>\n",
              "    </tr>\n",
              "    <tr>\n",
              "      <th>158458</th>\n",
              "      <td>31</td>\n",
              "      <td>23</td>\n",
              "      <td>Night</td>\n",
              "      <td>Tuesday</td>\n",
              "      <td>1630464221</td>\n",
              "      <td>14</td>\n",
              "      <td>83.354485</td>\n",
              "      <td>142.70497</td>\n",
              "      <td>0</td>\n",
              "      <td>226.05945</td>\n",
              "      <td>4</td>\n",
              "      <td>5</td>\n",
              "      <td>1</td>\n",
              "    </tr>\n",
              "    <tr>\n",
              "      <th>158459</th>\n",
              "      <td>31</td>\n",
              "      <td>23</td>\n",
              "      <td>Night</td>\n",
              "      <td>Tuesday</td>\n",
              "      <td>1630464235</td>\n",
              "      <td>14</td>\n",
              "      <td>82.299355</td>\n",
              "      <td>141.91365</td>\n",
              "      <td>0</td>\n",
              "      <td>224.21300</td>\n",
              "      <td>4</td>\n",
              "      <td>5</td>\n",
              "      <td>1</td>\n",
              "    </tr>\n",
              "    <tr>\n",
              "      <th>158460</th>\n",
              "      <td>31</td>\n",
              "      <td>23</td>\n",
              "      <td>Night</td>\n",
              "      <td>Tuesday</td>\n",
              "      <td>1630464249</td>\n",
              "      <td>14</td>\n",
              "      <td>82.563140</td>\n",
              "      <td>142.44121</td>\n",
              "      <td>0</td>\n",
              "      <td>225.00436</td>\n",
              "      <td>4</td>\n",
              "      <td>5</td>\n",
              "      <td>1</td>\n",
              "    </tr>\n",
              "    <tr>\n",
              "      <th>158461</th>\n",
              "      <td>31</td>\n",
              "      <td>23</td>\n",
              "      <td>Night</td>\n",
              "      <td>Tuesday</td>\n",
              "      <td>1630464263</td>\n",
              "      <td>14</td>\n",
              "      <td>82.563140</td>\n",
              "      <td>143.23254</td>\n",
              "      <td>0</td>\n",
              "      <td>225.79567</td>\n",
              "      <td>4</td>\n",
              "      <td>5</td>\n",
              "      <td>1</td>\n",
              "    </tr>\n",
              "  </tbody>\n",
              "</table>\n",
              "<p>81518 rows × 13 columns</p>\n",
              "</div>"
            ],
            "text/plain": [
              "        Day  Hour  ... DayOfWeekCode EnergyUseClassCode\n",
              "0         1     0  ...             3                  1\n",
              "1         1     0  ...             3                  1\n",
              "2         1     0  ...             3                  1\n",
              "3         1     0  ...             3                  1\n",
              "4         1     0  ...             3                  1\n",
              "...     ...   ...  ...           ...                ...\n",
              "158457   31    23  ...             5                  1\n",
              "158458   31    23  ...             5                  1\n",
              "158459   31    23  ...             5                  1\n",
              "158460   31    23  ...             5                  1\n",
              "158461   31    23  ...             5                  1\n",
              "\n",
              "[81518 rows x 13 columns]"
            ]
          },
          "metadata": {},
          "execution_count": 40
        }
      ]
    },
    {
      "cell_type": "markdown",
      "metadata": {
        "id": "TBWBYG1kmpKq"
      },
      "source": [
        "* Exibir exemplos de consumo de Energiar Classe Código Dois - Consumo Alto"
      ]
    },
    {
      "cell_type": "code",
      "metadata": {
        "colab": {
          "base_uri": "https://localhost:8080/",
          "height": 444
        },
        "id": "NRhc78FGmv17",
        "outputId": "4c781f3b-c585-476d-9ce3-25b6bf93f83e"
      },
      "source": [
        "data_set_2021_8[data_set_2021_8.EnergyUseClassCode == 2]"
      ],
      "execution_count": 41,
      "outputs": [
        {
          "output_type": "execute_result",
          "data": {
            "text/html": [
              "<div>\n",
              "<style scoped>\n",
              "    .dataframe tbody tr th:only-of-type {\n",
              "        vertical-align: middle;\n",
              "    }\n",
              "\n",
              "    .dataframe tbody tr th {\n",
              "        vertical-align: top;\n",
              "    }\n",
              "\n",
              "    .dataframe thead th {\n",
              "        text-align: right;\n",
              "    }\n",
              "</style>\n",
              "<table border=\"1\" class=\"dataframe\">\n",
              "  <thead>\n",
              "    <tr style=\"text-align: right;\">\n",
              "      <th></th>\n",
              "      <th>Day</th>\n",
              "      <th>Hour</th>\n",
              "      <th>PeriodOfDay</th>\n",
              "      <th>DayOfWeek</th>\n",
              "      <th>UnixTime</th>\n",
              "      <th>Duration</th>\n",
              "      <th>Watts1</th>\n",
              "      <th>Watts2</th>\n",
              "      <th>Watts3</th>\n",
              "      <th>WattsTotal</th>\n",
              "      <th>PeriodOfDayCode</th>\n",
              "      <th>DayOfWeekCode</th>\n",
              "      <th>EnergyUseClassCode</th>\n",
              "    </tr>\n",
              "  </thead>\n",
              "  <tbody>\n",
              "    <tr>\n",
              "      <th>3042</th>\n",
              "      <td>1</td>\n",
              "      <td>11</td>\n",
              "      <td>Morning</td>\n",
              "      <td>Sunday</td>\n",
              "      <td>1627829395</td>\n",
              "      <td>14</td>\n",
              "      <td>196.252320</td>\n",
              "      <td>10126.2510</td>\n",
              "      <td>0</td>\n",
              "      <td>10322.5030</td>\n",
              "      <td>3</td>\n",
              "      <td>3</td>\n",
              "      <td>2</td>\n",
              "    </tr>\n",
              "    <tr>\n",
              "      <th>3043</th>\n",
              "      <td>1</td>\n",
              "      <td>11</td>\n",
              "      <td>Morning</td>\n",
              "      <td>Sunday</td>\n",
              "      <td>1627829409</td>\n",
              "      <td>14</td>\n",
              "      <td>221.311430</td>\n",
              "      <td>10088.5290</td>\n",
              "      <td>0</td>\n",
              "      <td>10309.8420</td>\n",
              "      <td>3</td>\n",
              "      <td>3</td>\n",
              "      <td>2</td>\n",
              "    </tr>\n",
              "    <tr>\n",
              "      <th>3044</th>\n",
              "      <td>1</td>\n",
              "      <td>11</td>\n",
              "      <td>Morning</td>\n",
              "      <td>Sunday</td>\n",
              "      <td>1627829423</td>\n",
              "      <td>14</td>\n",
              "      <td>213.925570</td>\n",
              "      <td>10112.5340</td>\n",
              "      <td>0</td>\n",
              "      <td>10326.4590</td>\n",
              "      <td>3</td>\n",
              "      <td>3</td>\n",
              "      <td>2</td>\n",
              "    </tr>\n",
              "    <tr>\n",
              "      <th>3045</th>\n",
              "      <td>1</td>\n",
              "      <td>11</td>\n",
              "      <td>Morning</td>\n",
              "      <td>Sunday</td>\n",
              "      <td>1627829437</td>\n",
              "      <td>14</td>\n",
              "      <td>205.484620</td>\n",
              "      <td>10194.8330</td>\n",
              "      <td>0</td>\n",
              "      <td>10400.3180</td>\n",
              "      <td>3</td>\n",
              "      <td>3</td>\n",
              "      <td>2</td>\n",
              "    </tr>\n",
              "    <tr>\n",
              "      <th>3046</th>\n",
              "      <td>1</td>\n",
              "      <td>11</td>\n",
              "      <td>Morning</td>\n",
              "      <td>Sunday</td>\n",
              "      <td>1627829451</td>\n",
              "      <td>14</td>\n",
              "      <td>190.449160</td>\n",
              "      <td>10115.6990</td>\n",
              "      <td>0</td>\n",
              "      <td>10306.1480</td>\n",
              "      <td>3</td>\n",
              "      <td>3</td>\n",
              "      <td>2</td>\n",
              "    </tr>\n",
              "    <tr>\n",
              "      <th>...</th>\n",
              "      <td>...</td>\n",
              "      <td>...</td>\n",
              "      <td>...</td>\n",
              "      <td>...</td>\n",
              "      <td>...</td>\n",
              "      <td>...</td>\n",
              "      <td>...</td>\n",
              "      <td>...</td>\n",
              "      <td>...</td>\n",
              "      <td>...</td>\n",
              "      <td>...</td>\n",
              "      <td>...</td>\n",
              "      <td>...</td>\n",
              "    </tr>\n",
              "    <tr>\n",
              "      <th>158523</th>\n",
              "      <td>31</td>\n",
              "      <td>23</td>\n",
              "      <td>Night</td>\n",
              "      <td>Tuesday</td>\n",
              "      <td>1630465131</td>\n",
              "      <td>14</td>\n",
              "      <td>108.149796</td>\n",
              "      <td>8050.8290</td>\n",
              "      <td>0</td>\n",
              "      <td>8158.9790</td>\n",
              "      <td>4</td>\n",
              "      <td>5</td>\n",
              "      <td>2</td>\n",
              "    </tr>\n",
              "    <tr>\n",
              "      <th>158524</th>\n",
              "      <td>31</td>\n",
              "      <td>23</td>\n",
              "      <td>Night</td>\n",
              "      <td>Tuesday</td>\n",
              "      <td>1630465145</td>\n",
              "      <td>14</td>\n",
              "      <td>92.059220</td>\n",
              "      <td>8134.7120</td>\n",
              "      <td>0</td>\n",
              "      <td>8226.7705</td>\n",
              "      <td>4</td>\n",
              "      <td>5</td>\n",
              "      <td>2</td>\n",
              "    </tr>\n",
              "    <tr>\n",
              "      <th>158525</th>\n",
              "      <td>31</td>\n",
              "      <td>23</td>\n",
              "      <td>Night</td>\n",
              "      <td>Tuesday</td>\n",
              "      <td>1630465159</td>\n",
              "      <td>14</td>\n",
              "      <td>105.512000</td>\n",
              "      <td>8074.8335</td>\n",
              "      <td>0</td>\n",
              "      <td>8180.3450</td>\n",
              "      <td>4</td>\n",
              "      <td>5</td>\n",
              "      <td>2</td>\n",
              "    </tr>\n",
              "    <tr>\n",
              "      <th>158526</th>\n",
              "      <td>31</td>\n",
              "      <td>23</td>\n",
              "      <td>Night</td>\n",
              "      <td>Tuesday</td>\n",
              "      <td>1630465173</td>\n",
              "      <td>14</td>\n",
              "      <td>108.677360</td>\n",
              "      <td>8099.6290</td>\n",
              "      <td>0</td>\n",
              "      <td>8208.3060</td>\n",
              "      <td>4</td>\n",
              "      <td>5</td>\n",
              "      <td>2</td>\n",
              "    </tr>\n",
              "    <tr>\n",
              "      <th>158527</th>\n",
              "      <td>31</td>\n",
              "      <td>23</td>\n",
              "      <td>Night</td>\n",
              "      <td>Tuesday</td>\n",
              "      <td>1630465187</td>\n",
              "      <td>14</td>\n",
              "      <td>112.897850</td>\n",
              "      <td>8076.9440</td>\n",
              "      <td>0</td>\n",
              "      <td>8189.8420</td>\n",
              "      <td>4</td>\n",
              "      <td>5</td>\n",
              "      <td>2</td>\n",
              "    </tr>\n",
              "  </tbody>\n",
              "</table>\n",
              "<p>6791 rows × 13 columns</p>\n",
              "</div>"
            ],
            "text/plain": [
              "        Day  Hour  ... DayOfWeekCode EnergyUseClassCode\n",
              "3042      1    11  ...             3                  2\n",
              "3043      1    11  ...             3                  2\n",
              "3044      1    11  ...             3                  2\n",
              "3045      1    11  ...             3                  2\n",
              "3046      1    11  ...             3                  2\n",
              "...     ...   ...  ...           ...                ...\n",
              "158523   31    23  ...             5                  2\n",
              "158524   31    23  ...             5                  2\n",
              "158525   31    23  ...             5                  2\n",
              "158526   31    23  ...             5                  2\n",
              "158527   31    23  ...             5                  2\n",
              "\n",
              "[6791 rows x 13 columns]"
            ]
          },
          "metadata": {},
          "execution_count": 41
        }
      ]
    },
    {
      "cell_type": "markdown",
      "metadata": {
        "id": "cV94M2MfnPY4"
      },
      "source": [
        "* Adicionar coluna com rotulo das classes de consumo de eneriga."
      ]
    },
    {
      "cell_type": "code",
      "metadata": {
        "id": "CeGtbG6un5Kr"
      },
      "source": [
        "Energy_use_class_code_low = 0\n",
        "Energy_use_class_code_medium = 1\n",
        "Energy_use_class_code_High = 2 \n",
        "\n",
        "def get_energy_use_class_title(energy_use_class_code):\n",
        "  if energy_use_class_code == Energy_use_class_code_low:\n",
        "    return \"Low\"\n",
        "  elif energy_use_class_code == Energy_use_class_code_medium:\n",
        "    return \"Medium\"\n",
        "  else:\n",
        "    return \"High\"\n",
        "\n",
        "data_set_2021_8['EnergyUseClass'] = data_set_2021_8['EnergyUseClassCode'].apply(get_energy_use_class_title)\n"
      ],
      "execution_count": 55,
      "outputs": []
    },
    {
      "cell_type": "markdown",
      "metadata": {
        "id": "Sn0ddAAOgQYz"
      },
      "source": [
        "* Adicionar aributos de hábitos de consumo conforme a classes de consumo de energia "
      ]
    },
    {
      "cell_type": "code",
      "metadata": {
        "id": "dl0fqyDRhWEN"
      },
      "source": [
        "def get_energy_consumption_habit(class_and_total_watts):\n",
        "  if (class_and_total_watts[0] == Energy_use_class_code_low) and (class_and_total_watts[1]  < 180):\n",
        "    return 0\n",
        "  elif (class_and_total_watts[1] > 5000):\n",
        "    return 1\n",
        "  elif ((class_and_total_watts[0] == Energy_use_class_code_medium)) and (class_and_total_watts[1] > 600):\n",
        "    return 2\n",
        "  elif ( (class_and_total_watts[0] != Energy_use_class_code_low) and (class_and_total_watts[1] < 3000)) :\n",
        "    return 3\n",
        "  else:\n",
        "    return 999\n",
        "\n",
        "def get_energy_consumption_habit_title(energy_consumption_habit_code):\n",
        "  if (energy_consumption_habit_code == 0 ):\n",
        "    return 'Out of home'\n",
        "  elif (energy_consumption_habit_code == 1):\n",
        "    return 'Someone is taking a shower'\n",
        "  elif (energy_consumption_habit_code == 2):\n",
        "    return 'Someone is washing clothes'\n",
        "  elif (energy_consumption_habit_code == 3):\n",
        "    return 'Someone is cooking'\n",
        "  else:\n",
        "    return 'Undefined'\n",
        "\n",
        "data_set_2021_8['EnergyConsumptionHabitCode'] = data_set_2021_8[['EnergyUseClassCode', 'WattsTotal']].apply(get_energy_consumption_habit, axis=1)\n",
        "data_set_2021_8['EnergyConsumptionHabit'] = data_set_2021_8['EnergyConsumptionHabitCode'].apply(get_energy_consumption_habit_title)"
      ],
      "execution_count": 191,
      "outputs": []
    },
    {
      "cell_type": "markdown",
      "metadata": {
        "id": "7xz3KlIdsXiM"
      },
      "source": [
        "* Criar e Exibir resultado do Pré-processamento do Dataset para divisão de treinamento e treinamento"
      ]
    },
    {
      "cell_type": "code",
      "metadata": {
        "colab": {
          "base_uri": "https://localhost:8080/",
          "height": 444
        },
        "id": "CdytzeCTm3ZE",
        "outputId": "db7ac556-37b5-41b8-e3fa-888fda0b3a96"
      },
      "source": [
        "data_set_for_train_test =  data_set_2021_8[['PeriodOfDayCode', 'PeriodOfDay',  'DayOfWeekCode', 'DayOfWeek', 'EnergyUseClassCode', 'WattsTotal', 'EnergyConsumptionHabitCode', 'EnergyConsumptionHabit' ]]\n",
        "data_set_for_train_test"
      ],
      "execution_count": 192,
      "outputs": [
        {
          "output_type": "execute_result",
          "data": {
            "text/html": [
              "<div>\n",
              "<style scoped>\n",
              "    .dataframe tbody tr th:only-of-type {\n",
              "        vertical-align: middle;\n",
              "    }\n",
              "\n",
              "    .dataframe tbody tr th {\n",
              "        vertical-align: top;\n",
              "    }\n",
              "\n",
              "    .dataframe thead th {\n",
              "        text-align: right;\n",
              "    }\n",
              "</style>\n",
              "<table border=\"1\" class=\"dataframe\">\n",
              "  <thead>\n",
              "    <tr style=\"text-align: right;\">\n",
              "      <th></th>\n",
              "      <th>PeriodOfDayCode</th>\n",
              "      <th>PeriodOfDay</th>\n",
              "      <th>DayOfWeekCode</th>\n",
              "      <th>DayOfWeek</th>\n",
              "      <th>EnergyUseClassCode</th>\n",
              "      <th>WattsTotal</th>\n",
              "      <th>EnergyConsumptionHabitCode</th>\n",
              "      <th>EnergyConsumptionHabit</th>\n",
              "    </tr>\n",
              "  </thead>\n",
              "  <tbody>\n",
              "    <tr>\n",
              "      <th>0</th>\n",
              "      <td>2</td>\n",
              "      <td>LateNight</td>\n",
              "      <td>3</td>\n",
              "      <td>Sunday</td>\n",
              "      <td>1</td>\n",
              "      <td>435.76460</td>\n",
              "      <td>3</td>\n",
              "      <td>Someone is cooking</td>\n",
              "    </tr>\n",
              "    <tr>\n",
              "      <th>1</th>\n",
              "      <td>2</td>\n",
              "      <td>LateNight</td>\n",
              "      <td>3</td>\n",
              "      <td>Sunday</td>\n",
              "      <td>1</td>\n",
              "      <td>428.64252</td>\n",
              "      <td>3</td>\n",
              "      <td>Someone is cooking</td>\n",
              "    </tr>\n",
              "    <tr>\n",
              "      <th>2</th>\n",
              "      <td>2</td>\n",
              "      <td>LateNight</td>\n",
              "      <td>3</td>\n",
              "      <td>Sunday</td>\n",
              "      <td>1</td>\n",
              "      <td>429.69766</td>\n",
              "      <td>3</td>\n",
              "      <td>Someone is cooking</td>\n",
              "    </tr>\n",
              "    <tr>\n",
              "      <th>3</th>\n",
              "      <td>2</td>\n",
              "      <td>LateNight</td>\n",
              "      <td>3</td>\n",
              "      <td>Sunday</td>\n",
              "      <td>1</td>\n",
              "      <td>439.98505</td>\n",
              "      <td>3</td>\n",
              "      <td>Someone is cooking</td>\n",
              "    </tr>\n",
              "    <tr>\n",
              "      <th>4</th>\n",
              "      <td>2</td>\n",
              "      <td>LateNight</td>\n",
              "      <td>3</td>\n",
              "      <td>Sunday</td>\n",
              "      <td>1</td>\n",
              "      <td>426.26850</td>\n",
              "      <td>3</td>\n",
              "      <td>Someone is cooking</td>\n",
              "    </tr>\n",
              "    <tr>\n",
              "      <th>...</th>\n",
              "      <td>...</td>\n",
              "      <td>...</td>\n",
              "      <td>...</td>\n",
              "      <td>...</td>\n",
              "      <td>...</td>\n",
              "      <td>...</td>\n",
              "      <td>...</td>\n",
              "      <td>...</td>\n",
              "    </tr>\n",
              "    <tr>\n",
              "      <th>158523</th>\n",
              "      <td>4</td>\n",
              "      <td>Night</td>\n",
              "      <td>5</td>\n",
              "      <td>Tuesday</td>\n",
              "      <td>2</td>\n",
              "      <td>8158.97900</td>\n",
              "      <td>1</td>\n",
              "      <td>Someone is taking a shower</td>\n",
              "    </tr>\n",
              "    <tr>\n",
              "      <th>158524</th>\n",
              "      <td>4</td>\n",
              "      <td>Night</td>\n",
              "      <td>5</td>\n",
              "      <td>Tuesday</td>\n",
              "      <td>2</td>\n",
              "      <td>8226.77050</td>\n",
              "      <td>1</td>\n",
              "      <td>Someone is taking a shower</td>\n",
              "    </tr>\n",
              "    <tr>\n",
              "      <th>158525</th>\n",
              "      <td>4</td>\n",
              "      <td>Night</td>\n",
              "      <td>5</td>\n",
              "      <td>Tuesday</td>\n",
              "      <td>2</td>\n",
              "      <td>8180.34500</td>\n",
              "      <td>1</td>\n",
              "      <td>Someone is taking a shower</td>\n",
              "    </tr>\n",
              "    <tr>\n",
              "      <th>158526</th>\n",
              "      <td>4</td>\n",
              "      <td>Night</td>\n",
              "      <td>5</td>\n",
              "      <td>Tuesday</td>\n",
              "      <td>2</td>\n",
              "      <td>8208.30600</td>\n",
              "      <td>1</td>\n",
              "      <td>Someone is taking a shower</td>\n",
              "    </tr>\n",
              "    <tr>\n",
              "      <th>158527</th>\n",
              "      <td>4</td>\n",
              "      <td>Night</td>\n",
              "      <td>5</td>\n",
              "      <td>Tuesday</td>\n",
              "      <td>2</td>\n",
              "      <td>8189.84200</td>\n",
              "      <td>1</td>\n",
              "      <td>Someone is taking a shower</td>\n",
              "    </tr>\n",
              "  </tbody>\n",
              "</table>\n",
              "<p>158528 rows × 8 columns</p>\n",
              "</div>"
            ],
            "text/plain": [
              "        PeriodOfDayCode  ...      EnergyConsumptionHabit\n",
              "0                     2  ...          Someone is cooking\n",
              "1                     2  ...          Someone is cooking\n",
              "2                     2  ...          Someone is cooking\n",
              "3                     2  ...          Someone is cooking\n",
              "4                     2  ...          Someone is cooking\n",
              "...                 ...  ...                         ...\n",
              "158523                4  ...  Someone is taking a shower\n",
              "158524                4  ...  Someone is taking a shower\n",
              "158525                4  ...  Someone is taking a shower\n",
              "158526                4  ...  Someone is taking a shower\n",
              "158527                4  ...  Someone is taking a shower\n",
              "\n",
              "[158528 rows x 8 columns]"
            ]
          },
          "metadata": {},
          "execution_count": 192
        }
      ]
    },
    {
      "cell_type": "markdown",
      "metadata": {
        "id": "q4j5J-3OtKL6"
      },
      "source": [
        "* Criar Datasets de Treinamento e Testes dividindo a base em 80% para treinamento e 20% para testes por por Período de Dia, Dia da Semana e Hábito de Consumo:"
      ]
    },
    {
      "cell_type": "code",
      "metadata": {
        "id": "ifdJoLoEvB6Z"
      },
      "source": [
        "from sklearn.model_selection import train_test_split\n",
        "\n",
        "# Criar datasets vazios de treinamento e testes:\n",
        "data_set_for_train = data_set_for_train_test.iloc[0:0]\n",
        "data_set_for_test = data_set_for_train_test.iloc[0:0]\n",
        "\n",
        "# Coletar e alimentar os datasets de treinamento e testes por Período de Dia, Dia da Semana e Hábito de Consumo \n",
        "for period_of_day in ['LateNight', 'EarlyMorning', 'Morning', 'Noon', 'Eve', 'Night' ]:\n",
        "  for day_of_week in ['Sunday', 'Monday', 'Tuesday' 'Wednesday', 'Thursday', 'Friday', 'Saturday' ]:\n",
        "    for energy_consumption_habit in ['Undefined', 'Out of home', 'Someone is taking a shower', 'Someone is washing clothes', 'Someone is cooking']:\n",
        "      data_set_filtered = data_set_for_train_test.query(f\"PeriodOfDay == '{period_of_day}' &  DayOfWeek == '{day_of_week}' & EnergyConsumptionHabit == '{energy_consumption_habit}'\")\n",
        "      if ( len(data_set_filtered) >= 10):\n",
        "        train, test = train_test_split(data_set_filtered, train_size=0.8)\n",
        "        data_set_for_train = data_set_for_train.append(train)\n",
        "        data_set_for_test = data_set_for_test.append(test)\n",
        "       "
      ],
      "execution_count": 193,
      "outputs": []
    },
    {
      "cell_type": "markdown",
      "metadata": {
        "id": "EIgrv8da5EYC"
      },
      "source": [
        "* Exibir quantidade de exemplos para o treinamento"
      ]
    },
    {
      "cell_type": "code",
      "metadata": {
        "colab": {
          "base_uri": "https://localhost:8080/",
          "height": 255
        },
        "id": "tIwpQOlP5JYJ",
        "outputId": "12894123-420b-46ab-ab22-d26434b5dbd6"
      },
      "source": [
        "data_set_for_train.groupby('EnergyConsumptionHabit').count()"
      ],
      "execution_count": 194,
      "outputs": [
        {
          "output_type": "execute_result",
          "data": {
            "text/html": [
              "<div>\n",
              "<style scoped>\n",
              "    .dataframe tbody tr th:only-of-type {\n",
              "        vertical-align: middle;\n",
              "    }\n",
              "\n",
              "    .dataframe tbody tr th {\n",
              "        vertical-align: top;\n",
              "    }\n",
              "\n",
              "    .dataframe thead th {\n",
              "        text-align: right;\n",
              "    }\n",
              "</style>\n",
              "<table border=\"1\" class=\"dataframe\">\n",
              "  <thead>\n",
              "    <tr style=\"text-align: right;\">\n",
              "      <th></th>\n",
              "      <th>PeriodOfDayCode</th>\n",
              "      <th>PeriodOfDay</th>\n",
              "      <th>DayOfWeekCode</th>\n",
              "      <th>DayOfWeek</th>\n",
              "      <th>EnergyUseClassCode</th>\n",
              "      <th>WattsTotal</th>\n",
              "      <th>EnergyConsumptionHabitCode</th>\n",
              "    </tr>\n",
              "    <tr>\n",
              "      <th>EnergyConsumptionHabit</th>\n",
              "      <th></th>\n",
              "      <th></th>\n",
              "      <th></th>\n",
              "      <th></th>\n",
              "      <th></th>\n",
              "      <th></th>\n",
              "      <th></th>\n",
              "    </tr>\n",
              "  </thead>\n",
              "  <tbody>\n",
              "    <tr>\n",
              "      <th>Out of home</th>\n",
              "      <td>11096</td>\n",
              "      <td>11096</td>\n",
              "      <td>11096</td>\n",
              "      <td>11096</td>\n",
              "      <td>11096</td>\n",
              "      <td>11096</td>\n",
              "      <td>11096</td>\n",
              "    </tr>\n",
              "    <tr>\n",
              "      <th>Someone is cooking</th>\n",
              "      <td>23586</td>\n",
              "      <td>23586</td>\n",
              "      <td>23586</td>\n",
              "      <td>23586</td>\n",
              "      <td>23586</td>\n",
              "      <td>23586</td>\n",
              "      <td>23586</td>\n",
              "    </tr>\n",
              "    <tr>\n",
              "      <th>Someone is taking a shower</th>\n",
              "      <td>3647</td>\n",
              "      <td>3647</td>\n",
              "      <td>3647</td>\n",
              "      <td>3647</td>\n",
              "      <td>3647</td>\n",
              "      <td>3647</td>\n",
              "      <td>3647</td>\n",
              "    </tr>\n",
              "    <tr>\n",
              "      <th>Someone is washing clothes</th>\n",
              "      <td>1066</td>\n",
              "      <td>1066</td>\n",
              "      <td>1066</td>\n",
              "      <td>1066</td>\n",
              "      <td>1066</td>\n",
              "      <td>1066</td>\n",
              "      <td>1066</td>\n",
              "    </tr>\n",
              "    <tr>\n",
              "      <th>Undefined</th>\n",
              "      <td>45056</td>\n",
              "      <td>45056</td>\n",
              "      <td>45056</td>\n",
              "      <td>45056</td>\n",
              "      <td>45056</td>\n",
              "      <td>45056</td>\n",
              "      <td>45056</td>\n",
              "    </tr>\n",
              "  </tbody>\n",
              "</table>\n",
              "</div>"
            ],
            "text/plain": [
              "                            PeriodOfDayCode  ...  EnergyConsumptionHabitCode\n",
              "EnergyConsumptionHabit                       ...                            \n",
              "Out of home                           11096  ...                       11096\n",
              "Someone is cooking                    23586  ...                       23586\n",
              "Someone is taking a shower             3647  ...                        3647\n",
              "Someone is washing clothes             1066  ...                        1066\n",
              "Undefined                             45056  ...                       45056\n",
              "\n",
              "[5 rows x 7 columns]"
            ]
          },
          "metadata": {},
          "execution_count": 194
        }
      ]
    },
    {
      "cell_type": "markdown",
      "metadata": {
        "id": "noJmUT685jqO"
      },
      "source": [
        "* Exibir quantidade de exemplos para os testes"
      ]
    },
    {
      "cell_type": "code",
      "metadata": {
        "colab": {
          "base_uri": "https://localhost:8080/",
          "height": 255
        },
        "id": "uZzm199c5UJl",
        "outputId": "93d5f7c5-9784-43e1-a88d-a3042a4ed194"
      },
      "source": [
        "data_set_for_test.groupby('EnergyConsumptionHabit').count()"
      ],
      "execution_count": 195,
      "outputs": [
        {
          "output_type": "execute_result",
          "data": {
            "text/html": [
              "<div>\n",
              "<style scoped>\n",
              "    .dataframe tbody tr th:only-of-type {\n",
              "        vertical-align: middle;\n",
              "    }\n",
              "\n",
              "    .dataframe tbody tr th {\n",
              "        vertical-align: top;\n",
              "    }\n",
              "\n",
              "    .dataframe thead th {\n",
              "        text-align: right;\n",
              "    }\n",
              "</style>\n",
              "<table border=\"1\" class=\"dataframe\">\n",
              "  <thead>\n",
              "    <tr style=\"text-align: right;\">\n",
              "      <th></th>\n",
              "      <th>PeriodOfDayCode</th>\n",
              "      <th>PeriodOfDay</th>\n",
              "      <th>DayOfWeekCode</th>\n",
              "      <th>DayOfWeek</th>\n",
              "      <th>EnergyUseClassCode</th>\n",
              "      <th>WattsTotal</th>\n",
              "      <th>EnergyConsumptionHabitCode</th>\n",
              "    </tr>\n",
              "    <tr>\n",
              "      <th>EnergyConsumptionHabit</th>\n",
              "      <th></th>\n",
              "      <th></th>\n",
              "      <th></th>\n",
              "      <th></th>\n",
              "      <th></th>\n",
              "      <th></th>\n",
              "      <th></th>\n",
              "    </tr>\n",
              "  </thead>\n",
              "  <tbody>\n",
              "    <tr>\n",
              "      <th>Out of home</th>\n",
              "      <td>2783</td>\n",
              "      <td>2783</td>\n",
              "      <td>2783</td>\n",
              "      <td>2783</td>\n",
              "      <td>2783</td>\n",
              "      <td>2783</td>\n",
              "      <td>2783</td>\n",
              "    </tr>\n",
              "    <tr>\n",
              "      <th>Someone is cooking</th>\n",
              "      <td>5901</td>\n",
              "      <td>5901</td>\n",
              "      <td>5901</td>\n",
              "      <td>5901</td>\n",
              "      <td>5901</td>\n",
              "      <td>5901</td>\n",
              "      <td>5901</td>\n",
              "    </tr>\n",
              "    <tr>\n",
              "      <th>Someone is taking a shower</th>\n",
              "      <td>923</td>\n",
              "      <td>923</td>\n",
              "      <td>923</td>\n",
              "      <td>923</td>\n",
              "      <td>923</td>\n",
              "      <td>923</td>\n",
              "      <td>923</td>\n",
              "    </tr>\n",
              "    <tr>\n",
              "      <th>Someone is washing clothes</th>\n",
              "      <td>270</td>\n",
              "      <td>270</td>\n",
              "      <td>270</td>\n",
              "      <td>270</td>\n",
              "      <td>270</td>\n",
              "      <td>270</td>\n",
              "      <td>270</td>\n",
              "    </tr>\n",
              "    <tr>\n",
              "      <th>Undefined</th>\n",
              "      <td>11279</td>\n",
              "      <td>11279</td>\n",
              "      <td>11279</td>\n",
              "      <td>11279</td>\n",
              "      <td>11279</td>\n",
              "      <td>11279</td>\n",
              "      <td>11279</td>\n",
              "    </tr>\n",
              "  </tbody>\n",
              "</table>\n",
              "</div>"
            ],
            "text/plain": [
              "                            PeriodOfDayCode  ...  EnergyConsumptionHabitCode\n",
              "EnergyConsumptionHabit                       ...                            \n",
              "Out of home                            2783  ...                        2783\n",
              "Someone is cooking                     5901  ...                        5901\n",
              "Someone is taking a shower              923  ...                         923\n",
              "Someone is washing clothes              270  ...                         270\n",
              "Undefined                             11279  ...                       11279\n",
              "\n",
              "[5 rows x 7 columns]"
            ]
          },
          "metadata": {},
          "execution_count": 195
        }
      ]
    },
    {
      "cell_type": "markdown",
      "metadata": {
        "id": "EFRJgrRyYX3d"
      },
      "source": [
        "* Salvar Datasets de Treinamento e tests"
      ]
    },
    {
      "cell_type": "code",
      "metadata": {
        "id": "FlGvd2vmHGm3"
      },
      "source": [
        "data_set_for_train.to_csv('data_set_for_train.csv')\n",
        "data_set_for_test.to_csv('data_set_for_test.csv')"
      ],
      "execution_count": 197,
      "outputs": []
    }
  ]
}