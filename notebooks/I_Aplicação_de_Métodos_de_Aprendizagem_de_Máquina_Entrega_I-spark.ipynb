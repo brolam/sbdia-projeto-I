{
 "cells": [
  {
   "cell_type": "markdown",
   "metadata": {
    "id": "5QQcoAZ0WVFy"
   },
   "source": [
    "**Identificação**: BRENO ALAN ALVES MARQUES (2462286)\n",
    "\n",
    "# [Domótica] Classificar as tarefas mais rotineiras de uma habitação\n",
    " \n",
    "A automação residencial é uma área em desenvolvimento, e atualmente impulsionada com o avanço da Internet das Coisas. O termo domótica é usado para caracterizar a integração dos mecanismos automáticos de um espaço residencial. *Adami, Anna. «Domótica». InfoEscola Consultado em 12 de abril de 2018*.\n",
    " \n",
    "Através da Internet das Coisas, será possível integrar dispositivos com o objetivo de automatizar tarefas de uma residência. E assim proporcionar aos moradores mais conforto, segurança e economizar tempo para realizar tarefas que podem ser automatizadas por dispositivos inteligentes e conectados a sensores fornecedores de informações sobre a residência e moradores.\n",
    " \n",
    "No cenário em que a energia elétrica e outros recursos são mais escassos, uma tarefa simples de desligar automaticamente dispositivos indevidamente ligados, é uma automação importante na economia de recursos e na segurança dos moradores.\n",
    " \n",
    "Sendo assim, as informações fornecidas por sensores são fundamentais para permitir que dispositivos sejam acionados ou desligados automaticamente conforme as tarefas rotineiras de uma residência.\n",
    " \n",
    "**Objetivo**\n",
    " > Esse projeto tem como objetivo aplicar algoritmos de machine learning para categorizar as tarefas rotineiras de uma residência lendo informações de um sensor que mede o consumo de energia de uma residência.\n",
    " \n",
    "**Especificação Técnica**\n",
    " \n",
    "> Dataset: Para desenvolvimento desse projeto, será utilizado o dataset disponível em: <https://github.com/brolam/sbdia-projeto-I/>.\n",
    " \n",
    "> O dataset supracitado foi gerado pelo projeto *OHA - Open Home Analysis*, de minha autoria e disponível em <https://github.com/brolam/OpenHomeAnalysis>. \n",
    " \n",
    "> O OHA fornece uma solução completa para registrar o consumo de energia de uma residência. Disponibilizando instruções e códigos fonte para desenvolver uma sensor e aplicativo para gerar o dataset que será a fonte de dados desse projeto.\n",
    " \n",
    "> Formato: A base de dados está em formato CSV e com a estrutura abaixo:\n"
   ]
  },
  {
   "cell_type": "code",
   "execution_count": 1,
   "metadata": {
    "colab": {
     "base_uri": "https://localhost:8080/",
     "height": 206
    },
    "id": "akHj9HvQxqbf",
    "outputId": "8e676869-82ab-4ee3-8e62-c4c991448623",
    "tags": []
   },
   "outputs": [
    {
     "name": "stdout",
     "output_type": "stream",
     "text": [
      "root\n",
      " |-- Day: integer (nullable = true)\n",
      " |-- Hour: integer (nullable = true)\n",
      " |-- PeriodOfDay: string (nullable = true)\n",
      " |-- DayOfWeek: string (nullable = true)\n",
      " |-- UnixTime: integer (nullable = true)\n",
      " |-- Duration: integer (nullable = true)\n",
      " |-- Watts1: double (nullable = true)\n",
      " |-- Watts2: double (nullable = true)\n",
      " |-- Watts3: integer (nullable = true)\n",
      " |-- WattsTotal: double (nullable = true)\n",
      "\n"
     ]
    }
   ],
   "source": [
    "from pyspark.sql import SparkSession\n",
    "\n",
    "spark = SparkSession \\\n",
    "    .builder \\\n",
    "    .appName(\"how to read csv file\") \\\n",
    "    .getOrCreate()\n",
    "\n",
    "df = spark.read \\\n",
    ".option(\"header\",\"true\") \\\n",
    ".option(\"inferSchema\",\"true\") \\\n",
    ".csv('../data/OHA-2021-8.csv')\n",
    "\n",
    "df.printSchema()\n",
    "\n",
    "spark.stop()"
   ]
  },
  {
   "cell_type": "markdown",
   "metadata": {
    "id": "BBd9m1USxrim"
   },
   "source": [
    "* Day: \n",
    " * Dia do mês, com valores entre 1 e 31;\n",
    "* Hour:\n",
    " * Hora do dia, com valores entre 0 a 23;\n",
    "* PeriodOfDay:\n",
    " * Período do Dia, com os seguintes valores: \n",
    "    * EarlyMorning;\n",
    "    * Morning;\n",
    "    * Noon;\n",
    "    * Eve;\n",
    "    * Night;\n",
    "    * LateNight;\n",
    "* DayOfWeek:\n",
    "  * Dias da semana, com os seguintes valores: \n",
    "    * Sunday;\n",
    "    * Monday;\n",
    "    * Tuesday;\n",
    "    * Wednesday;\n",
    "    * Thursday;\n",
    "    * Friday;\n",
    "    * Saturday;\n",
    "* UnixTime:\n",
    "    * Data no formato Unix epoch.\n",
    "* Duration:\n",
    "  * Duração do registro do consumo de energia, calculado sobre a hora, minuto e segundo do início e fim do registro de consumo de energia registrado pelo o sensor.\n",
    "* Watts1:\n",
    "  * Média em Watts da Fase 1, registrados entre o início e fim da leitura do consumo de energia pelo o sensor.\n",
    "* Watts2:\n",
    "  * Média em Watts da Fase 2, registrados entre o início e fim da leitura do consumo de energia pelo o sensor.\n",
    "* Watts3:\n",
    "  * Média em Watts da Fase 3, registrados entre o início e fim da leitura do consumo de energia pelo o sensor.\n",
    "* WattsTotal:\n",
    "  * Soma da média em Watts das fases 1,2 e 3.\n",
    "\n",
    "\n",
    "\n"
   ]
  },
  {
   "cell_type": "markdown",
   "metadata": {
    "id": "p9of893hn-gc"
   },
   "source": [
    "**Métodos de Pŕe-processamento**:\n",
    "> O sensor instalado no meu apartamento, registra mais de cento e cinquenta mil registros de consumo de energia por mês. Registrando o consumo por fase, como é possível observar no DataSet. Também é importante destacar, que não foi detectado inconsistência nos dados, sendo assim, não será necessário realizar a limpeza da base no   pré-processamento que está dividido conforme passos abaixo:\n",
    "* Codificação de rótulo - as colunas PeriodOfDay e DayOfWeek passarão pelo processo de Codificação de rótulo;\n",
    "* Normalização dos dados - aplicar a normalização dos atributos previsores; \n",
    " \n",
    "> Tarefa de Aprendizado: Será aplicado a tarefa de Classificação avaliado os algoritmos KNN, Naïve Bayes e RNAs:\n",
    "* Análise exploratória, aplicar o algoritmo KNN com o objetivo de identificar os principais grupos nos dados;\n",
    "* Rotular os grupos detectados pelo o KNN;\n",
    "* Gerar um base de treinamento;\n",
    "* Realizar o treinamento utilizando o algoritmo Naïve Bayes;\n",
    "* Realizar o treinamento utilizando o algoritmo RNAs;\n",
    "* Comparar a eficiência entre os algoritmos Naïve Bayes e RNAs"
   ]
  }
 ],
 "metadata": {
  "colab": {
   "collapsed_sections": [],
   "name": "I - Aplicação de Métodos de Aprendizagem de Máquina  - Entrega I",
   "provenance": []
  },
  "kernelspec": {
   "display_name": "Python 3 (ipykernel)",
   "language": "python",
   "name": "python3"
  },
  "language_info": {
   "codemirror_mode": {
    "name": "ipython",
    "version": 3
   },
   "file_extension": ".py",
   "mimetype": "text/x-python",
   "name": "python",
   "nbconvert_exporter": "python",
   "pygments_lexer": "ipython3",
   "version": "3.10.11"
  }
 },
 "nbformat": 4,
 "nbformat_minor": 4
}
